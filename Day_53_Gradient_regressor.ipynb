{
  "nbformat": 4,
  "nbformat_minor": 0,
  "metadata": {
    "colab": {
      "provenance": [],
      "authorship_tag": "ABX9TyO47hFf4orxiP5r0mTNiESa",
      "include_colab_link": true
    },
    "kernelspec": {
      "name": "python3",
      "display_name": "Python 3"
    },
    "language_info": {
      "name": "python"
    }
  },
  "cells": [
    {
      "cell_type": "markdown",
      "metadata": {
        "id": "view-in-github",
        "colab_type": "text"
      },
      "source": [
        "<a href=\"https://colab.research.google.com/github/Manish-k723/100-days-of-ML/blob/main/Day_53_Gradient_regressor.ipynb\" target=\"_parent\"><img src=\"https://colab.research.google.com/assets/colab-badge.svg\" alt=\"Open In Colab\"/></a>"
      ]
    },
    {
      "cell_type": "code",
      "execution_count": 44,
      "metadata": {
        "id": "_c8gYUhh6xg_"
      },
      "outputs": [],
      "source": [
        "from sklearn.datasets import make_regression\n",
        "import matplotlib.pyplot as plt \n",
        "import numpy as np\n",
        "from sklearn.model_selection import train_test_split as tts"
      ]
    },
    {
      "cell_type": "code",
      "source": [
        "X, y = make_regression(n_samples = 100, n_features = 1, n_targets = 1, n_informative = 1, noise = 30, random_state = 42)"
      ],
      "metadata": {
        "id": "LuqlsrBz65sN"
      },
      "execution_count": 45,
      "outputs": []
    },
    {
      "cell_type": "code",
      "source": [
        "plt.scatter(X,y)"
      ],
      "metadata": {
        "colab": {
          "base_uri": "https://localhost:8080/",
          "height": 447
        },
        "id": "GMyPN9yg7GLT",
        "outputId": "4a5b6bc8-c0a4-4da4-b7af-ced506c715d4"
      },
      "execution_count": 46,
      "outputs": [
        {
          "output_type": "execute_result",
          "data": {
            "text/plain": [
              "<matplotlib.collections.PathCollection at 0x7fee2da41960>"
            ]
          },
          "metadata": {},
          "execution_count": 46
        },
        {
          "output_type": "display_data",
          "data": {
            "text/plain": [
              "<Figure size 640x480 with 1 Axes>"
            ],
            "image/png": "[encoded data removed]"
          },
          "metadata": {}
        }
      ]
    },
    {
      "cell_type": "code",
      "source": [
        "X_train, X_test, y_train, y_test = tts(X,y, test_size = 0.2, random_state = 42)"
      ],
      "metadata": {
        "id": "HXjFc35bFEeO"
      },
      "execution_count": 50,
      "outputs": []
    },
    {
      "cell_type": "code",
      "source": [
        "from sklearn.linear_model import LinearRegression\n",
        "model = LinearRegression()\n",
        "model.fit(X_train,y_train)\n",
        "model.coef_, model.intercept_"
      ],
      "metadata": {
        "colab": {
          "base_uri": "https://localhost:8080/"
        },
        "id": "ozgo0_i77MIb",
        "outputId": "5f01dd51-1e54-4435-a88c-ca568c35a7e1"
      },
      "execution_count": 51,
      "outputs": [
        {
          "output_type": "execute_result",
          "data": {
            "text/plain": [
              "(array([49.25034584]), 0.2976666426776342)"
            ]
          },
          "metadata": {},
          "execution_count": 51
        }
      ]
    },
    {
      "cell_type": "code",
      "source": [
        "from sklearn.model_selection import cross_val_score\n",
        "np.mean(cross_val_score(model, X_test, y_test, scoring='r2', cv = 5))"
      ],
      "metadata": {
        "colab": {
          "base_uri": "https://localhost:8080/"
        },
        "id": "vZRoClqsC7t3",
        "outputId": "03e4c3e5-9b07-4a52-b4dd-9cd370428ee6"
      },
      "execution_count": 52,
      "outputs": [
        {
          "output_type": "execute_result",
          "data": {
            "text/plain": [
              "0.023633983891282927"
            ]
          },
          "metadata": {},
          "execution_count": 52
        }
      ]
    },
    {
      "cell_type": "code",
      "source": [
        "class gbregressor():\n",
        "  def __init__(self, learning_rate, epochs):\n",
        "    self.b = 0\n",
        "    self.m = 100\n",
        "    self.lr = learning_rate\n",
        "    self.epochs = epochs\n",
        "\n",
        "  def fit(self, X, y):\n",
        "    for i in range(self.epochs):\n",
        "      loss_slope_b = -2*np.sum(y- (self.m*X.ravel())-self.b)\n",
        "      loss_slope_m = -2*np.sum((y- (self.m*X.ravel())-self.b)*X.ravel())\n",
        "      self.b = self.b-self.lr*loss_slope_b\n",
        "      self.m = self.m-self.lr*loss_slope_m\n",
        "    print(self.m,self.b)\n",
        "\n",
        "  def predict(self,X):\n",
        "    return self.m*X+self.b\n",
        "    "
      ],
      "metadata": {
        "id": "XFNRgzFv7c7j"
      },
      "execution_count": 53,
      "outputs": []
    },
    {
      "cell_type": "code",
      "source": [
        "gd = gbregressor(0.001, 60)"
      ],
      "metadata": {
        "id": "EY3MyFpa8T2b"
      },
      "execution_count": 54,
      "outputs": []
    },
    {
      "cell_type": "code",
      "source": [
        "gd.fit(X,y)"
      ],
      "metadata": {
        "colab": {
          "base_uri": "https://localhost:8080/"
        },
        "id": "iVZP8EYV9EK0",
        "outputId": "2c7f6c0d-fad5-4188-890e-d923720108de"
      },
      "execution_count": 55,
      "outputs": [
        {
          "output_type": "stream",
          "name": "stdout",
          "text": [
            "49.83086175207917 3.496054244006766\n"
          ]
        }
      ]
    },
    {
      "cell_type": "code",
      "source": [
        "from sklearn.metrics import r2_score"
      ],
      "metadata": {
        "id": "KLKOpEnWE0Io"
      },
      "execution_count": 56,
      "outputs": []
    },
    {
      "cell_type": "code",
      "source": [
        "r2_score(gd.predict(X_test), y_test)"
      ],
      "metadata": {
        "colab": {
          "base_uri": "https://localhost:8080/"
        },
        "id": "ISMJ5Lvo8ZbY",
        "outputId": "675076fa-c8ec-4f37-a5f7-9521914123c4"
      },
      "execution_count": 57,
      "outputs": [
        {
          "output_type": "execute_result",
          "data": {
            "text/plain": [
              "0.5731015877303112"
            ]
          },
          "metadata": {},
          "execution_count": 57
        }
      ]
    },
    {
      "cell_type": "code",
      "source": [
        "%matplotlib notebook\n",
        "from matplotlib.animation import FuncAnimation\n",
        "import matplotlib.animation as animation"
      ],
      "metadata": {
        "id": "MJmKWyg-8bWf"
      },
      "execution_count": 58,
      "outputs": []
    },
    {
      "cell_type": "code",
      "source": [
        "b = -520\n",
        "m = 600\n",
        "lr = 0.001\n",
        "all_b = []\n",
        "all_m = []\n",
        "all_cost = []\n",
        "\n",
        "epochs = 30\n",
        "\n",
        "for i in range(epochs):\n",
        "    slope_b = 0\n",
        "    slope_m = 0\n",
        "    cost = 0\n",
        "    for j in range(X.shape[0]):\n",
        "        slope_b = slope_b - 2*(y[j] - (m * X[j]) -  b)\n",
        "        slope_m = slope_m - 2*(y[j] - (m * X[j]) -  b)*X[j]\n",
        "        cost = cost + (y[j] - m * X[j] -b) ** 2\n",
        "\n",
        "    b = b - (lr * slope_b)\n",
        "    m = m - (lr * slope_m)\n",
        "    all_b.append(b)\n",
        "    all_m.append(m)\n",
        "    all_cost.append(cost)"
      ],
      "metadata": {
        "id": "aeTV2SokLYyR"
      },
      "execution_count": null,
      "outputs": []
    },
    {
      "cell_type": "code",
      "source": [
        "fig, ax = plt.subplots(figsize=(9,5))\n",
        "#fig.set_tight_layout(True)\n",
        "\n",
        "x_i = np.arange(-3, 3, 0.1)\n",
        "y_i = x_i*(-27) -150\n",
        "ax.scatter(X, y)\n",
        "line, = ax.plot(x_i, x_i*50 - 4, 'r-', linewidth=2)\n",
        "\n",
        "def update(i):\n",
        "    label = 'epoch {0}'.format(i + 1)\n",
        "    line.set_ydata(x_i*all_m[i] + all_b[i])\n",
        "    ax.set_xlabel(label)\n",
        "    # return line, ax\n",
        "\n",
        "anim = FuncAnimation(fig, update, repeat=True, frames=epochs, interval=500)"
      ],
      "metadata": {
        "id": "cVZb4_ZzLS8o"
      },
      "execution_count": null,
      "outputs": []
    },
    {
      "cell_type": "code",
      "source": [
        "# Cost function\n",
        "# creating a blank window \n",
        "# for the animation \n",
        "num_epochs = list(range(0,30))\n",
        "fig = plt.figure(figsize=(9,5)) \n",
        "axis = plt.axes(xlim =(0, 31), ylim =(0, 4500000)) \n",
        "  \n",
        "line, = axis.plot([], [], lw = 2) \n",
        "  \n",
        "xdata, ydata = [], [] \n",
        "  \n",
        "# animation function \n",
        "def animate(i): \n",
        "    label = 'epoch {0}'.format(i + 1)\n",
        "    xdata.append(num_epochs[i]) \n",
        "    ydata.append(all_cost[i]) \n",
        "    line.set_data(xdata, ydata) \n",
        "    axis.set_xlabel(label)\n",
        "      \n",
        "    return line, \n",
        "  \n",
        "# calling the animation function     \n",
        "anim = animation.FuncAnimation(fig, animate, frames = 30,repeat=False, interval = 500)\n",
        "\n",
        "f = r\"animation5.gif\" \n",
        "writergif = animation.PillowWriter(fps=2) \n",
        "anim.save(f, writer=writergif)"
      ],
      "metadata": {
        "id": "KreHy8PiLdfj"
      },
      "execution_count": null,
      "outputs": []
    },
    {
      "cell_type": "code",
      "source": [
        "# intercept graph\n",
        "num_epochs = list(range(0,30))\n",
        "fig = plt.figure(figsize=(9,5)) \n",
        "axis = plt.axes(xlim =(0, 31), ylim =(-10, 160)) \n",
        "  \n",
        "line, = axis.plot([], [], lw = 2) \n",
        "  \n",
        "xdata, ydata = [], [] \n",
        "  \n",
        "# animation function \n",
        "def animate(i): \n",
        "    label = 'epoch {0}'.format(i + 1)\n",
        "    xdata.append(num_epochs[i]) \n",
        "    ydata.append(all_b[i]) \n",
        "    line.set_data(xdata, ydata) \n",
        "    axis.set_xlabel(label)\n",
        "      \n",
        "    return line, \n",
        "  \n",
        "# calling the animation function     \n",
        "anim = animation.FuncAnimation(fig, animate, frames = 30,repeat=False, interval = 500)\n",
        "\n",
        "f = r\"animation6.gif\" \n",
        "writergif = animation.PillowWriter(fps=2) \n",
        "anim.save(f, writer=writergif)\n"
      ],
      "metadata": {
        "id": "hOI2DDEvLhyT"
      },
      "execution_count": null,
      "outputs": []
    },
    {
      "cell_type": "code",
      "source": [
        "# intercept graph\n",
        "num_epochs = list(range(0,30))\n",
        "fig = plt.figure(figsize=(9,5)) \n",
        "axis = plt.axes(xlim =(0, 31), ylim =(-150, 50)) \n",
        "  \n",
        "line, = axis.plot([], [], lw = 2) \n",
        "  \n",
        "xdata, ydata = [], [] \n",
        "  \n",
        "# animation function \n",
        "def animate(i): \n",
        "    label = 'epoch {0}'.format(i + 1)\n",
        "    xdata.append(num_epochs[i]) \n",
        "    ydata.append(all_m[i]) \n",
        "    line.set_data(xdata, ydata) \n",
        "    axis.set_xlabel(label)\n",
        "      \n",
        "    return line, \n",
        "  \n",
        "# calling the animation function     \n",
        "anim = animation.FuncAnimation(fig, animate, frames = 30,repeat=False, interval = 500)\n",
        "\n",
        "f = r\"animation7.gif\" \n",
        "writergif = animation.PillowWriter(fps=2) \n",
        "anim.save(f, writer=writergif)"
      ],
      "metadata": {
        "id": "ui6UqftyLlia"
      },
      "execution_count": null,
      "outputs": []
    }
  ]
}