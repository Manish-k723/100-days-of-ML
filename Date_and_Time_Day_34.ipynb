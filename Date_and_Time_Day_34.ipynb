{
  "nbformat": 4,
  "nbformat_minor": 0,
  "metadata": {
    "colab": {
      "provenance": [],
      "authorship_tag": "ABX9TyOWv7BIvqiPx8D0R7P1aACi",
      "include_colab_link": true
    },
    "kernelspec": {
      "name": "python3",
      "display_name": "Python 3"
    },
    "language_info": {
      "name": "python"
    }
  },
  "cells": [
    {
      "cell_type": "markdown",
      "metadata": {
        "id": "view-in-github",
        "colab_type": "text"
      },
      "source": [
        "<a href=\"https://colab.research.google.com/github/Manish-k723/100-days-of-ML/blob/main/Date_and_Time_Day_34.ipynb\" target=\"_parent\"><img src=\"https://colab.research.google.com/assets/colab-badge.svg\" alt=\"Open In Colab\"/></a>"
      ]
    },
    {
      "cell_type": "code",
      "execution_count": 1,
      "metadata": {
        "id": "l1vPdsL0BCMu"
      },
      "outputs": [],
      "source": [
        "import pandas as pd\n",
        "import numpy as np"
      ]
    },
    {
      "cell_type": "code",
      "source": [
        "message_df = pd.read_csv('https://raw.githubusercontent.com/campusx-official/100-days-of-machine-learning/main/day34-handling-date-and-time/messages.csv',parse_dates = ['date'])\n",
        "orders_df = pd.read_csv('https://raw.githubusercontent.com/campusx-official/100-days-of-machine-learning/main/day34-handling-date-and-time/orders.csv',parse_dates = ['date'])\n"
      ],
      "metadata": {
        "id": "MQ7ycFYJBK33"
      },
      "execution_count": 14,
      "outputs": []
    },
    {
      "cell_type": "code",
      "source": [
        "message_df"
      ],
      "metadata": {
        "colab": {
          "base_uri": "https://localhost:8080/",
          "height": 424
        },
        "id": "NZ7836CgBpuN",
        "outputId": "211557b9-a1b2-46b3-8bb6-dccde6704c3e"
      },
      "execution_count": 15,
      "outputs": [
        {
          "output_type": "execute_result",
          "data": {
            "text/plain": [
              "                   date                                                msg\n",
              "0   2013-12-15 00:50:00                           ищу на сегодня мужика 37\n",
              "1   2014-04-29 23:40:00   ПАРЕНЬ БИ ИЩЕТ ДРУГА СЕЙЧАС!! СМС ММС 0955532826\n",
              "2   2012-12-30 00:21:00           Днепр.м 43 позн.с д/ж *.о  067.16.34.576\n",
              "3   2014-11-28 00:31:00  КИЕВ ИЩУ Д/Ж ДО 45 МНЕ СЕЙЧАС СКУЧНО 093 629 9...\n",
              "4   2013-10-26 23:11:00    Зая я тебя никогда не обижу  люблю тебя!)  Даше\n",
              "..                  ...                                                ...\n",
              "995 2012-03-16 00:50:00     ПАРЕНЬ СДЕЛАЕТ  МАССАЖ ЖЕНЩИНАМ -066-877-32-44\n",
              "996 2014-01-23 23:14:00            сельский п 23 ищу девушку для отношений\n",
              "997 2012-10-15 23:37:00  Д+Д ДЛЯ серьезных отношений. Мой номер 093-156...\n",
              "998 2012-06-21 23:34:00  7 ДНЕПР М.34 ПОЗ.С Д/Ж ДЛЯ ВСТРЕЧ.Т.098 809 15 14\n",
              "999 2014-06-19 23:25:00          Парень поласкает девушке...  т.0662035584\n",
              "\n",
              "[1000 rows x 2 columns]"
            ],
            "text/html": [
              "\n",
              "  <div id=\"df-98c38092-0323-40cf-8fb8-a7ed1ea9272d\">\n",
              "    <div class=\"colab-df-container\">\n",
              "      <div>\n",
              "<style scoped>\n",
              "    .dataframe tbody tr th:only-of-type {\n",
              "        vertical-align: middle;\n",
              "    }\n",
              "\n",
              "    .dataframe tbody tr th {\n",
              "        vertical-align: top;\n",
              "    }\n",
              "\n",
              "    .dataframe thead th {\n",
              "        text-align: right;\n",
              "    }\n",
              "</style>\n",
              "<table border=\"1\" class=\"dataframe\">\n",
              "  <thead>\n",
              "    <tr style=\"text-align: right;\">\n",
              "      <th></th>\n",
              "      <th>date</th>\n",
              "      <th>msg</th>\n",
              "    </tr>\n",
              "  </thead>\n",
              "  <tbody>\n",
              "    <tr>\n",
              "      <th>0</th>\n",
              "      <td>2013-12-15 00:50:00</td>\n",
              "      <td>ищу на сегодня мужика 37</td>\n",
              "    </tr>\n",
              "    <tr>\n",
              "      <th>1</th>\n",
              "      <td>2014-04-29 23:40:00</td>\n",
              "      <td>ПАРЕНЬ БИ ИЩЕТ ДРУГА СЕЙЧАС!! СМС ММС 0955532826</td>\n",
              "    </tr>\n",
              "    <tr>\n",
              "      <th>2</th>\n",
              "      <td>2012-12-30 00:21:00</td>\n",
              "      <td>Днепр.м 43 позн.с д/ж *.о  067.16.34.576</td>\n",
              "    </tr>\n",
              "    <tr>\n",
              "      <th>3</th>\n",
              "      <td>2014-11-28 00:31:00</td>\n",
              "      <td>КИЕВ ИЩУ Д/Ж ДО 45 МНЕ СЕЙЧАС СКУЧНО 093 629 9...</td>\n",
              "    </tr>\n",
              "    <tr>\n",
              "      <th>4</th>\n",
              "      <td>2013-10-26 23:11:00</td>\n",
              "      <td>Зая я тебя никогда не обижу  люблю тебя!)  Даше</td>\n",
              "    </tr>\n",
              "    <tr>\n",
              "      <th>...</th>\n",
              "      <td>...</td>\n",
              "      <td>...</td>\n",
              "    </tr>\n",
              "    <tr>\n",
              "      <th>995</th>\n",
              "      <td>2012-03-16 00:50:00</td>\n",
              "      <td>ПАРЕНЬ СДЕЛАЕТ  МАССАЖ ЖЕНЩИНАМ -066-877-32-44</td>\n",
              "    </tr>\n",
              "    <tr>\n",
              "      <th>996</th>\n",
              "      <td>2014-01-23 23:14:00</td>\n",
              "      <td>сельский п 23 ищу девушку для отношений</td>\n",
              "    </tr>\n",
              "    <tr>\n",
              "      <th>997</th>\n",
              "      <td>2012-10-15 23:37:00</td>\n",
              "      <td>Д+Д ДЛЯ серьезных отношений. Мой номер 093-156...</td>\n",
              "    </tr>\n",
              "    <tr>\n",
              "      <th>998</th>\n",
              "      <td>2012-06-21 23:34:00</td>\n",
              "      <td>7 ДНЕПР М.34 ПОЗ.С Д/Ж ДЛЯ ВСТРЕЧ.Т.098 809 15 14</td>\n",
              "    </tr>\n",
              "    <tr>\n",
              "      <th>999</th>\n",
              "      <td>2014-06-19 23:25:00</td>\n",
              "      <td>Парень поласкает девушке...  т.0662035584</td>\n",
              "    </tr>\n",
              "  </tbody>\n",
              "</table>\n",
              "<p>1000 rows × 2 columns</p>\n",
              "</div>\n",
              "      <button class=\"colab-df-convert\" onclick=\"convertToInteractive('df-98c38092-0323-40cf-8fb8-a7ed1ea9272d')\"\n",
              "              title=\"Convert this dataframe to an interactive table.\"\n",
              "              style=\"display:none;\">\n",
              "        \n",
              "  <svg xmlns=\"http://www.w3.org/2000/svg\" height=\"24px\"viewBox=\"0 0 24 24\"\n",
              "       width=\"24px\">\n",
              "    <path d=\"M0 0h24v24H0V0z\" fill=\"none\"/>\n",
              "    <path d=\"M18.56 5.44l.94 2.06.94-2.06 2.06-.94-2.06-.94-.94-2.06-.94 2.06-2.06.94zm-11 1L8.5 8.5l.94-2.06 2.06-.94-2.06-.94L8.5 2.5l-.94 2.06-2.06.94zm10 10l.94 2.06.94-2.06 2.06-.94-2.06-.94-.94-2.06-.94 2.06-2.06.94z\"/><path d=\"M17.41 7.96l-1.37-1.37c-.4-.4-.92-.59-1.43-.59-.52 0-1.04.2-1.43.59L10.3 9.45l-7.72 7.72c-.78.78-.78 2.05 0 2.83L4 21.41c.39.39.9.59 1.41.59.51 0 1.02-.2 1.41-.59l7.78-7.78 2.81-2.81c.8-.78.8-2.07 0-2.86zM5.41 20L4 18.59l7.72-7.72 1.47 1.35L5.41 20z\"/>\n",
              "  </svg>\n",
              "      </button>\n",
              "      \n",
              "  <style>\n",
              "    .colab-df-container {\n",
              "      display:flex;\n",
              "      flex-wrap:wrap;\n",
              "      gap: 12px;\n",
              "    }\n",
              "\n",
              "    .colab-df-convert {\n",
              "      background-color: #E8F0FE;\n",
              "      border: none;\n",
              "      border-radius: 50%;\n",
              "      cursor: pointer;\n",
              "      display: none;\n",
              "      fill: #1967D2;\n",
              "      height: 32px;\n",
              "      padding: 0 0 0 0;\n",
              "      width: 32px;\n",
              "    }\n",
              "\n",
              "    .colab-df-convert:hover {\n",
              "      background-color: #E2EBFA;\n",
              "      box-shadow: 0px 1px 2px rgba(60, 64, 67, 0.3), 0px 1px 3px 1px rgba(60, 64, 67, 0.15);\n",
              "      fill: #174EA6;\n",
              "    }\n",
              "\n",
              "    [theme=dark] .colab-df-convert {\n",
              "      background-color: #3B4455;\n",
              "      fill: #D2E3FC;\n",
              "    }\n",
              "\n",
              "    [theme=dark] .colab-df-convert:hover {\n",
              "      background-color: #434B5C;\n",
              "      box-shadow: 0px 1px 3px 1px rgba(0, 0, 0, 0.15);\n",
              "      filter: drop-shadow(0px 1px 2px rgba(0, 0, 0, 0.3));\n",
              "      fill: #FFFFFF;\n",
              "    }\n",
              "  </style>\n",
              "\n",
              "      <script>\n",
              "        const buttonEl =\n",
              "          document.querySelector('#df-98c38092-0323-40cf-8fb8-a7ed1ea9272d button.colab-df-convert');\n",
              "        buttonEl.style.display =\n",
              "          google.colab.kernel.accessAllowed ? 'block' : 'none';\n",
              "\n",
              "        async function convertToInteractive(key) {\n",
              "          const element = document.querySelector('#df-98c38092-0323-40cf-8fb8-a7ed1ea9272d');\n",
              "          const dataTable =\n",
              "            await google.colab.kernel.invokeFunction('convertToInteractive',\n",
              "                                                     [key], {});\n",
              "          if (!dataTable) return;\n",
              "\n",
              "          const docLinkHtml = 'Like what you see? Visit the ' +\n",
              "            '<a target=\"_blank\" href=https://colab.research.google.com/notebooks/data_table.ipynb>data table notebook</a>'\n",
              "            + ' to learn more about interactive tables.';\n",
              "          element.innerHTML = '';\n",
              "          dataTable['output_type'] = 'display_data';\n",
              "          await google.colab.output.renderOutput(dataTable, element);\n",
              "          const docLink = document.createElement('div');\n",
              "          docLink.innerHTML = docLinkHtml;\n",
              "          element.appendChild(docLink);\n",
              "        }\n",
              "      </script>\n",
              "    </div>\n",
              "  </div>\n",
              "  "
            ]
          },
          "metadata": {},
          "execution_count": 15
        }
      ]
    },
    {
      "cell_type": "code",
      "source": [
        "orders_df.head()"
      ],
      "metadata": {
        "colab": {
          "base_uri": "https://localhost:8080/",
          "height": 206
        },
        "id": "Wih7yfftBrVA",
        "outputId": "e3263804-e67d-4ee4-8e06-b8b6146d91ce"
      },
      "execution_count": 16,
      "outputs": [
        {
          "output_type": "execute_result",
          "data": {
            "text/plain": [
              "        date  product_id  city_id  orders\n",
              "0 2019-12-10        5628       25       3\n",
              "1 2018-08-15        3646       14     157\n",
              "2 2018-10-23        1859       25       1\n",
              "3 2019-08-17        7292       25       1\n",
              "4 2019-01-06        4344       25       3"
            ],
            "text/html": [
              "\n",
              "  <div id=\"df-1ab41180-c119-47ba-a40a-645d24dbaeee\">\n",
              "    <div class=\"colab-df-container\">\n",
              "      <div>\n",
              "<style scoped>\n",
              "    .dataframe tbody tr th:only-of-type {\n",
              "        vertical-align: middle;\n",
              "    }\n",
              "\n",
              "    .dataframe tbody tr th {\n",
              "        vertical-align: top;\n",
              "    }\n",
              "\n",
              "    .dataframe thead th {\n",
              "        text-align: right;\n",
              "    }\n",
              "</style>\n",
              "<table border=\"1\" class=\"dataframe\">\n",
              "  <thead>\n",
              "    <tr style=\"text-align: right;\">\n",
              "      <th></th>\n",
              "      <th>date</th>\n",
              "      <th>product_id</th>\n",
              "      <th>city_id</th>\n",
              "      <th>orders</th>\n",
              "    </tr>\n",
              "  </thead>\n",
              "  <tbody>\n",
              "    <tr>\n",
              "      <th>0</th>\n",
              "      <td>2019-12-10</td>\n",
              "      <td>5628</td>\n",
              "      <td>25</td>\n",
              "      <td>3</td>\n",
              "    </tr>\n",
              "    <tr>\n",
              "      <th>1</th>\n",
              "      <td>2018-08-15</td>\n",
              "      <td>3646</td>\n",
              "      <td>14</td>\n",
              "      <td>157</td>\n",
              "    </tr>\n",
              "    <tr>\n",
              "      <th>2</th>\n",
              "      <td>2018-10-23</td>\n",
              "      <td>1859</td>\n",
              "      <td>25</td>\n",
              "      <td>1</td>\n",
              "    </tr>\n",
              "    <tr>\n",
              "      <th>3</th>\n",
              "      <td>2019-08-17</td>\n",
              "      <td>7292</td>\n",
              "      <td>25</td>\n",
              "      <td>1</td>\n",
              "    </tr>\n",
              "    <tr>\n",
              "      <th>4</th>\n",
              "      <td>2019-01-06</td>\n",
              "      <td>4344</td>\n",
              "      <td>25</td>\n",
              "      <td>3</td>\n",
              "    </tr>\n",
              "  </tbody>\n",
              "</table>\n",
              "</div>\n",
              "      <button class=\"colab-df-convert\" onclick=\"convertToInteractive('df-1ab41180-c119-47ba-a40a-645d24dbaeee')\"\n",
              "              title=\"Convert this dataframe to an interactive table.\"\n",
              "              style=\"display:none;\">\n",
              "        \n",
              "  <svg xmlns=\"http://www.w3.org/2000/svg\" height=\"24px\"viewBox=\"0 0 24 24\"\n",
              "       width=\"24px\">\n",
              "    <path d=\"M0 0h24v24H0V0z\" fill=\"none\"/>\n",
              "    <path d=\"M18.56 5.44l.94 2.06.94-2.06 2.06-.94-2.06-.94-.94-2.06-.94 2.06-2.06.94zm-11 1L8.5 8.5l.94-2.06 2.06-.94-2.06-.94L8.5 2.5l-.94 2.06-2.06.94zm10 10l.94 2.06.94-2.06 2.06-.94-2.06-.94-.94-2.06-.94 2.06-2.06.94z\"/><path d=\"M17.41 7.96l-1.37-1.37c-.4-.4-.92-.59-1.43-.59-.52 0-1.04.2-1.43.59L10.3 9.45l-7.72 7.72c-.78.78-.78 2.05 0 2.83L4 21.41c.39.39.9.59 1.41.59.51 0 1.02-.2 1.41-.59l7.78-7.78 2.81-2.81c.8-.78.8-2.07 0-2.86zM5.41 20L4 18.59l7.72-7.72 1.47 1.35L5.41 20z\"/>\n",
              "  </svg>\n",
              "      </button>\n",
              "      \n",
              "  <style>\n",
              "    .colab-df-container {\n",
              "      display:flex;\n",
              "      flex-wrap:wrap;\n",
              "      gap: 12px;\n",
              "    }\n",
              "\n",
              "    .colab-df-convert {\n",
              "      background-color: #E8F0FE;\n",
              "      border: none;\n",
              "      border-radius: 50%;\n",
              "      cursor: pointer;\n",
              "      display: none;\n",
              "      fill: #1967D2;\n",
              "      height: 32px;\n",
              "      padding: 0 0 0 0;\n",
              "      width: 32px;\n",
              "    }\n",
              "\n",
              "    .colab-df-convert:hover {\n",
              "      background-color: #E2EBFA;\n",
              "      box-shadow: 0px 1px 2px rgba(60, 64, 67, 0.3), 0px 1px 3px 1px rgba(60, 64, 67, 0.15);\n",
              "      fill: #174EA6;\n",
              "    }\n",
              "\n",
              "    [theme=dark] .colab-df-convert {\n",
              "      background-color: #3B4455;\n",
              "      fill: #D2E3FC;\n",
              "    }\n",
              "\n",
              "    [theme=dark] .colab-df-convert:hover {\n",
              "      background-color: #434B5C;\n",
              "      box-shadow: 0px 1px 3px 1px rgba(0, 0, 0, 0.15);\n",
              "      filter: drop-shadow(0px 1px 2px rgba(0, 0, 0, 0.3));\n",
              "      fill: #FFFFFF;\n",
              "    }\n",
              "  </style>\n",
              "\n",
              "      <script>\n",
              "        const buttonEl =\n",
              "          document.querySelector('#df-1ab41180-c119-47ba-a40a-645d24dbaeee button.colab-df-convert');\n",
              "        buttonEl.style.display =\n",
              "          google.colab.kernel.accessAllowed ? 'block' : 'none';\n",
              "\n",
              "        async function convertToInteractive(key) {\n",
              "          const element = document.querySelector('#df-1ab41180-c119-47ba-a40a-645d24dbaeee');\n",
              "          const dataTable =\n",
              "            await google.colab.kernel.invokeFunction('convertToInteractive',\n",
              "                                                     [key], {});\n",
              "          if (!dataTable) return;\n",
              "\n",
              "          const docLinkHtml = 'Like what you see? Visit the ' +\n",
              "            '<a target=\"_blank\" href=https://colab.research.google.com/notebooks/data_table.ipynb>data table notebook</a>'\n",
              "            + ' to learn more about interactive tables.';\n",
              "          element.innerHTML = '';\n",
              "          dataTable['output_type'] = 'display_data';\n",
              "          await google.colab.output.renderOutput(dataTable, element);\n",
              "          const docLink = document.createElement('div');\n",
              "          docLink.innerHTML = docLinkHtml;\n",
              "          element.appendChild(docLink);\n",
              "        }\n",
              "      </script>\n",
              "    </div>\n",
              "  </div>\n",
              "  "
            ]
          },
          "metadata": {},
          "execution_count": 16
        }
      ]
    },
    {
      "cell_type": "code",
      "source": [
        "orders_df.info()"
      ],
      "metadata": {
        "colab": {
          "base_uri": "https://localhost:8080/"
        },
        "id": "ajnlXYl6ByCD",
        "outputId": "18cb6442-a9be-466f-c7f7-d7172f8b194d"
      },
      "execution_count": 17,
      "outputs": [
        {
          "output_type": "stream",
          "name": "stdout",
          "text": [
            "<class 'pandas.core.frame.DataFrame'>\n",
            "RangeIndex: 1000 entries, 0 to 999\n",
            "Data columns (total 4 columns):\n",
            " #   Column      Non-Null Count  Dtype         \n",
            "---  ------      --------------  -----         \n",
            " 0   date        1000 non-null   datetime64[ns]\n",
            " 1   product_id  1000 non-null   int64         \n",
            " 2   city_id     1000 non-null   int64         \n",
            " 3   orders      1000 non-null   int64         \n",
            "dtypes: datetime64[ns](1), int64(3)\n",
            "memory usage: 31.4 KB\n"
          ]
        }
      ]
    },
    {
      "cell_type": "code",
      "source": [
        "message_df.info()"
      ],
      "metadata": {
        "colab": {
          "base_uri": "https://localhost:8080/"
        },
        "id": "kPQgzB_eB5lI",
        "outputId": "06f5b67b-140d-48d4-e069-256db10ab6ba"
      },
      "execution_count": 18,
      "outputs": [
        {
          "output_type": "stream",
          "name": "stdout",
          "text": [
            "<class 'pandas.core.frame.DataFrame'>\n",
            "RangeIndex: 1000 entries, 0 to 999\n",
            "Data columns (total 2 columns):\n",
            " #   Column  Non-Null Count  Dtype         \n",
            "---  ------  --------------  -----         \n",
            " 0   date    1000 non-null   datetime64[ns]\n",
            " 1   msg     1000 non-null   object        \n",
            "dtypes: datetime64[ns](1), object(1)\n",
            "memory usage: 15.8+ KB\n"
          ]
        }
      ]
    },
    {
      "cell_type": "markdown",
      "source": [
        "Let's firstly work on Orders_df.\n",
        "\n",
        "1) Extraxt year"
      ],
      "metadata": {
        "id": "CCeKLq9-DRvY"
      }
    },
    {
      "cell_type": "code",
      "source": [
        "orders_df['year'] = orders_df['date'].dt.year"
      ],
      "metadata": {
        "id": "c4kB9uL5DRMO"
      },
      "execution_count": 20,
      "outputs": []
    },
    {
      "cell_type": "markdown",
      "source": [
        "Extract Month"
      ],
      "metadata": {
        "id": "mWd-nfw8D28Z"
      }
    },
    {
      "cell_type": "code",
      "source": [
        "orders_df['month'] = orders_df['date'].dt.month"
      ],
      "metadata": {
        "id": "hICCdxr6Dhk3"
      },
      "execution_count": 21,
      "outputs": []
    },
    {
      "cell_type": "code",
      "source": [
        "orders_df['month_name'] = orders_df['date'].dt.month_name()"
      ],
      "metadata": {
        "id": "L49pF5g9D2sA"
      },
      "execution_count": 24,
      "outputs": []
    },
    {
      "cell_type": "markdown",
      "source": [
        "Extract Date"
      ],
      "metadata": {
        "id": "FXeeR5AVESl7"
      }
    },
    {
      "cell_type": "code",
      "source": [
        "orders_df['day'] = orders_df['date'].dt.day"
      ],
      "metadata": {
        "id": "2YzspwH9DoqH"
      },
      "execution_count": 26,
      "outputs": []
    },
    {
      "cell_type": "markdown",
      "source": [
        "To know about the date was which week of day"
      ],
      "metadata": {
        "id": "UPfXXpOUEbI4"
      }
    },
    {
      "cell_type": "code",
      "source": [
        "orders_df['day-of-week'] = orders_df['date'].dt.dayofweek"
      ],
      "metadata": {
        "id": "YWvNo2x0ESDz"
      },
      "execution_count": 29,
      "outputs": []
    },
    {
      "cell_type": "code",
      "source": [
        "orders_df.head()"
      ],
      "metadata": {
        "colab": {
          "base_uri": "https://localhost:8080/",
          "height": 206
        },
        "id": "H8wreutcDBLM",
        "outputId": "0b5e53f2-0c08-4eb1-f293-c40e09a6c6d1"
      },
      "execution_count": 30,
      "outputs": [
        {
          "output_type": "execute_result",
          "data": {
            "text/plain": [
              "        date  product_id  city_id  orders  year  month month_name  day  \\\n",
              "0 2019-12-10        5628       25       3  2019     12   December   10   \n",
              "1 2018-08-15        3646       14     157  2018      8     August   15   \n",
              "2 2018-10-23        1859       25       1  2018     10    October   23   \n",
              "3 2019-08-17        7292       25       1  2019      8     August   17   \n",
              "4 2019-01-06        4344       25       3  2019      1    January    6   \n",
              "\n",
              "   day-of-week  \n",
              "0            1  \n",
              "1            2  \n",
              "2            1  \n",
              "3            5  \n",
              "4            6  "
            ],
            "text/html": [
              "\n",
              "  <div id=\"df-df347082-209c-4c33-9e54-c9bc19967607\">\n",
              "    <div class=\"colab-df-container\">\n",
              "      <div>\n",
              "<style scoped>\n",
              "    .dataframe tbody tr th:only-of-type {\n",
              "        vertical-align: middle;\n",
              "    }\n",
              "\n",
              "    .dataframe tbody tr th {\n",
              "        vertical-align: top;\n",
              "    }\n",
              "\n",
              "    .dataframe thead th {\n",
              "        text-align: right;\n",
              "    }\n",
              "</style>\n",
              "<table border=\"1\" class=\"dataframe\">\n",
              "  <thead>\n",
              "    <tr style=\"text-align: right;\">\n",
              "      <th></th>\n",
              "      <th>date</th>\n",
              "      <th>product_id</th>\n",
              "      <th>city_id</th>\n",
              "      <th>orders</th>\n",
              "      <th>year</th>\n",
              "      <th>month</th>\n",
              "      <th>month_name</th>\n",
              "      <th>day</th>\n",
              "      <th>day-of-week</th>\n",
              "    </tr>\n",
              "  </thead>\n",
              "  <tbody>\n",
              "    <tr>\n",
              "      <th>0</th>\n",
              "      <td>2019-12-10</td>\n",
              "      <td>5628</td>\n",
              "      <td>25</td>\n",
              "      <td>3</td>\n",
              "      <td>2019</td>\n",
              "      <td>12</td>\n",
              "      <td>December</td>\n",
              "      <td>10</td>\n",
              "      <td>1</td>\n",
              "    </tr>\n",
              "    <tr>\n",
              "      <th>1</th>\n",
              "      <td>2018-08-15</td>\n",
              "      <td>3646</td>\n",
              "      <td>14</td>\n",
              "      <td>157</td>\n",
              "      <td>2018</td>\n",
              "      <td>8</td>\n",
              "      <td>August</td>\n",
              "      <td>15</td>\n",
              "      <td>2</td>\n",
              "    </tr>\n",
              "    <tr>\n",
              "      <th>2</th>\n",
              "      <td>2018-10-23</td>\n",
              "      <td>1859</td>\n",
              "      <td>25</td>\n",
              "      <td>1</td>\n",
              "      <td>2018</td>\n",
              "      <td>10</td>\n",
              "      <td>October</td>\n",
              "      <td>23</td>\n",
              "      <td>1</td>\n",
              "    </tr>\n",
              "    <tr>\n",
              "      <th>3</th>\n",
              "      <td>2019-08-17</td>\n",
              "      <td>7292</td>\n",
              "      <td>25</td>\n",
              "      <td>1</td>\n",
              "      <td>2019</td>\n",
              "      <td>8</td>\n",
              "      <td>August</td>\n",
              "      <td>17</td>\n",
              "      <td>5</td>\n",
              "    </tr>\n",
              "    <tr>\n",
              "      <th>4</th>\n",
              "      <td>2019-01-06</td>\n",
              "      <td>4344</td>\n",
              "      <td>25</td>\n",
              "      <td>3</td>\n",
              "      <td>2019</td>\n",
              "      <td>1</td>\n",
              "      <td>January</td>\n",
              "      <td>6</td>\n",
              "      <td>6</td>\n",
              "    </tr>\n",
              "  </tbody>\n",
              "</table>\n",
              "</div>\n",
              "      <button class=\"colab-df-convert\" onclick=\"convertToInteractive('df-df347082-209c-4c33-9e54-c9bc19967607')\"\n",
              "              title=\"Convert this dataframe to an interactive table.\"\n",
              "              style=\"display:none;\">\n",
              "        \n",
              "  <svg xmlns=\"http://www.w3.org/2000/svg\" height=\"24px\"viewBox=\"0 0 24 24\"\n",
              "       width=\"24px\">\n",
              "    <path d=\"M0 0h24v24H0V0z\" fill=\"none\"/>\n",
              "    <path d=\"M18.56 5.44l.94 2.06.94-2.06 2.06-.94-2.06-.94-.94-2.06-.94 2.06-2.06.94zm-11 1L8.5 8.5l.94-2.06 2.06-.94-2.06-.94L8.5 2.5l-.94 2.06-2.06.94zm10 10l.94 2.06.94-2.06 2.06-.94-2.06-.94-.94-2.06-.94 2.06-2.06.94z\"/><path d=\"M17.41 7.96l-1.37-1.37c-.4-.4-.92-.59-1.43-.59-.52 0-1.04.2-1.43.59L10.3 9.45l-7.72 7.72c-.78.78-.78 2.05 0 2.83L4 21.41c.39.39.9.59 1.41.59.51 0 1.02-.2 1.41-.59l7.78-7.78 2.81-2.81c.8-.78.8-2.07 0-2.86zM5.41 20L4 18.59l7.72-7.72 1.47 1.35L5.41 20z\"/>\n",
              "  </svg>\n",
              "      </button>\n",
              "      \n",
              "  <style>\n",
              "    .colab-df-container {\n",
              "      display:flex;\n",
              "      flex-wrap:wrap;\n",
              "      gap: 12px;\n",
              "    }\n",
              "\n",
              "    .colab-df-convert {\n",
              "      background-color: #E8F0FE;\n",
              "      border: none;\n",
              "      border-radius: 50%;\n",
              "      cursor: pointer;\n",
              "      display: none;\n",
              "      fill: #1967D2;\n",
              "      height: 32px;\n",
              "      padding: 0 0 0 0;\n",
              "      width: 32px;\n",
              "    }\n",
              "\n",
              "    .colab-df-convert:hover {\n",
              "      background-color: #E2EBFA;\n",
              "      box-shadow: 0px 1px 2px rgba(60, 64, 67, 0.3), 0px 1px 3px 1px rgba(60, 64, 67, 0.15);\n",
              "      fill: #174EA6;\n",
              "    }\n",
              "\n",
              "    [theme=dark] .colab-df-convert {\n",
              "      background-color: #3B4455;\n",
              "      fill: #D2E3FC;\n",
              "    }\n",
              "\n",
              "    [theme=dark] .colab-df-convert:hover {\n",
              "      background-color: #434B5C;\n",
              "      box-shadow: 0px 1px 3px 1px rgba(0, 0, 0, 0.15);\n",
              "      filter: drop-shadow(0px 1px 2px rgba(0, 0, 0, 0.3));\n",
              "      fill: #FFFFFF;\n",
              "    }\n",
              "  </style>\n",
              "\n",
              "      <script>\n",
              "        const buttonEl =\n",
              "          document.querySelector('#df-df347082-209c-4c33-9e54-c9bc19967607 button.colab-df-convert');\n",
              "        buttonEl.style.display =\n",
              "          google.colab.kernel.accessAllowed ? 'block' : 'none';\n",
              "\n",
              "        async function convertToInteractive(key) {\n",
              "          const element = document.querySelector('#df-df347082-209c-4c33-9e54-c9bc19967607');\n",
              "          const dataTable =\n",
              "            await google.colab.kernel.invokeFunction('convertToInteractive',\n",
              "                                                     [key], {});\n",
              "          if (!dataTable) return;\n",
              "\n",
              "          const docLinkHtml = 'Like what you see? Visit the ' +\n",
              "            '<a target=\"_blank\" href=https://colab.research.google.com/notebooks/data_table.ipynb>data table notebook</a>'\n",
              "            + ' to learn more about interactive tables.';\n",
              "          element.innerHTML = '';\n",
              "          dataTable['output_type'] = 'display_data';\n",
              "          await google.colab.output.renderOutput(dataTable, element);\n",
              "          const docLink = document.createElement('div');\n",
              "          docLink.innerHTML = docLinkHtml;\n",
              "          element.appendChild(docLink);\n",
              "        }\n",
              "      </script>\n",
              "    </div>\n",
              "  </div>\n",
              "  "
            ]
          },
          "metadata": {},
          "execution_count": 30
        }
      ]
    },
    {
      "cell_type": "markdown",
      "source": [
        "If we want name of the day."
      ],
      "metadata": {
        "id": "6OHKuBdWEpn3"
      }
    },
    {
      "cell_type": "code",
      "source": [
        "orders_df['day_name'] = orders_df['date'].dt.day_name()"
      ],
      "metadata": {
        "id": "PGPcOkN-EIE-"
      },
      "execution_count": 34,
      "outputs": []
    },
    {
      "cell_type": "markdown",
      "source": [
        "To check whether the was Weekend or not?"
      ],
      "metadata": {
        "id": "Qo9m3y3ZFCKO"
      }
    },
    {
      "cell_type": "code",
      "source": [
        "orders_df['is_weekend'] = np.where(orders_df['day_name'].isin(['Sunday','Saturday']),1,0)"
      ],
      "metadata": {
        "id": "QwkzEBmnFBTG"
      },
      "execution_count": 35,
      "outputs": []
    },
    {
      "cell_type": "markdown",
      "source": [
        "If we want to extract week of the year then:"
      ],
      "metadata": {
        "id": "_RTLRX0rFmSz"
      }
    },
    {
      "cell_type": "code",
      "source": [
        "orders_df['week-of-year'] = orders_df['date'].dt.isocalendar().week"
      ],
      "metadata": {
        "id": "uqBuLVWZFjlt"
      },
      "execution_count": 39,
      "outputs": []
    },
    {
      "cell_type": "code",
      "source": [
        "orders_df['quarter'] = orders_df['date'].dt.quarter"
      ],
      "metadata": {
        "id": "fvNR1s6JGG2h"
      },
      "execution_count": 41,
      "outputs": []
    },
    {
      "cell_type": "code",
      "source": [
        "orders_df"
      ],
      "metadata": {
        "colab": {
          "base_uri": "https://localhost:8080/",
          "height": 424
        },
        "id": "4VRLxbreGYDA",
        "outputId": "4f82d012-91da-47b4-8cf8-bdc630c629c9"
      },
      "execution_count": 42,
      "outputs": [
        {
          "output_type": "execute_result",
          "data": {
            "text/plain": [
              "          date  product_id  city_id  orders  year  month month_name  day  \\\n",
              "0   2019-12-10        5628       25       3  2019     12   December   10   \n",
              "1   2018-08-15        3646       14     157  2018      8     August   15   \n",
              "2   2018-10-23        1859       25       1  2018     10    October   23   \n",
              "3   2019-08-17        7292       25       1  2019      8     August   17   \n",
              "4   2019-01-06        4344       25       3  2019      1    January    6   \n",
              "..         ...         ...      ...     ...   ...    ...        ...  ...   \n",
              "995 2018-10-08         255       13       1  2018     10    October    8   \n",
              "996 2018-12-06        5521        7       1  2018     12   December    6   \n",
              "997 2019-05-07         487       26      14  2019      5        May    7   \n",
              "998 2019-03-03        1503       21       2  2019      3      March    3   \n",
              "999 2019-10-15        6371        7      22  2019     10    October   15   \n",
              "\n",
              "     day-of-week   day_name  is_weekend  week-of-year  quarter  \n",
              "0              1    Tuesday           0            50        4  \n",
              "1              2  Wednesday           0            33        3  \n",
              "2              1    Tuesday           0            43        4  \n",
              "3              5   Saturday           1            33        3  \n",
              "4              6     Sunday           1             1        1  \n",
              "..           ...        ...         ...           ...      ...  \n",
              "995            0     Monday           0            41        4  \n",
              "996            3   Thursday           0            49        4  \n",
              "997            1    Tuesday           0            19        2  \n",
              "998            6     Sunday           1             9        1  \n",
              "999            1    Tuesday           0            42        4  \n",
              "\n",
              "[1000 rows x 13 columns]"
            ],
            "text/html": [
              "\n",
              "  <div id=\"df-efec7b35-8ca0-4522-8bab-c0542413c6a7\">\n",
              "    <div class=\"colab-df-container\">\n",
              "      <div>\n",
              "<style scoped>\n",
              "    .dataframe tbody tr th:only-of-type {\n",
              "        vertical-align: middle;\n",
              "    }\n",
              "\n",
              "    .dataframe tbody tr th {\n",
              "        vertical-align: top;\n",
              "    }\n",
              "\n",
              "    .dataframe thead th {\n",
              "        text-align: right;\n",
              "    }\n",
              "</style>\n",
              "<table border=\"1\" class=\"dataframe\">\n",
              "  <thead>\n",
              "    <tr style=\"text-align: right;\">\n",
              "      <th></th>\n",
              "      <th>date</th>\n",
              "      <th>product_id</th>\n",
              "      <th>city_id</th>\n",
              "      <th>orders</th>\n",
              "      <th>year</th>\n",
              "      <th>month</th>\n",
              "      <th>month_name</th>\n",
              "      <th>day</th>\n",
              "      <th>day-of-week</th>\n",
              "      <th>day_name</th>\n",
              "      <th>is_weekend</th>\n",
              "      <th>week-of-year</th>\n",
              "      <th>quarter</th>\n",
              "    </tr>\n",
              "  </thead>\n",
              "  <tbody>\n",
              "    <tr>\n",
              "      <th>0</th>\n",
              "      <td>2019-12-10</td>\n",
              "      <td>5628</td>\n",
              "      <td>25</td>\n",
              "      <td>3</td>\n",
              "      <td>2019</td>\n",
              "      <td>12</td>\n",
              "      <td>December</td>\n",
              "      <td>10</td>\n",
              "      <td>1</td>\n",
              "      <td>Tuesday</td>\n",
              "      <td>0</td>\n",
              "      <td>50</td>\n",
              "      <td>4</td>\n",
              "    </tr>\n",
              "    <tr>\n",
              "      <th>1</th>\n",
              "      <td>2018-08-15</td>\n",
              "      <td>3646</td>\n",
              "      <td>14</td>\n",
              "      <td>157</td>\n",
              "      <td>2018</td>\n",
              "      <td>8</td>\n",
              "      <td>August</td>\n",
              "      <td>15</td>\n",
              "      <td>2</td>\n",
              "      <td>Wednesday</td>\n",
              "      <td>0</td>\n",
              "      <td>33</td>\n",
              "      <td>3</td>\n",
              "    </tr>\n",
              "    <tr>\n",
              "      <th>2</th>\n",
              "      <td>2018-10-23</td>\n",
              "      <td>1859</td>\n",
              "      <td>25</td>\n",
              "      <td>1</td>\n",
              "      <td>2018</td>\n",
              "      <td>10</td>\n",
              "      <td>October</td>\n",
              "      <td>23</td>\n",
              "      <td>1</td>\n",
              "      <td>Tuesday</td>\n",
              "      <td>0</td>\n",
              "      <td>43</td>\n",
              "      <td>4</td>\n",
              "    </tr>\n",
              "    <tr>\n",
              "      <th>3</th>\n",
              "      <td>2019-08-17</td>\n",
              "      <td>7292</td>\n",
              "      <td>25</td>\n",
              "      <td>1</td>\n",
              "      <td>2019</td>\n",
              "      <td>8</td>\n",
              "      <td>August</td>\n",
              "      <td>17</td>\n",
              "      <td>5</td>\n",
              "      <td>Saturday</td>\n",
              "      <td>1</td>\n",
              "      <td>33</td>\n",
              "      <td>3</td>\n",
              "    </tr>\n",
              "    <tr>\n",
              "      <th>4</th>\n",
              "      <td>2019-01-06</td>\n",
              "      <td>4344</td>\n",
              "      <td>25</td>\n",
              "      <td>3</td>\n",
              "      <td>2019</td>\n",
              "      <td>1</td>\n",
              "      <td>January</td>\n",
              "      <td>6</td>\n",
              "      <td>6</td>\n",
              "      <td>Sunday</td>\n",
              "      <td>1</td>\n",
              "      <td>1</td>\n",
              "      <td>1</td>\n",
              "    </tr>\n",
              "    <tr>\n",
              "      <th>...</th>\n",
              "      <td>...</td>\n",
              "      <td>...</td>\n",
              "      <td>...</td>\n",
              "      <td>...</td>\n",
              "      <td>...</td>\n",
              "      <td>...</td>\n",
              "      <td>...</td>\n",
              "      <td>...</td>\n",
              "      <td>...</td>\n",
              "      <td>...</td>\n",
              "      <td>...</td>\n",
              "      <td>...</td>\n",
              "      <td>...</td>\n",
              "    </tr>\n",
              "    <tr>\n",
              "      <th>995</th>\n",
              "      <td>2018-10-08</td>\n",
              "      <td>255</td>\n",
              "      <td>13</td>\n",
              "      <td>1</td>\n",
              "      <td>2018</td>\n",
              "      <td>10</td>\n",
              "      <td>October</td>\n",
              "      <td>8</td>\n",
              "      <td>0</td>\n",
              "      <td>Monday</td>\n",
              "      <td>0</td>\n",
              "      <td>41</td>\n",
              "      <td>4</td>\n",
              "    </tr>\n",
              "    <tr>\n",
              "      <th>996</th>\n",
              "      <td>2018-12-06</td>\n",
              "      <td>5521</td>\n",
              "      <td>7</td>\n",
              "      <td>1</td>\n",
              "      <td>2018</td>\n",
              "      <td>12</td>\n",
              "      <td>December</td>\n",
              "      <td>6</td>\n",
              "      <td>3</td>\n",
              "      <td>Thursday</td>\n",
              "      <td>0</td>\n",
              "      <td>49</td>\n",
              "      <td>4</td>\n",
              "    </tr>\n",
              "    <tr>\n",
              "      <th>997</th>\n",
              "      <td>2019-05-07</td>\n",
              "      <td>487</td>\n",
              "      <td>26</td>\n",
              "      <td>14</td>\n",
              "      <td>2019</td>\n",
              "      <td>5</td>\n",
              "      <td>May</td>\n",
              "      <td>7</td>\n",
              "      <td>1</td>\n",
              "      <td>Tuesday</td>\n",
              "      <td>0</td>\n",
              "      <td>19</td>\n",
              "      <td>2</td>\n",
              "    </tr>\n",
              "    <tr>\n",
              "      <th>998</th>\n",
              "      <td>2019-03-03</td>\n",
              "      <td>1503</td>\n",
              "      <td>21</td>\n",
              "      <td>2</td>\n",
              "      <td>2019</td>\n",
              "      <td>3</td>\n",
              "      <td>March</td>\n",
              "      <td>3</td>\n",
              "      <td>6</td>\n",
              "      <td>Sunday</td>\n",
              "      <td>1</td>\n",
              "      <td>9</td>\n",
              "      <td>1</td>\n",
              "    </tr>\n",
              "    <tr>\n",
              "      <th>999</th>\n",
              "      <td>2019-10-15</td>\n",
              "      <td>6371</td>\n",
              "      <td>7</td>\n",
              "      <td>22</td>\n",
              "      <td>2019</td>\n",
              "      <td>10</td>\n",
              "      <td>October</td>\n",
              "      <td>15</td>\n",
              "      <td>1</td>\n",
              "      <td>Tuesday</td>\n",
              "      <td>0</td>\n",
              "      <td>42</td>\n",
              "      <td>4</td>\n",
              "    </tr>\n",
              "  </tbody>\n",
              "</table>\n",
              "<p>1000 rows × 13 columns</p>\n",
              "</div>\n",
              "      <button class=\"colab-df-convert\" onclick=\"convertToInteractive('df-efec7b35-8ca0-4522-8bab-c0542413c6a7')\"\n",
              "              title=\"Convert this dataframe to an interactive table.\"\n",
              "              style=\"display:none;\">\n",
              "        \n",
              "  <svg xmlns=\"http://www.w3.org/2000/svg\" height=\"24px\"viewBox=\"0 0 24 24\"\n",
              "       width=\"24px\">\n",
              "    <path d=\"M0 0h24v24H0V0z\" fill=\"none\"/>\n",
              "    <path d=\"M18.56 5.44l.94 2.06.94-2.06 2.06-.94-2.06-.94-.94-2.06-.94 2.06-2.06.94zm-11 1L8.5 8.5l.94-2.06 2.06-.94-2.06-.94L8.5 2.5l-.94 2.06-2.06.94zm10 10l.94 2.06.94-2.06 2.06-.94-2.06-.94-.94-2.06-.94 2.06-2.06.94z\"/><path d=\"M17.41 7.96l-1.37-1.37c-.4-.4-.92-.59-1.43-.59-.52 0-1.04.2-1.43.59L10.3 9.45l-7.72 7.72c-.78.78-.78 2.05 0 2.83L4 21.41c.39.39.9.59 1.41.59.51 0 1.02-.2 1.41-.59l7.78-7.78 2.81-2.81c.8-.78.8-2.07 0-2.86zM5.41 20L4 18.59l7.72-7.72 1.47 1.35L5.41 20z\"/>\n",
              "  </svg>\n",
              "      </button>\n",
              "      \n",
              "  <style>\n",
              "    .colab-df-container {\n",
              "      display:flex;\n",
              "      flex-wrap:wrap;\n",
              "      gap: 12px;\n",
              "    }\n",
              "\n",
              "    .colab-df-convert {\n",
              "      background-color: #E8F0FE;\n",
              "      border: none;\n",
              "      border-radius: 50%;\n",
              "      cursor: pointer;\n",
              "      display: none;\n",
              "      fill: #1967D2;\n",
              "      height: 32px;\n",
              "      padding: 0 0 0 0;\n",
              "      width: 32px;\n",
              "    }\n",
              "\n",
              "    .colab-df-convert:hover {\n",
              "      background-color: #E2EBFA;\n",
              "      box-shadow: 0px 1px 2px rgba(60, 64, 67, 0.3), 0px 1px 3px 1px rgba(60, 64, 67, 0.15);\n",
              "      fill: #174EA6;\n",
              "    }\n",
              "\n",
              "    [theme=dark] .colab-df-convert {\n",
              "      background-color: #3B4455;\n",
              "      fill: #D2E3FC;\n",
              "    }\n",
              "\n",
              "    [theme=dark] .colab-df-convert:hover {\n",
              "      background-color: #434B5C;\n",
              "      box-shadow: 0px 1px 3px 1px rgba(0, 0, 0, 0.15);\n",
              "      filter: drop-shadow(0px 1px 2px rgba(0, 0, 0, 0.3));\n",
              "      fill: #FFFFFF;\n",
              "    }\n",
              "  </style>\n",
              "\n",
              "      <script>\n",
              "        const buttonEl =\n",
              "          document.querySelector('#df-efec7b35-8ca0-4522-8bab-c0542413c6a7 button.colab-df-convert');\n",
              "        buttonEl.style.display =\n",
              "          google.colab.kernel.accessAllowed ? 'block' : 'none';\n",
              "\n",
              "        async function convertToInteractive(key) {\n",
              "          const element = document.querySelector('#df-efec7b35-8ca0-4522-8bab-c0542413c6a7');\n",
              "          const dataTable =\n",
              "            await google.colab.kernel.invokeFunction('convertToInteractive',\n",
              "                                                     [key], {});\n",
              "          if (!dataTable) return;\n",
              "\n",
              "          const docLinkHtml = 'Like what you see? Visit the ' +\n",
              "            '<a target=\"_blank\" href=https://colab.research.google.com/notebooks/data_table.ipynb>data table notebook</a>'\n",
              "            + ' to learn more about interactive tables.';\n",
              "          element.innerHTML = '';\n",
              "          dataTable['output_type'] = 'display_data';\n",
              "          await google.colab.output.renderOutput(dataTable, element);\n",
              "          const docLink = document.createElement('div');\n",
              "          docLink.innerHTML = docLinkHtml;\n",
              "          element.appendChild(docLink);\n",
              "        }\n",
              "      </script>\n",
              "    </div>\n",
              "  </div>\n",
              "  "
            ]
          },
          "metadata": {},
          "execution_count": 42
        }
      ]
    },
    {
      "cell_type": "markdown",
      "source": [
        "To extract semester"
      ],
      "metadata": {
        "id": "bi7qXu9XGmCv"
      }
    },
    {
      "cell_type": "code",
      "source": [
        "orders_df['sem'] = np.where(orders_df['quarter'].isin([1,2]),1,2)"
      ],
      "metadata": {
        "id": "E3gjXLl1Gn0X"
      },
      "execution_count": 45,
      "outputs": []
    },
    {
      "cell_type": "code",
      "source": [
        "orders_df"
      ],
      "metadata": {
        "colab": {
          "base_uri": "https://localhost:8080/",
          "height": 424
        },
        "id": "THPC25yGGz-W",
        "outputId": "a8fc0d3b-2bb4-4fb8-e6e3-53438d26fe04"
      },
      "execution_count": 46,
      "outputs": [
        {
          "output_type": "execute_result",
          "data": {
            "text/plain": [
              "          date  product_id  city_id  orders  year  month month_name  day  \\\n",
              "0   2019-12-10        5628       25       3  2019     12   December   10   \n",
              "1   2018-08-15        3646       14     157  2018      8     August   15   \n",
              "2   2018-10-23        1859       25       1  2018     10    October   23   \n",
              "3   2019-08-17        7292       25       1  2019      8     August   17   \n",
              "4   2019-01-06        4344       25       3  2019      1    January    6   \n",
              "..         ...         ...      ...     ...   ...    ...        ...  ...   \n",
              "995 2018-10-08         255       13       1  2018     10    October    8   \n",
              "996 2018-12-06        5521        7       1  2018     12   December    6   \n",
              "997 2019-05-07         487       26      14  2019      5        May    7   \n",
              "998 2019-03-03        1503       21       2  2019      3      March    3   \n",
              "999 2019-10-15        6371        7      22  2019     10    October   15   \n",
              "\n",
              "     day-of-week   day_name  is_weekend  week-of-year  quarter  sem  \n",
              "0              1    Tuesday           0            50        4    2  \n",
              "1              2  Wednesday           0            33        3    2  \n",
              "2              1    Tuesday           0            43        4    2  \n",
              "3              5   Saturday           1            33        3    2  \n",
              "4              6     Sunday           1             1        1    1  \n",
              "..           ...        ...         ...           ...      ...  ...  \n",
              "995            0     Monday           0            41        4    2  \n",
              "996            3   Thursday           0            49        4    2  \n",
              "997            1    Tuesday           0            19        2    1  \n",
              "998            6     Sunday           1             9        1    1  \n",
              "999            1    Tuesday           0            42        4    2  \n",
              "\n",
              "[1000 rows x 14 columns]"
            ],
            "text/html": [
              "\n",
              "  <div id=\"df-b0350e4d-83b3-421f-87bd-0fb61594b0f1\">\n",
              "    <div class=\"colab-df-container\">\n",
              "      <div>\n",
              "<style scoped>\n",
              "    .dataframe tbody tr th:only-of-type {\n",
              "        vertical-align: middle;\n",
              "    }\n",
              "\n",
              "    .dataframe tbody tr th {\n",
              "        vertical-align: top;\n",
              "    }\n",
              "\n",
              "    .dataframe thead th {\n",
              "        text-align: right;\n",
              "    }\n",
              "</style>\n",
              "<table border=\"1\" class=\"dataframe\">\n",
              "  <thead>\n",
              "    <tr style=\"text-align: right;\">\n",
              "      <th></th>\n",
              "      <th>date</th>\n",
              "      <th>product_id</th>\n",
              "      <th>city_id</th>\n",
              "      <th>orders</th>\n",
              "      <th>year</th>\n",
              "      <th>month</th>\n",
              "      <th>month_name</th>\n",
              "      <th>day</th>\n",
              "      <th>day-of-week</th>\n",
              "      <th>day_name</th>\n",
              "      <th>is_weekend</th>\n",
              "      <th>week-of-year</th>\n",
              "      <th>quarter</th>\n",
              "      <th>sem</th>\n",
              "    </tr>\n",
              "  </thead>\n",
              "  <tbody>\n",
              "    <tr>\n",
              "      <th>0</th>\n",
              "      <td>2019-12-10</td>\n",
              "      <td>5628</td>\n",
              "      <td>25</td>\n",
              "      <td>3</td>\n",
              "      <td>2019</td>\n",
              "      <td>12</td>\n",
              "      <td>December</td>\n",
              "      <td>10</td>\n",
              "      <td>1</td>\n",
              "      <td>Tuesday</td>\n",
              "      <td>0</td>\n",
              "      <td>50</td>\n",
              "      <td>4</td>\n",
              "      <td>2</td>\n",
              "    </tr>\n",
              "    <tr>\n",
              "      <th>1</th>\n",
              "      <td>2018-08-15</td>\n",
              "      <td>3646</td>\n",
              "      <td>14</td>\n",
              "      <td>157</td>\n",
              "      <td>2018</td>\n",
              "      <td>8</td>\n",
              "      <td>August</td>\n",
              "      <td>15</td>\n",
              "      <td>2</td>\n",
              "      <td>Wednesday</td>\n",
              "      <td>0</td>\n",
              "      <td>33</td>\n",
              "      <td>3</td>\n",
              "      <td>2</td>\n",
              "    </tr>\n",
              "    <tr>\n",
              "      <th>2</th>\n",
              "      <td>2018-10-23</td>\n",
              "      <td>1859</td>\n",
              "      <td>25</td>\n",
              "      <td>1</td>\n",
              "      <td>2018</td>\n",
              "      <td>10</td>\n",
              "      <td>October</td>\n",
              "      <td>23</td>\n",
              "      <td>1</td>\n",
              "      <td>Tuesday</td>\n",
              "      <td>0</td>\n",
              "      <td>43</td>\n",
              "      <td>4</td>\n",
              "      <td>2</td>\n",
              "    </tr>\n",
              "    <tr>\n",
              "      <th>3</th>\n",
              "      <td>2019-08-17</td>\n",
              "      <td>7292</td>\n",
              "      <td>25</td>\n",
              "      <td>1</td>\n",
              "      <td>2019</td>\n",
              "      <td>8</td>\n",
              "      <td>August</td>\n",
              "      <td>17</td>\n",
              "      <td>5</td>\n",
              "      <td>Saturday</td>\n",
              "      <td>1</td>\n",
              "      <td>33</td>\n",
              "      <td>3</td>\n",
              "      <td>2</td>\n",
              "    </tr>\n",
              "    <tr>\n",
              "      <th>4</th>\n",
              "      <td>2019-01-06</td>\n",
              "      <td>4344</td>\n",
              "      <td>25</td>\n",
              "      <td>3</td>\n",
              "      <td>2019</td>\n",
              "      <td>1</td>\n",
              "      <td>January</td>\n",
              "      <td>6</td>\n",
              "      <td>6</td>\n",
              "      <td>Sunday</td>\n",
              "      <td>1</td>\n",
              "      <td>1</td>\n",
              "      <td>1</td>\n",
              "      <td>1</td>\n",
              "    </tr>\n",
              "    <tr>\n",
              "      <th>...</th>\n",
              "      <td>...</td>\n",
              "      <td>...</td>\n",
              "      <td>...</td>\n",
              "      <td>...</td>\n",
              "      <td>...</td>\n",
              "      <td>...</td>\n",
              "      <td>...</td>\n",
              "      <td>...</td>\n",
              "      <td>...</td>\n",
              "      <td>...</td>\n",
              "      <td>...</td>\n",
              "      <td>...</td>\n",
              "      <td>...</td>\n",
              "      <td>...</td>\n",
              "    </tr>\n",
              "    <tr>\n",
              "      <th>995</th>\n",
              "      <td>2018-10-08</td>\n",
              "      <td>255</td>\n",
              "      <td>13</td>\n",
              "      <td>1</td>\n",
              "      <td>2018</td>\n",
              "      <td>10</td>\n",
              "      <td>October</td>\n",
              "      <td>8</td>\n",
              "      <td>0</td>\n",
              "      <td>Monday</td>\n",
              "      <td>0</td>\n",
              "      <td>41</td>\n",
              "      <td>4</td>\n",
              "      <td>2</td>\n",
              "    </tr>\n",
              "    <tr>\n",
              "      <th>996</th>\n",
              "      <td>2018-12-06</td>\n",
              "      <td>5521</td>\n",
              "      <td>7</td>\n",
              "      <td>1</td>\n",
              "      <td>2018</td>\n",
              "      <td>12</td>\n",
              "      <td>December</td>\n",
              "      <td>6</td>\n",
              "      <td>3</td>\n",
              "      <td>Thursday</td>\n",
              "      <td>0</td>\n",
              "      <td>49</td>\n",
              "      <td>4</td>\n",
              "      <td>2</td>\n",
              "    </tr>\n",
              "    <tr>\n",
              "      <th>997</th>\n",
              "      <td>2019-05-07</td>\n",
              "      <td>487</td>\n",
              "      <td>26</td>\n",
              "      <td>14</td>\n",
              "      <td>2019</td>\n",
              "      <td>5</td>\n",
              "      <td>May</td>\n",
              "      <td>7</td>\n",
              "      <td>1</td>\n",
              "      <td>Tuesday</td>\n",
              "      <td>0</td>\n",
              "      <td>19</td>\n",
              "      <td>2</td>\n",
              "      <td>1</td>\n",
              "    </tr>\n",
              "    <tr>\n",
              "      <th>998</th>\n",
              "      <td>2019-03-03</td>\n",
              "      <td>1503</td>\n",
              "      <td>21</td>\n",
              "      <td>2</td>\n",
              "      <td>2019</td>\n",
              "      <td>3</td>\n",
              "      <td>March</td>\n",
              "      <td>3</td>\n",
              "      <td>6</td>\n",
              "      <td>Sunday</td>\n",
              "      <td>1</td>\n",
              "      <td>9</td>\n",
              "      <td>1</td>\n",
              "      <td>1</td>\n",
              "    </tr>\n",
              "    <tr>\n",
              "      <th>999</th>\n",
              "      <td>2019-10-15</td>\n",
              "      <td>6371</td>\n",
              "      <td>7</td>\n",
              "      <td>22</td>\n",
              "      <td>2019</td>\n",
              "      <td>10</td>\n",
              "      <td>October</td>\n",
              "      <td>15</td>\n",
              "      <td>1</td>\n",
              "      <td>Tuesday</td>\n",
              "      <td>0</td>\n",
              "      <td>42</td>\n",
              "      <td>4</td>\n",
              "      <td>2</td>\n",
              "    </tr>\n",
              "  </tbody>\n",
              "</table>\n",
              "<p>1000 rows × 14 columns</p>\n",
              "</div>\n",
              "      <button class=\"colab-df-convert\" onclick=\"convertToInteractive('df-b0350e4d-83b3-421f-87bd-0fb61594b0f1')\"\n",
              "              title=\"Convert this dataframe to an interactive table.\"\n",
              "              style=\"display:none;\">\n",
              "        \n",
              "  <svg xmlns=\"http://www.w3.org/2000/svg\" height=\"24px\"viewBox=\"0 0 24 24\"\n",
              "       width=\"24px\">\n",
              "    <path d=\"M0 0h24v24H0V0z\" fill=\"none\"/>\n",
              "    <path d=\"M18.56 5.44l.94 2.06.94-2.06 2.06-.94-2.06-.94-.94-2.06-.94 2.06-2.06.94zm-11 1L8.5 8.5l.94-2.06 2.06-.94-2.06-.94L8.5 2.5l-.94 2.06-2.06.94zm10 10l.94 2.06.94-2.06 2.06-.94-2.06-.94-.94-2.06-.94 2.06-2.06.94z\"/><path d=\"M17.41 7.96l-1.37-1.37c-.4-.4-.92-.59-1.43-.59-.52 0-1.04.2-1.43.59L10.3 9.45l-7.72 7.72c-.78.78-.78 2.05 0 2.83L4 21.41c.39.39.9.59 1.41.59.51 0 1.02-.2 1.41-.59l7.78-7.78 2.81-2.81c.8-.78.8-2.07 0-2.86zM5.41 20L4 18.59l7.72-7.72 1.47 1.35L5.41 20z\"/>\n",
              "  </svg>\n",
              "      </button>\n",
              "      \n",
              "  <style>\n",
              "    .colab-df-container {\n",
              "      display:flex;\n",
              "      flex-wrap:wrap;\n",
              "      gap: 12px;\n",
              "    }\n",
              "\n",
              "    .colab-df-convert {\n",
              "      background-color: #E8F0FE;\n",
              "      border: none;\n",
              "      border-radius: 50%;\n",
              "      cursor: pointer;\n",
              "      display: none;\n",
              "      fill: #1967D2;\n",
              "      height: 32px;\n",
              "      padding: 0 0 0 0;\n",
              "      width: 32px;\n",
              "    }\n",
              "\n",
              "    .colab-df-convert:hover {\n",
              "      background-color: #E2EBFA;\n",
              "      box-shadow: 0px 1px 2px rgba(60, 64, 67, 0.3), 0px 1px 3px 1px rgba(60, 64, 67, 0.15);\n",
              "      fill: #174EA6;\n",
              "    }\n",
              "\n",
              "    [theme=dark] .colab-df-convert {\n",
              "      background-color: #3B4455;\n",
              "      fill: #D2E3FC;\n",
              "    }\n",
              "\n",
              "    [theme=dark] .colab-df-convert:hover {\n",
              "      background-color: #434B5C;\n",
              "      box-shadow: 0px 1px 3px 1px rgba(0, 0, 0, 0.15);\n",
              "      filter: drop-shadow(0px 1px 2px rgba(0, 0, 0, 0.3));\n",
              "      fill: #FFFFFF;\n",
              "    }\n",
              "  </style>\n",
              "\n",
              "      <script>\n",
              "        const buttonEl =\n",
              "          document.querySelector('#df-b0350e4d-83b3-421f-87bd-0fb61594b0f1 button.colab-df-convert');\n",
              "        buttonEl.style.display =\n",
              "          google.colab.kernel.accessAllowed ? 'block' : 'none';\n",
              "\n",
              "        async function convertToInteractive(key) {\n",
              "          const element = document.querySelector('#df-b0350e4d-83b3-421f-87bd-0fb61594b0f1');\n",
              "          const dataTable =\n",
              "            await google.colab.kernel.invokeFunction('convertToInteractive',\n",
              "                                                     [key], {});\n",
              "          if (!dataTable) return;\n",
              "\n",
              "          const docLinkHtml = 'Like what you see? Visit the ' +\n",
              "            '<a target=\"_blank\" href=https://colab.research.google.com/notebooks/data_table.ipynb>data table notebook</a>'\n",
              "            + ' to learn more about interactive tables.';\n",
              "          element.innerHTML = '';\n",
              "          dataTable['output_type'] = 'display_data';\n",
              "          await google.colab.output.renderOutput(dataTable, element);\n",
              "          const docLink = document.createElement('div');\n",
              "          docLink.innerHTML = docLinkHtml;\n",
              "          element.appendChild(docLink);\n",
              "        }\n",
              "      </script>\n",
              "    </div>\n",
              "  </div>\n",
              "  "
            ]
          },
          "metadata": {},
          "execution_count": 46
        }
      ]
    },
    {
      "cell_type": "markdown",
      "source": [
        "Time elapsed between two dates"
      ],
      "metadata": {
        "id": "Wfs-TZTuHCeo"
      }
    },
    {
      "cell_type": "code",
      "source": [
        "import datetime\n",
        "\n",
        "today = datetime.datetime.today()\n",
        "\n",
        "today"
      ],
      "metadata": {
        "colab": {
          "base_uri": "https://localhost:8080/"
        },
        "id": "JoGQpXYIHEx7",
        "outputId": "a2a543ac-9021-41bb-9f4a-07030f3ad5c4"
      },
      "execution_count": 47,
      "outputs": [
        {
          "output_type": "execute_result",
          "data": {
            "text/plain": [
              "datetime.datetime(2023, 4, 9, 13, 2, 55, 400027)"
            ]
          },
          "metadata": {},
          "execution_count": 47
        }
      ]
    },
    {
      "cell_type": "markdown",
      "source": [
        "TO extract exact difference between two dates"
      ],
      "metadata": {
        "id": "M6aBH_H3H1yH"
      }
    },
    {
      "cell_type": "code",
      "source": [
        "today -  orders_df['date']"
      ],
      "metadata": {
        "colab": {
          "base_uri": "https://localhost:8080/"
        },
        "id": "BYhHZkn6HLst",
        "outputId": "7cf4886c-b8a2-4b60-a20a-bca76fe6e99e"
      },
      "execution_count": 48,
      "outputs": [
        {
          "output_type": "execute_result",
          "data": {
            "text/plain": [
              "0     1216 days 13:02:55.400027\n",
              "1     1698 days 13:02:55.400027\n",
              "2     1629 days 13:02:55.400027\n",
              "3     1331 days 13:02:55.400027\n",
              "4     1554 days 13:02:55.400027\n",
              "                 ...           \n",
              "995   1644 days 13:02:55.400027\n",
              "996   1585 days 13:02:55.400027\n",
              "997   1433 days 13:02:55.400027\n",
              "998   1498 days 13:02:55.400027\n",
              "999   1272 days 13:02:55.400027\n",
              "Name: date, Length: 1000, dtype: timedelta64[ns]"
            ]
          },
          "metadata": {},
          "execution_count": 48
        }
      ]
    },
    {
      "cell_type": "markdown",
      "source": [
        "To extract number of days between two days"
      ],
      "metadata": {
        "id": "W-boToVcH6q3"
      }
    },
    {
      "cell_type": "code",
      "source": [
        "(today -  orders_df['date']).dt.days"
      ],
      "metadata": {
        "colab": {
          "base_uri": "https://localhost:8080/"
        },
        "id": "L_pGKslSHaE1",
        "outputId": "361c12ac-4959-4854-c2d6-7557dc2570e1"
      },
      "execution_count": 51,
      "outputs": [
        {
          "output_type": "execute_result",
          "data": {
            "text/plain": [
              "0      1216\n",
              "1      1698\n",
              "2      1629\n",
              "3      1331\n",
              "4      1554\n",
              "       ... \n",
              "995    1644\n",
              "996    1585\n",
              "997    1433\n",
              "998    1498\n",
              "999    1272\n",
              "Name: date, Length: 1000, dtype: int64"
            ]
          },
          "metadata": {},
          "execution_count": 51
        }
      ]
    },
    {
      "cell_type": "markdown",
      "source": [
        "To extract number of months between two days"
      ],
      "metadata": {
        "id": "hwatYGQ6IA76"
      }
    },
    {
      "cell_type": "code",
      "source": [
        "np.round((today -  orders_df['date'])/np.timedelta64(1,'M'),0)"
      ],
      "metadata": {
        "colab": {
          "base_uri": "https://localhost:8080/"
        },
        "id": "7U1RkR5-Hd1D",
        "outputId": "d2820d0f-6e41-451d-9083-be71ea8b6f96"
      },
      "execution_count": 53,
      "outputs": [
        {
          "output_type": "execute_result",
          "data": {
            "text/plain": [
              "0      40.0\n",
              "1      56.0\n",
              "2      54.0\n",
              "3      44.0\n",
              "4      51.0\n",
              "       ... \n",
              "995    54.0\n",
              "996    52.0\n",
              "997    47.0\n",
              "998    49.0\n",
              "999    42.0\n",
              "Name: date, Length: 1000, dtype: float64"
            ]
          },
          "metadata": {},
          "execution_count": 53
        }
      ]
    },
    {
      "cell_type": "markdown",
      "source": [
        "We cannot manupulate `M` in `np.timedelta64(1,'M'),0)` to extract different date-time parameters"
      ],
      "metadata": {
        "id": "PB4sj6inJFvU"
      }
    },
    {
      "cell_type": "code",
      "source": [
        "message_df.info()"
      ],
      "metadata": {
        "colab": {
          "base_uri": "https://localhost:8080/"
        },
        "id": "emjWVDQVIU2O",
        "outputId": "e6c0f3a1-4d32-45df-b66e-c01c02f336f1"
      },
      "execution_count": 54,
      "outputs": [
        {
          "output_type": "stream",
          "name": "stdout",
          "text": [
            "<class 'pandas.core.frame.DataFrame'>\n",
            "RangeIndex: 1000 entries, 0 to 999\n",
            "Data columns (total 2 columns):\n",
            " #   Column  Non-Null Count  Dtype         \n",
            "---  ------  --------------  -----         \n",
            " 0   date    1000 non-null   datetime64[ns]\n",
            " 1   msg     1000 non-null   object        \n",
            "dtypes: datetime64[ns](1), object(1)\n",
            "memory usage: 15.8+ KB\n"
          ]
        }
      ]
    },
    {
      "cell_type": "code",
      "source": [
        "# for i in ['hour','minute','second']:\n",
        "message_df['hour'] = message_df['date'].dt.hour\n",
        "message_df['minute'] = message_df['date'].dt.minute\n",
        "message_df['second'] = message_df['date'].dt.second"
      ],
      "metadata": {
        "id": "1rt4urt5Il72"
      },
      "execution_count": 57,
      "outputs": []
    },
    {
      "cell_type": "code",
      "source": [
        "today- message_df['date']"
      ],
      "metadata": {
        "colab": {
          "base_uri": "https://localhost:8080/"
        },
        "id": "VriyfoH3Iw2I",
        "outputId": "9361cb19-8078-414a-8d1d-d22226c01aa6"
      },
      "execution_count": 58,
      "outputs": [
        {
          "output_type": "execute_result",
          "data": {
            "text/plain": [
              "0     3402 days 12:12:55.400027\n",
              "1     3266 days 13:22:55.400027\n",
              "2     3752 days 12:41:55.400027\n",
              "3     3054 days 12:31:55.400027\n",
              "4     3451 days 13:51:55.400027\n",
              "                 ...           \n",
              "995   4041 days 12:12:55.400027\n",
              "996   3362 days 13:48:55.400027\n",
              "997   3827 days 13:25:55.400027\n",
              "998   3943 days 13:28:55.400027\n",
              "999   3215 days 13:37:55.400027\n",
              "Name: date, Length: 1000, dtype: timedelta64[ns]"
            ]
          },
          "metadata": {},
          "execution_count": 58
        }
      ]
    },
    {
      "cell_type": "code",
      "source": [
        "message_df['date'].dt.year"
      ],
      "metadata": {
        "colab": {
          "base_uri": "https://localhost:8080/"
        },
        "id": "kfon6oxOJgVA",
        "outputId": "63a6e71b-6b08-4837-a8c5-7320af007f83"
      },
      "execution_count": 60,
      "outputs": [
        {
          "output_type": "execute_result",
          "data": {
            "text/plain": [
              "0      2013\n",
              "1      2014\n",
              "2      2012\n",
              "3      2014\n",
              "4      2013\n",
              "       ... \n",
              "995    2012\n",
              "996    2014\n",
              "997    2012\n",
              "998    2012\n",
              "999    2014\n",
              "Name: date, Length: 1000, dtype: int64"
            ]
          },
          "metadata": {},
          "execution_count": 60
        }
      ]
    }
  ]
}