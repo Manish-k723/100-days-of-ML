{
  "nbformat": 4,
  "nbformat_minor": 0,
  "metadata": {
    "colab": {
      "provenance": [],
      "authorship_tag": "ABX9TyMdnC7ImD+rBJYFb/wvOT8z",
      "include_colab_link": true
    },
    "kernelspec": {
      "name": "python3",
      "display_name": "Python 3"
    },
    "language_info": {
      "name": "python"
    }
  },
  "cells": [
    {
      "cell_type": "markdown",
      "metadata": {
        "id": "view-in-github",
        "colab_type": "text"
      },
      "source": [
        "<a href=\"https://colab.research.google.com/github/Manish-k723/100-days-of-ML/blob/main/Day_32_Discretization.ipynb\" target=\"_parent\"><img src=\"https://colab.research.google.com/assets/colab-badge.svg\" alt=\"Open In Colab\"/></a>"
      ]
    },
    {
      "cell_type": "code",
      "execution_count": 82,
      "metadata": {
        "id": "GmDCSZIx6NgV"
      },
      "outputs": [],
      "source": [
        "import pandas as pd\n",
        "import numpy as np\n",
        "\n",
        "import matplotlib.pyplot as plt\n",
        "import seaborn as sns"
      ]
    },
    {
      "cell_type": "code",
      "source": [
        "from sklearn.model_selection import train_test_split\n",
        "from sklearn.model_selection import cross_val_score\n",
        "\n",
        "from sklearn.tree import DecisionTreeClassifier\n",
        "\n",
        "from sklearn.metrics import accuracy_score\n",
        "from sklearn.compose import ColumnTransformer\n",
        "\n",
        "from sklearn.preprocessing import KBinsDiscretizer\n"
      ],
      "metadata": {
        "id": "duQQqPKc9rNW"
      },
      "execution_count": 3,
      "outputs": []
    },
    {
      "cell_type": "code",
      "source": [
        "df = pd.read_csv('https://raw.githubusercontent.com/Manish-k723/100-days-of-ML/main/train.csv', usecols = ['Age','Fare', 'Survived'])"
      ],
      "metadata": {
        "id": "6fVY6bIc-b8m"
      },
      "execution_count": 4,
      "outputs": []
    },
    {
      "cell_type": "code",
      "source": [
        "df.info()"
      ],
      "metadata": {
        "colab": {
          "base_uri": "https://localhost:8080/"
        },
        "id": "Slun8EkH-9xz",
        "outputId": "6aea8996-85e7-40ab-c20c-609563eb61c9"
      },
      "execution_count": 5,
      "outputs": [
        {
          "output_type": "stream",
          "name": "stdout",
          "text": [
            "<class 'pandas.core.frame.DataFrame'>\n",
            "RangeIndex: 891 entries, 0 to 890\n",
            "Data columns (total 3 columns):\n",
            " #   Column    Non-Null Count  Dtype  \n",
            "---  ------    --------------  -----  \n",
            " 0   Survived  891 non-null    int64  \n",
            " 1   Age       714 non-null    float64\n",
            " 2   Fare      891 non-null    float64\n",
            "dtypes: float64(2), int64(1)\n",
            "memory usage: 21.0 KB\n"
          ]
        }
      ]
    },
    {
      "cell_type": "code",
      "source": [
        "df.dropna(inplace =True)"
      ],
      "metadata": {
        "id": "es47f09P-_Te"
      },
      "execution_count": 6,
      "outputs": []
    },
    {
      "cell_type": "code",
      "source": [
        "df.info()"
      ],
      "metadata": {
        "colab": {
          "base_uri": "https://localhost:8080/"
        },
        "id": "Luad8Cl__IWr",
        "outputId": "23103fbe-d21f-434b-960a-da057f761861"
      },
      "execution_count": 7,
      "outputs": [
        {
          "output_type": "stream",
          "name": "stdout",
          "text": [
            "<class 'pandas.core.frame.DataFrame'>\n",
            "Int64Index: 714 entries, 0 to 890\n",
            "Data columns (total 3 columns):\n",
            " #   Column    Non-Null Count  Dtype  \n",
            "---  ------    --------------  -----  \n",
            " 0   Survived  714 non-null    int64  \n",
            " 1   Age       714 non-null    float64\n",
            " 2   Fare      714 non-null    float64\n",
            "dtypes: float64(2), int64(1)\n",
            "memory usage: 22.3 KB\n"
          ]
        }
      ]
    },
    {
      "cell_type": "code",
      "source": [
        "x = df.iloc[:,1:]\n",
        "y = df.iloc[:,0]"
      ],
      "metadata": {
        "id": "8jpzvQuK_MBb"
      },
      "execution_count": 18,
      "outputs": []
    },
    {
      "cell_type": "code",
      "source": [
        "x_train,x_test,y_train,y_test = train_test_split(x,y,test_size = 0.2, random_state = 42)"
      ],
      "metadata": {
        "id": "jC0vrej__ToQ"
      },
      "execution_count": 19,
      "outputs": []
    },
    {
      "cell_type": "code",
      "source": [
        "clf = DecisionTreeClassifier()"
      ],
      "metadata": {
        "id": "zIVa_zLF_kZX"
      },
      "execution_count": 20,
      "outputs": []
    },
    {
      "cell_type": "code",
      "source": [
        "clf.fit(x_train, y_train)\n",
        "y_pred = clf.predict(x_test)\n",
        "\n",
        "accuracy_score(y_pred, y_test)*100"
      ],
      "metadata": {
        "colab": {
          "base_uri": "https://localhost:8080/"
        },
        "id": "vFUz_DhY_zT3",
        "outputId": "654e875d-7334-4d96-9772-ac6891e97e1c"
      },
      "execution_count": 21,
      "outputs": [
        {
          "output_type": "execute_result",
          "data": {
            "text/plain": [
              "63.63636363636363"
            ]
          },
          "metadata": {},
          "execution_count": 21
        }
      ]
    },
    {
      "cell_type": "code",
      "source": [
        "np.mean(cross_val_score(clf, x, y, cv = 10, scoring = 'accuracy'))"
      ],
      "metadata": {
        "colab": {
          "base_uri": "https://localhost:8080/"
        },
        "id": "AgKDXOtAAEwF",
        "outputId": "2e7a9b83-03a9-47b9-81a7-30c93b56c2ae"
      },
      "execution_count": 23,
      "outputs": [
        {
          "output_type": "execute_result",
          "data": {
            "text/plain": [
              "0.6289319248826292"
            ]
          },
          "metadata": {},
          "execution_count": 23
        }
      ]
    },
    {
      "cell_type": "markdown",
      "source": [
        "Now, going to apply binning"
      ],
      "metadata": {
        "id": "AxyoeMhfCPQz"
      }
    },
    {
      "cell_type": "code",
      "source": [
        "kbin_age = KBinsDiscretizer(n_bins = 5, strategy = 'kmeans', encode = 'ordinal')\n",
        "kbin_fare = KBinsDiscretizer(n_bins = 5, strategy = 'kmeans', encode = 'ordinal')\n",
        "\n",
        "trf = ColumnTransformer([\n",
        "    ('first', kbin_age,[0]),\n",
        "    ('second', kbin_fare,[1])])"
      ],
      "metadata": {
        "id": "TeYxJSz9Byvv"
      },
      "execution_count": 32,
      "outputs": []
    },
    {
      "cell_type": "code",
      "source": [
        "trf.named_transformers_['first'].bin_edges_"
      ],
      "metadata": {
        "colab": {
          "base_uri": "https://localhost:8080/"
        },
        "id": "NU10z84dEdSY",
        "outputId": "c1613e0f-84a2-4efe-a829-8a2a1dd9becb"
      },
      "execution_count": 39,
      "outputs": [
        {
          "output_type": "execute_result",
          "data": {
            "text/plain": [
              "array([array([ 1.        , 13.54505632, 25.49492263, 36.14664502, 48.33333333,\n",
              "              62.        ])                                                   ],\n",
              "      dtype=object)"
            ]
          },
          "metadata": {},
          "execution_count": 39
        }
      ]
    },
    {
      "cell_type": "code",
      "source": [
        "x_train_trans = trf.fit_transform(x_train)\n",
        "x_test_trans = trf.transform(x_test)\n",
        "\n",
        "clf = DecisionTreeClassifier()\n",
        "\n",
        "clf.fit(x_train_trans, y_train)\n",
        "y_pred = clf.predict(x_test_trans)\n",
        "\n",
        "accuracy_score(y_test,y_pred)"
      ],
      "metadata": {
        "colab": {
          "base_uri": "https://localhost:8080/"
        },
        "id": "W4mD7dUNClhy",
        "outputId": "b0323fe7-2300-4409-a0e3-6d25cfc33a15"
      },
      "execution_count": 51,
      "outputs": [
        {
          "output_type": "execute_result",
          "data": {
            "text/plain": [
              "0.6223776223776224"
            ]
          },
          "metadata": {},
          "execution_count": 51
        }
      ]
    },
    {
      "cell_type": "markdown",
      "source": [
        "No improvement"
      ],
      "metadata": {
        "id": "7eX9bKcVGzyV"
      }
    },
    {
      "cell_type": "code",
      "source": [
        "output = pd.DataFrame({\n",
        "    'age':x_train['Age'],\n",
        "    'age_trf':x_train_trans[:,0],\n",
        "    'fare':x_train['Fare'],\n",
        "    'fare_trf':x_train_trans[:,1]\n",
        "})\n",
        "\n",
        "output['age_labels'] = pd.cut(x=x_train['Age'],\n",
        "                                    bins=trf.named_transformers_['first'].bin_edges_[0].tolist())\n",
        "output['fare_labels'] = pd.cut(x=x_train['Fare'],\n",
        "                                    bins=trf.named_transformers_['second'].bin_edges_[0].tolist())"
      ],
      "metadata": {
        "id": "yz7jDUxpFqUP"
      },
      "execution_count": 52,
      "outputs": []
    },
    {
      "cell_type": "code",
      "source": [
        "output"
      ],
      "metadata": {
        "colab": {
          "base_uri": "https://localhost:8080/",
          "height": 424
        },
        "id": "ZA50FEf0FteS",
        "outputId": "93b1dbe6-383e-4e04-9cf4-fbac152d835c"
      },
      "execution_count": 53,
      "outputs": [
        {
          "output_type": "execute_result",
          "data": {
            "text/plain": [
              "      age  age_trf      fare  fare_trf        age_labels        fare_labels\n",
              "328  31.0      2.0   20.5250       0.0  (27.028, 39.354]      (0.0, 42.424]\n",
              "73   26.0      1.0   14.4542       0.0  (12.696, 27.028]      (0.0, 42.424]\n",
              "253  30.0      2.0   16.1000       0.0  (27.028, 39.354]      (0.0, 42.424]\n",
              "719  33.0      2.0    7.7750       0.0  (27.028, 39.354]      (0.0, 42.424]\n",
              "666  25.0      1.0   13.0000       0.0  (12.696, 27.028]      (0.0, 42.424]\n",
              "..    ...      ...       ...       ...               ...                ...\n",
              "92   46.0      3.0   61.1750       1.0  (39.354, 54.215]  (42.424, 100.624]\n",
              "134  25.0      1.0   13.0000       0.0  (12.696, 27.028]      (0.0, 42.424]\n",
              "337  41.0      3.0  134.5000       2.0  (39.354, 54.215]   (100.624, 186.5]\n",
              "548  33.0      2.0   20.5250       0.0  (27.028, 39.354]      (0.0, 42.424]\n",
              "130  33.0      2.0    7.8958       0.0  (27.028, 39.354]      (0.0, 42.424]\n",
              "\n",
              "[571 rows x 6 columns]"
            ],
            "text/html": [
              "\n",
              "  <div id=\"df-65f3eab2-2f33-48c5-bee7-fd37b13b4470\">\n",
              "    <div class=\"colab-df-container\">\n",
              "      <div>\n",
              "<style scoped>\n",
              "    .dataframe tbody tr th:only-of-type {\n",
              "        vertical-align: middle;\n",
              "    }\n",
              "\n",
              "    .dataframe tbody tr th {\n",
              "        vertical-align: top;\n",
              "    }\n",
              "\n",
              "    .dataframe thead th {\n",
              "        text-align: right;\n",
              "    }\n",
              "</style>\n",
              "<table border=\"1\" class=\"dataframe\">\n",
              "  <thead>\n",
              "    <tr style=\"text-align: right;\">\n",
              "      <th></th>\n",
              "      <th>age</th>\n",
              "      <th>age_trf</th>\n",
              "      <th>fare</th>\n",
              "      <th>fare_trf</th>\n",
              "      <th>age_labels</th>\n",
              "      <th>fare_labels</th>\n",
              "    </tr>\n",
              "  </thead>\n",
              "  <tbody>\n",
              "    <tr>\n",
              "      <th>328</th>\n",
              "      <td>31.0</td>\n",
              "      <td>2.0</td>\n",
              "      <td>20.5250</td>\n",
              "      <td>0.0</td>\n",
              "      <td>(27.028, 39.354]</td>\n",
              "      <td>(0.0, 42.424]</td>\n",
              "    </tr>\n",
              "    <tr>\n",
              "      <th>73</th>\n",
              "      <td>26.0</td>\n",
              "      <td>1.0</td>\n",
              "      <td>14.4542</td>\n",
              "      <td>0.0</td>\n",
              "      <td>(12.696, 27.028]</td>\n",
              "      <td>(0.0, 42.424]</td>\n",
              "    </tr>\n",
              "    <tr>\n",
              "      <th>253</th>\n",
              "      <td>30.0</td>\n",
              "      <td>2.0</td>\n",
              "      <td>16.1000</td>\n",
              "      <td>0.0</td>\n",
              "      <td>(27.028, 39.354]</td>\n",
              "      <td>(0.0, 42.424]</td>\n",
              "    </tr>\n",
              "    <tr>\n",
              "      <th>719</th>\n",
              "      <td>33.0</td>\n",
              "      <td>2.0</td>\n",
              "      <td>7.7750</td>\n",
              "      <td>0.0</td>\n",
              "      <td>(27.028, 39.354]</td>\n",
              "      <td>(0.0, 42.424]</td>\n",
              "    </tr>\n",
              "    <tr>\n",
              "      <th>666</th>\n",
              "      <td>25.0</td>\n",
              "      <td>1.0</td>\n",
              "      <td>13.0000</td>\n",
              "      <td>0.0</td>\n",
              "      <td>(12.696, 27.028]</td>\n",
              "      <td>(0.0, 42.424]</td>\n",
              "    </tr>\n",
              "    <tr>\n",
              "      <th>...</th>\n",
              "      <td>...</td>\n",
              "      <td>...</td>\n",
              "      <td>...</td>\n",
              "      <td>...</td>\n",
              "      <td>...</td>\n",
              "      <td>...</td>\n",
              "    </tr>\n",
              "    <tr>\n",
              "      <th>92</th>\n",
              "      <td>46.0</td>\n",
              "      <td>3.0</td>\n",
              "      <td>61.1750</td>\n",
              "      <td>1.0</td>\n",
              "      <td>(39.354, 54.215]</td>\n",
              "      <td>(42.424, 100.624]</td>\n",
              "    </tr>\n",
              "    <tr>\n",
              "      <th>134</th>\n",
              "      <td>25.0</td>\n",
              "      <td>1.0</td>\n",
              "      <td>13.0000</td>\n",
              "      <td>0.0</td>\n",
              "      <td>(12.696, 27.028]</td>\n",
              "      <td>(0.0, 42.424]</td>\n",
              "    </tr>\n",
              "    <tr>\n",
              "      <th>337</th>\n",
              "      <td>41.0</td>\n",
              "      <td>3.0</td>\n",
              "      <td>134.5000</td>\n",
              "      <td>2.0</td>\n",
              "      <td>(39.354, 54.215]</td>\n",
              "      <td>(100.624, 186.5]</td>\n",
              "    </tr>\n",
              "    <tr>\n",
              "      <th>548</th>\n",
              "      <td>33.0</td>\n",
              "      <td>2.0</td>\n",
              "      <td>20.5250</td>\n",
              "      <td>0.0</td>\n",
              "      <td>(27.028, 39.354]</td>\n",
              "      <td>(0.0, 42.424]</td>\n",
              "    </tr>\n",
              "    <tr>\n",
              "      <th>130</th>\n",
              "      <td>33.0</td>\n",
              "      <td>2.0</td>\n",
              "      <td>7.8958</td>\n",
              "      <td>0.0</td>\n",
              "      <td>(27.028, 39.354]</td>\n",
              "      <td>(0.0, 42.424]</td>\n",
              "    </tr>\n",
              "  </tbody>\n",
              "</table>\n",
              "<p>571 rows × 6 columns</p>\n",
              "</div>\n",
              "      <button class=\"colab-df-convert\" onclick=\"convertToInteractive('df-65f3eab2-2f33-48c5-bee7-fd37b13b4470')\"\n",
              "              title=\"Convert this dataframe to an interactive table.\"\n",
              "              style=\"display:none;\">\n",
              "        \n",
              "  <svg xmlns=\"http://www.w3.org/2000/svg\" height=\"24px\"viewBox=\"0 0 24 24\"\n",
              "       width=\"24px\">\n",
              "    <path d=\"M0 0h24v24H0V0z\" fill=\"none\"/>\n",
              "    <path d=\"M18.56 5.44l.94 2.06.94-2.06 2.06-.94-2.06-.94-.94-2.06-.94 2.06-2.06.94zm-11 1L8.5 8.5l.94-2.06 2.06-.94-2.06-.94L8.5 2.5l-.94 2.06-2.06.94zm10 10l.94 2.06.94-2.06 2.06-.94-2.06-.94-.94-2.06-.94 2.06-2.06.94z\"/><path d=\"M17.41 7.96l-1.37-1.37c-.4-.4-.92-.59-1.43-.59-.52 0-1.04.2-1.43.59L10.3 9.45l-7.72 7.72c-.78.78-.78 2.05 0 2.83L4 21.41c.39.39.9.59 1.41.59.51 0 1.02-.2 1.41-.59l7.78-7.78 2.81-2.81c.8-.78.8-2.07 0-2.86zM5.41 20L4 18.59l7.72-7.72 1.47 1.35L5.41 20z\"/>\n",
              "  </svg>\n",
              "      </button>\n",
              "      \n",
              "  <style>\n",
              "    .colab-df-container {\n",
              "      display:flex;\n",
              "      flex-wrap:wrap;\n",
              "      gap: 12px;\n",
              "    }\n",
              "\n",
              "    .colab-df-convert {\n",
              "      background-color: #E8F0FE;\n",
              "      border: none;\n",
              "      border-radius: 50%;\n",
              "      cursor: pointer;\n",
              "      display: none;\n",
              "      fill: #1967D2;\n",
              "      height: 32px;\n",
              "      padding: 0 0 0 0;\n",
              "      width: 32px;\n",
              "    }\n",
              "\n",
              "    .colab-df-convert:hover {\n",
              "      background-color: #E2EBFA;\n",
              "      box-shadow: 0px 1px 2px rgba(60, 64, 67, 0.3), 0px 1px 3px 1px rgba(60, 64, 67, 0.15);\n",
              "      fill: #174EA6;\n",
              "    }\n",
              "\n",
              "    [theme=dark] .colab-df-convert {\n",
              "      background-color: #3B4455;\n",
              "      fill: #D2E3FC;\n",
              "    }\n",
              "\n",
              "    [theme=dark] .colab-df-convert:hover {\n",
              "      background-color: #434B5C;\n",
              "      box-shadow: 0px 1px 3px 1px rgba(0, 0, 0, 0.15);\n",
              "      filter: drop-shadow(0px 1px 2px rgba(0, 0, 0, 0.3));\n",
              "      fill: #FFFFFF;\n",
              "    }\n",
              "  </style>\n",
              "\n",
              "      <script>\n",
              "        const buttonEl =\n",
              "          document.querySelector('#df-65f3eab2-2f33-48c5-bee7-fd37b13b4470 button.colab-df-convert');\n",
              "        buttonEl.style.display =\n",
              "          google.colab.kernel.accessAllowed ? 'block' : 'none';\n",
              "\n",
              "        async function convertToInteractive(key) {\n",
              "          const element = document.querySelector('#df-65f3eab2-2f33-48c5-bee7-fd37b13b4470');\n",
              "          const dataTable =\n",
              "            await google.colab.kernel.invokeFunction('convertToInteractive',\n",
              "                                                     [key], {});\n",
              "          if (!dataTable) return;\n",
              "\n",
              "          const docLinkHtml = 'Like what you see? Visit the ' +\n",
              "            '<a target=\"_blank\" href=https://colab.research.google.com/notebooks/data_table.ipynb>data table notebook</a>'\n",
              "            + ' to learn more about interactive tables.';\n",
              "          element.innerHTML = '';\n",
              "          dataTable['output_type'] = 'display_data';\n",
              "          await google.colab.output.renderOutput(dataTable, element);\n",
              "          const docLink = document.createElement('div');\n",
              "          docLink.innerHTML = docLinkHtml;\n",
              "          element.appendChild(docLink);\n",
              "        }\n",
              "      </script>\n",
              "    </div>\n",
              "  </div>\n",
              "  "
            ]
          },
          "metadata": {},
          "execution_count": 53
        }
      ]
    },
    {
      "cell_type": "code",
      "source": [
        "kbin_age1 = KBinsDiscretizer(n_bins = 15, strategy = 'quantile', encode = 'ordinal')\n",
        "kbin_fare1 = KBinsDiscretizer(n_bins = 15, strategy = 'quantile', encode = 'ordinal')\n",
        "\n",
        "trf1 = ColumnTransformer([\n",
        "    ('first', kbin_age1,[0]),\n",
        "    ('second', kbin_fare1,[1])])\n",
        "\n",
        "x_train_trans1 = trf1.fit_transform(x_train)\n",
        "x_test_trans1 = trf1.transform(x_test)\n",
        "\n",
        "clf1 = DecisionTreeClassifier()\n",
        "\n",
        "clf1.fit(x_train_trans1, y_train)\n",
        "accuracy_score(y_test,clf1.predict(x_test_trans1))"
      ],
      "metadata": {
        "colab": {
          "base_uri": "https://localhost:8080/"
        },
        "id": "9nPYqjb9DCPI",
        "outputId": "4fae6b02-39e4-4696-8ef3-6967129a0428"
      },
      "execution_count": 62,
      "outputs": [
        {
          "output_type": "execute_result",
          "data": {
            "text/plain": [
              "0.6363636363636364"
            ]
          },
          "metadata": {},
          "execution_count": 62
        }
      ]
    },
    {
      "cell_type": "code",
      "source": [
        "kbin_age2 = KBinsDiscretizer(n_bins = 10, strategy = 'uniform', encode = 'ordinal')\n",
        "kbin_fare2 = KBinsDiscretizer(n_bins = 10\n",
        "                              , strategy = 'uniform', encode = 'ordinal')\n",
        "\n",
        "trf2 = ColumnTransformer([\n",
        "    ('first', kbin_age2,[0]),\n",
        "    ('second', kbin_fare2,[1])])\n",
        "\n",
        "x_train_trans2 = trf2.fit_transform(x_train)\n",
        "x_test_trans2 = trf2.transform(x_test)\n",
        "\n",
        "clf2 = DecisionTreeClassifier()\n",
        "\n",
        "clf2.fit(x_train_trans2, y_train)\n",
        "accuracy_score(y_test,clf2.predict(x_test_trans2))"
      ],
      "metadata": {
        "colab": {
          "base_uri": "https://localhost:8080/"
        },
        "id": "4BFjv0drHp9D",
        "outputId": "303cefab-994e-41b8-fa60-e764e864c4ff"
      },
      "execution_count": 75,
      "outputs": [
        {
          "output_type": "execute_result",
          "data": {
            "text/plain": [
              "0.6783216783216783"
            ]
          },
          "metadata": {},
          "execution_count": 75
        }
      ]
    },
    {
      "cell_type": "code",
      "source": [
        "def discretize(bins,strategy):\n",
        "    kbin_age = KBinsDiscretizer(n_bins=bins,encode='ordinal',strategy=strategy)\n",
        "    kbin_fare = KBinsDiscretizer(n_bins=bins,encode='ordinal',strategy=strategy)\n",
        "    \n",
        "    trf = ColumnTransformer([\n",
        "        ('first',kbin_age,[0]),\n",
        "        ('second',kbin_fare,[1])\n",
        "    ])\n",
        "    \n",
        "    X_trf = trf.fit_transform(x)\n",
        "    print('Cross Val Score is {}'.format(np.mean(cross_val_score(DecisionTreeClassifier(),x,y,cv=10,scoring='accuracy'))))\n",
        "    \n",
        "    plt.figure(figsize=(14,4))\n",
        "    plt.subplot(121)\n",
        "    plt.hist(x['Age'])\n",
        "    plt.title(\"Age Before\")\n",
        "\n",
        "    plt.subplot(122)\n",
        "    plt.hist(X_trf[:,0],color='red')\n",
        "    plt.title(\"Age After\")\n",
        "\n",
        "    plt.show()\n",
        "    \n",
        "    plt.figure(figsize=(14,4))\n",
        "    plt.subplot(121)\n",
        "    plt.hist(x['Fare'])\n",
        "    plt.title(\"Fare Before\")\n",
        "\n",
        "    plt.subplot(122)\n",
        "    plt.hist(X_trf[:,1],color='red')\n",
        "    plt.title(\"Fare After\")\n",
        "\n",
        "    plt.show()"
      ],
      "metadata": {
        "id": "BExpZPWrQEeE"
      },
      "execution_count": 89,
      "outputs": []
    },
    {
      "cell_type": "code",
      "source": [
        "discretize(10,'quantile')"
      ],
      "metadata": {
        "colab": {
          "base_uri": "https://localhost:8080/",
          "height": 782
        },
        "id": "-5Pk0lIaQF1Y",
        "outputId": "3a12608b-da71-4800-eba0-cfa7a4ac7ee7"
      },
      "execution_count": 90,
      "outputs": [
        {
          "output_type": "stream",
          "name": "stdout",
          "text": [
            "Cross Val Score is 0.6330985915492957\n"
          ]
        },
        {
          "output_type": "display_data",
          "data": {
            "text/plain": [
              "<Figure size 1400x400 with 2 Axes>"
            ],
            "image/png": "[encoded data removed]"
          },
          "metadata": {}
        },
        {
          "output_type": "display_data",
          "data": {
            "text/plain": [
              "<Figure size 1400x400 with 2 Axes>"
            ],
            "image/png": "[encoded data removed]"
          },
          "metadata": {}
        }
      ]
    },
    {
      "cell_type": "markdown",
      "source": [
        "The change is very clear. In each bin, there is almost equal number of items. This is what quantile binner do."
      ],
      "metadata": {
        "id": "p8kqTRSkRDXA"
      }
    },
    {
      "cell_type": "code",
      "source": [
        "discretize(10,'kmeans')"
      ],
      "metadata": {
        "colab": {
          "base_uri": "https://localhost:8080/",
          "height": 782
        },
        "id": "Qcl4WnE4RCza",
        "outputId": "ff0cdde5-3051-4e8f-e0ad-57834c38f971"
      },
      "execution_count": 88,
      "outputs": [
        {
          "output_type": "stream",
          "name": "stdout",
          "text": [
            "0.6373435054773082\n"
          ]
        },
        {
          "output_type": "display_data",
          "data": {
            "text/plain": [
              "<Figure size 1400x400 with 2 Axes>"
            ],
            "image/png": "[encoded data removed]"
          },
          "metadata": {}
        },
        {
          "output_type": "display_data",
          "data": {
            "text/plain": [
              "<Figure size 1400x400 with 2 Axes>"
            ],
            "image/png": "[encoded data removed]"
          },
          "metadata": {}
        }
      ]
    },
    {
      "cell_type": "markdown",
      "source": [
        "No much changes."
      ],
      "metadata": {
        "id": "Cs9qJSdyRVsT"
      }
    },
    {
      "cell_type": "code",
      "source": [
        "discretize(10,'uniform')"
      ],
      "metadata": {
        "colab": {
          "base_uri": "https://localhost:8080/",
          "height": 782
        },
        "id": "x48F7LdxQOsx",
        "outputId": "69dc8494-9835-4927-dd5d-aeef9d610361"
      },
      "execution_count": 87,
      "outputs": [
        {
          "output_type": "stream",
          "name": "stdout",
          "text": [
            "0.6359350547730829\n"
          ]
        },
        {
          "output_type": "display_data",
          "data": {
            "text/plain": [
              "<Figure size 1400x400 with 2 Axes>"
            ],
            "image/png": "[encoded data removed]"
          },
          "metadata": {}
        },
        {
          "output_type": "display_data",
          "data": {
            "text/plain": [
              "<Figure size 1400x400 with 2 Axes>"
            ],
            "image/png": "[encoded data removed]"
          },
          "metadata": {}
        }
      ]
    },
    {
      "cell_type": "markdown",
      "source": [
        "No changes."
      ],
      "metadata": {
        "id": "jcBKM0R_RYcE"
      }
    },
    {
      "cell_type": "markdown",
      "source": [
        "# **Binarization**"
      ],
      "metadata": {
        "id": "i4RspzQySzat"
      }
    },
    {
      "cell_type": "code",
      "source": [
        "from sklearn.preprocessing import Binarizer\n",
        "# It can be used for cases like yes or no sometimes."
      ],
      "metadata": {
        "id": "ix5CupGtS1z5"
      },
      "execution_count": 92,
      "outputs": []
    },
    {
      "cell_type": "code",
      "source": [
        "# trf = ColumnTransformer([\n",
        "#     ('bin',Binarizer(copy=False),['family'])\n",
        "# ],remainder='passthrough')"
      ],
      "metadata": {
        "id": "tdS6ZKtmTdik"
      },
      "execution_count": null,
      "outputs": []
    }
  ]
}