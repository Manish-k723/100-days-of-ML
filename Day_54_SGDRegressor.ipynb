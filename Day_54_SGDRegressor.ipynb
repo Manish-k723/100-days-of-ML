{
  "nbformat": 4,
  "nbformat_minor": 0,
  "metadata": {
    "colab": {
      "provenance": [],
      "authorship_tag": "ABX9TyOX/NPs/LX3tcFbV++oSeSd",
      "include_colab_link": true
    },
    "kernelspec": {
      "name": "python3",
      "display_name": "Python 3"
    },
    "language_info": {
      "name": "python"
    }
  },
  "cells": [
    {
      "cell_type": "markdown",
      "metadata": {
        "id": "view-in-github",
        "colab_type": "text"
      },
      "source": [
        "<a href=\"https://colab.research.google.com/github/Manish-k723/100-days-of-ML/blob/main/Day_54_SGDRegressor.ipynb\" target=\"_parent\"><img src=\"https://colab.research.google.com/assets/colab-badge.svg\" alt=\"Open In Colab\"/></a>"
      ]
    },
    {
      "cell_type": "code",
      "execution_count": 29,
      "metadata": {
        "id": "qgERiIcCaokK"
      },
      "outputs": [],
      "source": [
        "import numpy as np\n",
        "import seaborn as sns\n",
        "import pandas as pd\n",
        "\n",
        "from sklearn.datasets import load_diabetes\n",
        "from sklearn.model_selection import train_test_split\n",
        "from sklearn.linear_model import LinearRegression\n",
        "from sklearn.metrics import r2_score"
      ]
    },
    {
      "cell_type": "code",
      "source": [
        "X,y = load_diabetes(return_X_y = True)"
      ],
      "metadata": {
        "id": "bThB_hFxbCWi"
      },
      "execution_count": 30,
      "outputs": []
    },
    {
      "cell_type": "code",
      "source": [
        "X_train,X_val,y_train,y_val =train_test_split(X,y, test_size = 0.2, random_state = 12)"
      ],
      "metadata": {
        "id": "ZDHICK4mbU-G"
      },
      "execution_count": 31,
      "outputs": []
    },
    {
      "cell_type": "code",
      "source": [
        "model = LinearRegression()"
      ],
      "metadata": {
        "id": "XC-Q9rCxbONH"
      },
      "execution_count": 32,
      "outputs": []
    },
    {
      "cell_type": "code",
      "source": [
        "model.fit(X_train,y_train)\n",
        "model.coef_, model.intercept_"
      ],
      "metadata": {
        "colab": {
          "base_uri": "https://localhost:8080/"
        },
        "id": "nFcjEMzFbdh-",
        "outputId": "7bb5659f-7add-47ab-9c51-93bdbc6250c1"
      },
      "execution_count": 33,
      "outputs": [
        {
          "output_type": "execute_result",
          "data": {
            "text/plain": [
              "(array([ -53.9271644 , -228.97924355,  535.29346579,  350.36740549,\n",
              "        -736.21177951,  427.42399227,   94.8028264 ,  184.23951707,\n",
              "         721.91554934,  115.46088346]),\n",
              " 152.89572568540441)"
            ]
          },
          "metadata": {},
          "execution_count": 33
        }
      ]
    },
    {
      "cell_type": "code",
      "source": [
        "pred = model.predict(X_val)\n",
        "r2_score(pred, y_val)"
      ],
      "metadata": {
        "colab": {
          "base_uri": "https://localhost:8080/"
        },
        "id": "joKiRJQxbjx1",
        "outputId": "04edfdb2-7980-4229-9259-0bdb245b0d1f"
      },
      "execution_count": 34,
      "outputs": [
        {
          "output_type": "execute_result",
          "data": {
            "text/plain": [
              "-0.0631809800729588"
            ]
          },
          "metadata": {},
          "execution_count": 34
        }
      ]
    },
    {
      "cell_type": "code",
      "source": [
        "class SGDRegressor:\n",
        "  \n",
        "  def __init__(self, learning_rate = 0.01, epochs = 100):\n",
        "    self.learning_rate = learning_rate\n",
        "    self.epochs = epochs\n",
        "    self.coef_ = None\n",
        "    self.intercept_ = None\n",
        "\n",
        "  def fit(self, X_train, y_train):\n",
        "    self.intercept_ = 0\n",
        "    self.coef_ = np.ones(X_train.shape[1])\n",
        "    \n",
        "    for i in range(self.epochs):\n",
        "      for j in range(X_train.shape[0]):\n",
        "        idx = np.random.randint(0,X_train.shape[0])\n",
        "        y_hat = np.dot(X_train[idx], self.coef_) + self.intercept_\n",
        "\n",
        "        intercept_der = -2*(y_train[idx] - y_hat)\n",
        "        self.intercept_ = self.intercept_ - self.learning_rate * intercept_der\n",
        "\n",
        "        coef_der = -2*np.dot((y_train[idx] - y_hat),X_train[idx])\n",
        "        self.coef_ = self.coef_ - self.learning_rate * coef_der\n",
        "    print(self.coef_, self.intercept_)\n",
        "\n",
        "  def predict(self, X_test):\n",
        "    return np.dot(X_test, self.coef_) + self.intercept_"
      ],
      "metadata": {
        "id": "-s7pNljobvAJ"
      },
      "execution_count": 11,
      "outputs": []
    },
    {
      "cell_type": "code",
      "source": [
        "sgd = SGDRegressor(learning_rate = 0.001, epochs = 50)"
      ],
      "metadata": {
        "id": "Zy35byS2dqhh"
      },
      "execution_count": 20,
      "outputs": []
    },
    {
      "cell_type": "code",
      "source": [
        "sgd.fit(X_train, y_train)"
      ],
      "metadata": {
        "colab": {
          "base_uri": "https://localhost:8080/"
        },
        "id": "HF5oDlDcdzbw",
        "outputId": "c6a255d1-c6f3-464e-fca6-81806dac28f2"
      },
      "execution_count": 21,
      "outputs": [
        {
          "output_type": "stream",
          "name": "stdout",
          "text": [
            "[ 21.94055912  -0.5671101   71.43271628  54.0549789   21.30954098\n",
            "  16.33120977 -43.42768757  49.38274883  64.70039308  45.34760632] 157.81769110167414\n"
          ]
        }
      ]
    },
    {
      "cell_type": "code",
      "source": [
        "y_pred = sgd.predict(X_val)\n",
        "r2_score(y_pred, y_val)"
      ],
      "metadata": {
        "colab": {
          "base_uri": "https://localhost:8080/"
        },
        "id": "AZz0CX8zd6PS",
        "outputId": "dd5b1d58-5ded-45d3-d7b5-b44b792be7d6"
      },
      "execution_count": 22,
      "outputs": [
        {
          "output_type": "execute_result",
          "data": {
            "text/plain": [
              "-27.594386364327804"
            ]
          },
          "metadata": {},
          "execution_count": 22
        }
      ]
    },
    {
      "cell_type": "code",
      "source": [
        "from sklearn.linear_model import SGDRegressor"
      ],
      "metadata": {
        "id": "r-sZ-1EfeDpf"
      },
      "execution_count": 35,
      "outputs": []
    },
    {
      "cell_type": "code",
      "source": [
        "model = SGDRegressor(max_iter = 2000)"
      ],
      "metadata": {
        "id": "2l4itLyRhmrK"
      },
      "execution_count": 42,
      "outputs": []
    },
    {
      "cell_type": "code",
      "source": [
        "model.fit(X_train,y_train)\n",
        "model.coef_, model.intercept_"
      ],
      "metadata": {
        "colab": {
          "base_uri": "https://localhost:8080/"
        },
        "id": "M-p0P_EWhota",
        "outputId": "033e5d61-0908-4285-d1b3-b318ae139960"
      },
      "execution_count": 43,
      "outputs": [
        {
          "output_type": "stream",
          "name": "stderr",
          "text": [
            "/usr/local/lib/python3.10/dist-packages/sklearn/linear_model/_stochastic_gradient.py:1548: ConvergenceWarning: Maximum number of iteration reached before convergence. Consider increasing max_iter to improve the fit.\n",
            "  warnings.warn(\n"
          ]
        },
        {
          "output_type": "execute_result",
          "data": {
            "text/plain": [
              "(array([  22.67217319,  -53.69190814,  345.04622018,  233.74854409,\n",
              "          21.29479489,  -10.97677559, -184.69494653,  155.64939842,\n",
              "         276.61662629,  153.85861272]),\n",
              " array([153.25620049]))"
            ]
          },
          "metadata": {},
          "execution_count": 43
        }
      ]
    },
    {
      "cell_type": "code",
      "source": [
        "pred = model.predict(X_val)\n",
        "r2_score(pred, y_val)"
      ],
      "metadata": {
        "colab": {
          "base_uri": "https://localhost:8080/"
        },
        "id": "SmvJSPtxhs2_",
        "outputId": "5c788516-0358-467a-d20a-4e10d131c3e7"
      },
      "execution_count": 44,
      "outputs": [
        {
          "output_type": "execute_result",
          "data": {
            "text/plain": [
              "-0.9881086550940643"
            ]
          },
          "metadata": {},
          "execution_count": 44
        }
      ]
    },
    {
      "cell_type": "code",
      "source": [],
      "metadata": {
        "id": "BbsABnu4hxIA"
      },
      "execution_count": 41,
      "outputs": []
    }
  ]
}