{
  "nbformat": 4,
  "nbformat_minor": 0,
  "metadata": {
    "colab": {
      "provenance": [],
      "authorship_tag": "ABX9TyNA38yQO1mgaC1lorYYZ7KQ",
      "include_colab_link": true
    },
    "kernelspec": {
      "name": "python3",
      "display_name": "Python 3"
    },
    "language_info": {
      "name": "python"
    }
  },
  "cells": [
    {
      "cell_type": "markdown",
      "metadata": {
        "id": "view-in-github",
        "colab_type": "text"
      },
      "source": [
        "<a href=\"https://colab.research.google.com/github/Manish-k723/100-days-of-ML/blob/main/Day_55_MBGDRegressor.ipynb\" target=\"_parent\"><img src=\"https://colab.research.google.com/assets/colab-badge.svg\" alt=\"Open In Colab\"/></a>"
      ]
    },
    {
      "cell_type": "code",
      "execution_count": 22,
      "metadata": {
        "id": "qgERiIcCaokK"
      },
      "outputs": [],
      "source": [
        "import numpy as np\n",
        "import seaborn as sns\n",
        "import pandas as pd\n",
        "\n",
        "from sklearn.datasets import load_diabetes\n",
        "from sklearn.model_selection import train_test_split\n",
        "from sklearn.linear_model import LinearRegression\n",
        "from sklearn.metrics import r2_score"
      ]
    },
    {
      "cell_type": "code",
      "source": [
        "X,y = load_diabetes(return_X_y = True)"
      ],
      "metadata": {
        "id": "bThB_hFxbCWi"
      },
      "execution_count": 23,
      "outputs": []
    },
    {
      "cell_type": "code",
      "source": [
        "X_train,X_val,y_train,y_val =train_test_split(X,y, test_size = 0.2, random_state = 42)"
      ],
      "metadata": {
        "id": "ZDHICK4mbU-G"
      },
      "execution_count": 24,
      "outputs": []
    },
    {
      "cell_type": "code",
      "source": [
        "model = LinearRegression()"
      ],
      "metadata": {
        "id": "XC-Q9rCxbONH"
      },
      "execution_count": 25,
      "outputs": []
    },
    {
      "cell_type": "code",
      "source": [
        "model.fit(X_train,y_train)\n",
        "model.coef_, model.intercept_"
      ],
      "metadata": {
        "colab": {
          "base_uri": "https://localhost:8080/"
        },
        "id": "nFcjEMzFbdh-",
        "outputId": "e97841e0-c2fc-4904-c637-28ae0abfc97d"
      },
      "execution_count": 26,
      "outputs": [
        {
          "output_type": "execute_result",
          "data": {
            "text/plain": [
              "(array([  37.90402135, -241.96436231,  542.42875852,  347.70384391,\n",
              "        -931.48884588,  518.06227698,  163.41998299,  275.31790158,\n",
              "         736.1988589 ,   48.67065743]),\n",
              " 151.34560453985995)"
            ]
          },
          "metadata": {},
          "execution_count": 26
        }
      ]
    },
    {
      "cell_type": "code",
      "source": [
        "pred = model.predict(X_val)\n",
        "r2_score(pred, y_val)"
      ],
      "metadata": {
        "colab": {
          "base_uri": "https://localhost:8080/"
        },
        "id": "joKiRJQxbjx1",
        "outputId": "fbc818e1-d2e0-4381-cfa1-143a35b67780"
      },
      "execution_count": 27,
      "outputs": [
        {
          "output_type": "execute_result",
          "data": {
            "text/plain": [
              "0.00690491583216335"
            ]
          },
          "metadata": {},
          "execution_count": 27
        }
      ]
    },
    {
      "cell_type": "code",
      "source": [
        "import random\n",
        "class MBGDRegressor:\n",
        "  def __init__(self, batch_size = 25, learning_rate = 0.01, epochs = 100):\n",
        "    self.learning_rate = learning_rate\n",
        "    self.epochs = epochs\n",
        "    self.coef_ = None\n",
        "    self.intercept_ = None\n",
        "    self.batch_size = batch_size\n",
        "\n",
        "  def fit(self, X_train, y_train):\n",
        "    self.intercept_ = 0\n",
        "    self.coef_ = np.ones(X_train.shape[1])\n",
        "    \n",
        "    for i in range(self.epochs):\n",
        "      for j in range(X_train.shape[0]//self.batch_size):\n",
        "        #generating random batch of indexes\n",
        "        idx = random.sample(range(X_train.shape[0]), self.batch_size)\n",
        "\n",
        "        #calculating predicted values\n",
        "        y_hat = np.dot(X_train[idx], self.coef_) + self.intercept_\n",
        "        #calculating derivative of intercept/slope\n",
        "        intercept_der = -2*np.mean(y_train[idx] - y_hat)\n",
        "        #calculating intercept\n",
        "        self.intercept_ = self.intercept_ - self.learning_rate * intercept_der\n",
        "\n",
        "        #calculating coeficient derivatives/slope\n",
        "        coef_der = -2*np.dot((y_train[idx] - y_hat),X_train[idx])\n",
        "        # calculating coefficients derivates\n",
        "        self.coef_ = self.coef_ - self.learning_rate * coef_der\n",
        "    print(self.coef_, self.intercept_)\n",
        "\n",
        "  def predict(self, X_test):\n",
        "    return np.dot(X_test, self.coef_) + self.intercept_"
      ],
      "metadata": {
        "id": "-s7pNljobvAJ"
      },
      "execution_count": 28,
      "outputs": []
    },
    {
      "cell_type": "code",
      "source": [
        "mbgd = MBGDRegressor(batch_size = X_train.shape[0]//10,learning_rate = 0.05, epochs = 100)"
      ],
      "metadata": {
        "id": "Zy35byS2dqhh"
      },
      "execution_count": 53,
      "outputs": []
    },
    {
      "cell_type": "code",
      "source": [
        "mbgd.fit(X_train, y_train)"
      ],
      "metadata": {
        "colab": {
          "base_uri": "https://localhost:8080/"
        },
        "id": "HF5oDlDcdzbw",
        "outputId": "bf3c7d93-b0e2-4f16-fac4-33f9e4a7ec1d"
      },
      "execution_count": 54,
      "outputs": [
        {
          "output_type": "stream",
          "name": "stdout",
          "text": [
            "[  35.47155018 -249.89197068  556.82059936  350.12523144 -107.10056192\n",
            " -100.50766944 -201.08062024  150.14629873  436.61111074   41.0154389 ] 155.98453292524252\n"
          ]
        }
      ]
    },
    {
      "cell_type": "code",
      "source": [
        "y_pred = mbgd.predict(X_val)\n",
        "r2_score(y_pred, y_val)"
      ],
      "metadata": {
        "colab": {
          "base_uri": "https://localhost:8080/"
        },
        "id": "sdjCfjgjPXAh",
        "outputId": "c0619d83-b44e-42c2-9b8b-a4c1e779d6f4"
      },
      "execution_count": 55,
      "outputs": [
        {
          "output_type": "execute_result",
          "data": {
            "text/plain": [
              "-0.01156798097017897"
            ]
          },
          "metadata": {},
          "execution_count": 55
        }
      ]
    },
    {
      "cell_type": "code",
      "source": [
        "from sklearn.linear_model import SGDRegressor"
      ],
      "metadata": {
        "id": "r-sZ-1EfeDpf"
      },
      "execution_count": 57,
      "outputs": []
    },
    {
      "cell_type": "code",
      "source": [
        "model = SGDRegressor(learning_rate = 'constant')"
      ],
      "metadata": {
        "id": "2l4itLyRhmrK"
      },
      "execution_count": 58,
      "outputs": []
    },
    {
      "cell_type": "code",
      "source": [
        "batch_size = 35\n",
        "\n",
        "for i in range(100):\n",
        "\n",
        "  idx = random.sample(range(X_train.shape[0]), batch_size)\n",
        "  model.partial_fit(X_train[idx],y_train[idx])"
      ],
      "metadata": {
        "id": "M-p0P_EWhota"
      },
      "execution_count": 59,
      "outputs": []
    },
    {
      "cell_type": "code",
      "source": [
        "model.coef_, model.intercept_"
      ],
      "metadata": {
        "colab": {
          "base_uri": "https://localhost:8080/"
        },
        "id": "SmvJSPtxhs2_",
        "outputId": "a33aab88-6e63-4a60-f853-93e48f056632"
      },
      "execution_count": 60,
      "outputs": [
        {
          "output_type": "execute_result",
          "data": {
            "text/plain": [
              "(array([ 20.19451208,   0.38924829,  68.79303834,  52.84474461,\n",
              "         21.25603952,  15.04932517, -40.21556085,  45.50186671,\n",
              "         62.68683161,  43.35248848]),\n",
              " array([143.25359369]))"
            ]
          },
          "metadata": {},
          "execution_count": 60
        }
      ]
    },
    {
      "cell_type": "code",
      "source": [
        "r2_score(model.predict(X_val),y_val)"
      ],
      "metadata": {
        "id": "BbsABnu4hxIA",
        "colab": {
          "base_uri": "https://localhost:8080/"
        },
        "outputId": "8cd744df-8bfd-447d-ead8-a12e36de7d99"
      },
      "execution_count": 61,
      "outputs": [
        {
          "output_type": "execute_result",
          "data": {
            "text/plain": [
              "-29.992775369267207"
            ]
          },
          "metadata": {},
          "execution_count": 61
        }
      ]
    },
    {
      "cell_type": "code",
      "source": [],
      "metadata": {
        "id": "FBiX0Q7mSoAe"
      },
      "execution_count": null,
      "outputs": []
    }
  ]
}