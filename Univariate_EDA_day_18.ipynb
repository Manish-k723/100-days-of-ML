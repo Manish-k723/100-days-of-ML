{
  "nbformat": 4,
  "nbformat_minor": 0,
  "metadata": {
    "colab": {
      "provenance": [],
      "authorship_tag": "ABX9TyPjwlqoElNCe8vMaPVNyMSk",
      "include_colab_link": true
    },
    "kernelspec": {
      "name": "python3",
      "display_name": "Python 3"
    },
    "language_info": {
      "name": "python"
    }
  },
  "cells": [
    {
      "cell_type": "markdown",
      "metadata": {
        "id": "view-in-github",
        "colab_type": "text"
      },
      "source": [
        "<a href=\"https://colab.research.google.com/github/Manish-k723/3-months-of-ML/blob/main/Univariate_EDA_day_18.ipynb\" target=\"_parent\"><img src=\"https://colab.research.google.com/assets/colab-badge.svg\" alt=\"Open In Colab\"/></a>"
      ]
    },
    {
      "cell_type": "code",
      "execution_count": 1,
      "metadata": {
        "id": "ga_69xhvs7rv"
      },
      "outputs": [],
      "source": [
        "import pandas as pd\n",
        "import numpy as np"
      ]
    },
    {
      "cell_type": "code",
      "source": [
        "df = pd.read_csv('https://raw.githubusercontent.com/campusx-official/100-days-of-machine-learning/main/day20-univariate-analysis/train.csv')"
      ],
      "metadata": {
        "id": "-cYHRZivuzg9"
      },
      "execution_count": 2,
      "outputs": []
    },
    {
      "cell_type": "code",
      "source": [
        "df.sample(5)"
      ],
      "metadata": {
        "colab": {
          "base_uri": "https://localhost:8080/",
          "height": 206
        },
        "id": "frUv-e25u2Dm",
        "outputId": "966131e1-4aa7-4f27-e240-1a62ff2516ea"
      },
      "execution_count": 4,
      "outputs": [
        {
          "output_type": "execute_result",
          "data": {
            "text/plain": [
              "     PassengerId  Survived  Pclass  \\\n",
              "853          854         1       1   \n",
              "385          386         0       2   \n",
              "680          681         0       3   \n",
              "313          314         0       3   \n",
              "319          320         1       1   \n",
              "\n",
              "                                                  Name     Sex   Age  SibSp  \\\n",
              "853                          Lines, Miss. Mary Conover  female  16.0      0   \n",
              "385                          Davies, Mr. Charles Henry    male  18.0      0   \n",
              "680                                Peters, Miss. Katie  female   NaN      0   \n",
              "313                             Hendekovic, Mr. Ignjac    male  28.0      0   \n",
              "319  Spedden, Mrs. Frederic Oakley (Margaretta Corn...  female  40.0      1   \n",
              "\n",
              "     Parch        Ticket      Fare Cabin Embarked  \n",
              "853      1      PC 17592   39.4000   D28        S  \n",
              "385      0  S.O.C. 14879   73.5000   NaN        S  \n",
              "680      0        330935    8.1375   NaN        Q  \n",
              "313      0        349243    7.8958   NaN        S  \n",
              "319      1         16966  134.5000   E34        C  "
            ],
            "text/html": [
              "\n",
              "  <div id=\"df-24e43b13-becc-474f-994f-2b94bc0c6e1f\">\n",
              "    <div class=\"colab-df-container\">\n",
              "      <div>\n",
              "<style scoped>\n",
              "    .dataframe tbody tr th:only-of-type {\n",
              "        vertical-align: middle;\n",
              "    }\n",
              "\n",
              "    .dataframe tbody tr th {\n",
              "        vertical-align: top;\n",
              "    }\n",
              "\n",
              "    .dataframe thead th {\n",
              "        text-align: right;\n",
              "    }\n",
              "</style>\n",
              "<table border=\"1\" class=\"dataframe\">\n",
              "  <thead>\n",
              "    <tr style=\"text-align: right;\">\n",
              "      <th></th>\n",
              "      <th>PassengerId</th>\n",
              "      <th>Survived</th>\n",
              "      <th>Pclass</th>\n",
              "      <th>Name</th>\n",
              "      <th>Sex</th>\n",
              "      <th>Age</th>\n",
              "      <th>SibSp</th>\n",
              "      <th>Parch</th>\n",
              "      <th>Ticket</th>\n",
              "      <th>Fare</th>\n",
              "      <th>Cabin</th>\n",
              "      <th>Embarked</th>\n",
              "    </tr>\n",
              "  </thead>\n",
              "  <tbody>\n",
              "    <tr>\n",
              "      <th>853</th>\n",
              "      <td>854</td>\n",
              "      <td>1</td>\n",
              "      <td>1</td>\n",
              "      <td>Lines, Miss. Mary Conover</td>\n",
              "      <td>female</td>\n",
              "      <td>16.0</td>\n",
              "      <td>0</td>\n",
              "      <td>1</td>\n",
              "      <td>PC 17592</td>\n",
              "      <td>39.4000</td>\n",
              "      <td>D28</td>\n",
              "      <td>S</td>\n",
              "    </tr>\n",
              "    <tr>\n",
              "      <th>385</th>\n",
              "      <td>386</td>\n",
              "      <td>0</td>\n",
              "      <td>2</td>\n",
              "      <td>Davies, Mr. Charles Henry</td>\n",
              "      <td>male</td>\n",
              "      <td>18.0</td>\n",
              "      <td>0</td>\n",
              "      <td>0</td>\n",
              "      <td>S.O.C. 14879</td>\n",
              "      <td>73.5000</td>\n",
              "      <td>NaN</td>\n",
              "      <td>S</td>\n",
              "    </tr>\n",
              "    <tr>\n",
              "      <th>680</th>\n",
              "      <td>681</td>\n",
              "      <td>0</td>\n",
              "      <td>3</td>\n",
              "      <td>Peters, Miss. Katie</td>\n",
              "      <td>female</td>\n",
              "      <td>NaN</td>\n",
              "      <td>0</td>\n",
              "      <td>0</td>\n",
              "      <td>330935</td>\n",
              "      <td>8.1375</td>\n",
              "      <td>NaN</td>\n",
              "      <td>Q</td>\n",
              "    </tr>\n",
              "    <tr>\n",
              "      <th>313</th>\n",
              "      <td>314</td>\n",
              "      <td>0</td>\n",
              "      <td>3</td>\n",
              "      <td>Hendekovic, Mr. Ignjac</td>\n",
              "      <td>male</td>\n",
              "      <td>28.0</td>\n",
              "      <td>0</td>\n",
              "      <td>0</td>\n",
              "      <td>349243</td>\n",
              "      <td>7.8958</td>\n",
              "      <td>NaN</td>\n",
              "      <td>S</td>\n",
              "    </tr>\n",
              "    <tr>\n",
              "      <th>319</th>\n",
              "      <td>320</td>\n",
              "      <td>1</td>\n",
              "      <td>1</td>\n",
              "      <td>Spedden, Mrs. Frederic Oakley (Margaretta Corn...</td>\n",
              "      <td>female</td>\n",
              "      <td>40.0</td>\n",
              "      <td>1</td>\n",
              "      <td>1</td>\n",
              "      <td>16966</td>\n",
              "      <td>134.5000</td>\n",
              "      <td>E34</td>\n",
              "      <td>C</td>\n",
              "    </tr>\n",
              "  </tbody>\n",
              "</table>\n",
              "</div>\n",
              "      <button class=\"colab-df-convert\" onclick=\"convertToInteractive('df-24e43b13-becc-474f-994f-2b94bc0c6e1f')\"\n",
              "              title=\"Convert this dataframe to an interactive table.\"\n",
              "              style=\"display:none;\">\n",
              "        \n",
              "  <svg xmlns=\"http://www.w3.org/2000/svg\" height=\"24px\"viewBox=\"0 0 24 24\"\n",
              "       width=\"24px\">\n",
              "    <path d=\"M0 0h24v24H0V0z\" fill=\"none\"/>\n",
              "    <path d=\"M18.56 5.44l.94 2.06.94-2.06 2.06-.94-2.06-.94-.94-2.06-.94 2.06-2.06.94zm-11 1L8.5 8.5l.94-2.06 2.06-.94-2.06-.94L8.5 2.5l-.94 2.06-2.06.94zm10 10l.94 2.06.94-2.06 2.06-.94-2.06-.94-.94-2.06-.94 2.06-2.06.94z\"/><path d=\"M17.41 7.96l-1.37-1.37c-.4-.4-.92-.59-1.43-.59-.52 0-1.04.2-1.43.59L10.3 9.45l-7.72 7.72c-.78.78-.78 2.05 0 2.83L4 21.41c.39.39.9.59 1.41.59.51 0 1.02-.2 1.41-.59l7.78-7.78 2.81-2.81c.8-.78.8-2.07 0-2.86zM5.41 20L4 18.59l7.72-7.72 1.47 1.35L5.41 20z\"/>\n",
              "  </svg>\n",
              "      </button>\n",
              "      \n",
              "  <style>\n",
              "    .colab-df-container {\n",
              "      display:flex;\n",
              "      flex-wrap:wrap;\n",
              "      gap: 12px;\n",
              "    }\n",
              "\n",
              "    .colab-df-convert {\n",
              "      background-color: #E8F0FE;\n",
              "      border: none;\n",
              "      border-radius: 50%;\n",
              "      cursor: pointer;\n",
              "      display: none;\n",
              "      fill: #1967D2;\n",
              "      height: 32px;\n",
              "      padding: 0 0 0 0;\n",
              "      width: 32px;\n",
              "    }\n",
              "\n",
              "    .colab-df-convert:hover {\n",
              "      background-color: #E2EBFA;\n",
              "      box-shadow: 0px 1px 2px rgba(60, 64, 67, 0.3), 0px 1px 3px 1px rgba(60, 64, 67, 0.15);\n",
              "      fill: #174EA6;\n",
              "    }\n",
              "\n",
              "    [theme=dark] .colab-df-convert {\n",
              "      background-color: #3B4455;\n",
              "      fill: #D2E3FC;\n",
              "    }\n",
              "\n",
              "    [theme=dark] .colab-df-convert:hover {\n",
              "      background-color: #434B5C;\n",
              "      box-shadow: 0px 1px 3px 1px rgba(0, 0, 0, 0.15);\n",
              "      filter: drop-shadow(0px 1px 2px rgba(0, 0, 0, 0.3));\n",
              "      fill: #FFFFFF;\n",
              "    }\n",
              "  </style>\n",
              "\n",
              "      <script>\n",
              "        const buttonEl =\n",
              "          document.querySelector('#df-24e43b13-becc-474f-994f-2b94bc0c6e1f button.colab-df-convert');\n",
              "        buttonEl.style.display =\n",
              "          google.colab.kernel.accessAllowed ? 'block' : 'none';\n",
              "\n",
              "        async function convertToInteractive(key) {\n",
              "          const element = document.querySelector('#df-24e43b13-becc-474f-994f-2b94bc0c6e1f');\n",
              "          const dataTable =\n",
              "            await google.colab.kernel.invokeFunction('convertToInteractive',\n",
              "                                                     [key], {});\n",
              "          if (!dataTable) return;\n",
              "\n",
              "          const docLinkHtml = 'Like what you see? Visit the ' +\n",
              "            '<a target=\"_blank\" href=https://colab.research.google.com/notebooks/data_table.ipynb>data table notebook</a>'\n",
              "            + ' to learn more about interactive tables.';\n",
              "          element.innerHTML = '';\n",
              "          dataTable['output_type'] = 'display_data';\n",
              "          await google.colab.output.renderOutput(dataTable, element);\n",
              "          const docLink = document.createElement('div');\n",
              "          docLink.innerHTML = docLinkHtml;\n",
              "          element.appendChild(docLink);\n",
              "        }\n",
              "      </script>\n",
              "    </div>\n",
              "  </div>\n",
              "  "
            ]
          },
          "metadata": {},
          "execution_count": 4
        }
      ]
    },
    {
      "cell_type": "markdown",
      "source": [
        "# **Univariate Analysis**"
      ],
      "metadata": {
        "id": "-6ZOwWZU7kIq"
      }
    },
    {
      "cell_type": "markdown",
      "source": [
        "## **Categorical Data Analysis**"
      ],
      "metadata": {
        "id": "wZnoJ3c-vD78"
      }
    },
    {
      "cell_type": "markdown",
      "source": [
        "### **Countplot**\n",
        "A countplot is a type of bar plot that shows the number of occurrences of each category in a categorical dataset."
      ],
      "metadata": {
        "id": "pXI5dvaevOtm"
      }
    },
    {
      "cell_type": "code",
      "source": [
        "import seaborn as sns\n",
        "import matplotlib.pyplot as plt"
      ],
      "metadata": {
        "id": "S6iY5RuCvpdv"
      },
      "execution_count": 5,
      "outputs": []
    },
    {
      "cell_type": "code",
      "source": [
        "df.shape"
      ],
      "metadata": {
        "colab": {
          "base_uri": "https://localhost:8080/"
        },
        "id": "m4sdNuM-wAoG",
        "outputId": "ff2b6565-2c31-4a7e-8b2a-4eb5c869c8ba"
      },
      "execution_count": 9,
      "outputs": [
        {
          "output_type": "execute_result",
          "data": {
            "text/plain": [
              "(891, 12)"
            ]
          },
          "metadata": {},
          "execution_count": 9
        }
      ]
    },
    {
      "cell_type": "code",
      "source": [
        "sns.countplot(x = df['Survived'])"
      ],
      "metadata": {
        "colab": {
          "base_uri": "https://localhost:8080/",
          "height": 296
        },
        "id": "ROXv7ERPvORf",
        "outputId": "c00e3dda-d2bd-4411-cd91-6f75d800677e"
      },
      "execution_count": 11,
      "outputs": [
        {
          "output_type": "execute_result",
          "data": {
            "text/plain": [
              "<Axes: xlabel='Survived', ylabel='count'>"
            ]
          },
          "metadata": {},
          "execution_count": 11
        },
        {
          "output_type": "display_data",
          "data": {
            "text/plain": [
              "<Figure size 432x288 with 1 Axes>"
            ],
            "image/png": "[encoded data removed]"
          },
          "metadata": {
            "needs_background": "light"
          }
        }
      ]
    },
    {
      "cell_type": "code",
      "source": [
        "sns.countplot(x = df['Pclass'])"
      ],
      "metadata": {
        "colab": {
          "base_uri": "https://localhost:8080/",
          "height": 296
        },
        "id": "5maXgbKHxUV4",
        "outputId": "e5ab6415-ef21-450d-dab9-8c020fe11daf"
      },
      "execution_count": 20,
      "outputs": [
        {
          "output_type": "execute_result",
          "data": {
            "text/plain": [
              "<Axes: xlabel='Pclass', ylabel='count'>"
            ]
          },
          "metadata": {},
          "execution_count": 20
        },
        {
          "output_type": "display_data",
          "data": {
            "text/plain": [
              "<Figure size 432x288 with 1 Axes>"
            ],
            "image/png": "[encoded data removed]"
          },
          "metadata": {
            "needs_background": "light"
          }
        }
      ]
    },
    {
      "cell_type": "code",
      "source": [
        "df['Survived'].value_counts()"
      ],
      "metadata": {
        "colab": {
          "base_uri": "https://localhost:8080/"
        },
        "id": "uThBPTKDu_UL",
        "outputId": "ad661899-5717-4834-d458-fc896026e1a9"
      },
      "execution_count": 19,
      "outputs": [
        {
          "output_type": "execute_result",
          "data": {
            "text/plain": [
              "0    549\n",
              "1    342\n",
              "Name: Survived, dtype: int64"
            ]
          },
          "metadata": {},
          "execution_count": 19
        }
      ]
    },
    {
      "cell_type": "code",
      "source": [
        "p2 = df[df['Pclass']==2]['Fare']\n",
        "p1 = df[df['Pclass']==1]['Fare']\n",
        "p3 = df[df['Pclass']==3]['Fare']"
      ],
      "metadata": {
        "id": "rBY0_zh4xmt2"
      },
      "execution_count": 22,
      "outputs": []
    },
    {
      "cell_type": "code",
      "source": [
        "print('Average Price of Pclass-1 is {:.2f}'.format(sum(p1)/len(p1)))\n",
        "print('Average Price of Pclass-2 is {:.2f}'.format(sum(p2)/len(p2)))\n",
        "print('Average Price of Pclass-3 is {:.2f}'.format(sum(p3)/len(p3)))"
      ],
      "metadata": {
        "colab": {
          "base_uri": "https://localhost:8080/"
        },
        "id": "Gvad4OX4x-TI",
        "outputId": "38ed7d85-fbc0-4a9f-f6b1-2ac755289852"
      },
      "execution_count": 24,
      "outputs": [
        {
          "output_type": "stream",
          "name": "stdout",
          "text": [
            "Average Price of Pclass-1 is 84.15\n",
            "Average Price of Pclass-2 is 20.66\n",
            "Average Price of Pclass-3 is 13.68\n"
          ]
        }
      ]
    },
    {
      "cell_type": "markdown",
      "source": [
        "### **Pie-Chart**\n",
        "A pie chart is a circular statistical graphic that is divided into slices to illustrate numerical proportion. Each slice represents a percentage or proportion of the whole."
      ],
      "metadata": {
        "id": "cB_RZcVXxI0o"
      }
    },
    {
      "cell_type": "code",
      "source": [
        "df['Pclass'].value_counts().plot(kind ='pie', autopct = '%.2f')"
      ],
      "metadata": {
        "colab": {
          "base_uri": "https://localhost:8080/",
          "height": 265
        },
        "id": "a4pAZPcGxGPT",
        "outputId": "6a2a5f8c-9743-4c37-cbba-ec1615cdf58b"
      },
      "execution_count": 30,
      "outputs": [
        {
          "output_type": "execute_result",
          "data": {
            "text/plain": [
              "<Axes: ylabel='Pclass'>"
            ]
          },
          "metadata": {},
          "execution_count": 30
        },
        {
          "output_type": "display_data",
          "data": {
            "text/plain": [
              "<Figure size 432x288 with 1 Axes>"
            ],
            "image/png": "[encoded data removed]"
          },
          "metadata": {}
        }
      ]
    },
    {
      "cell_type": "code",
      "source": [
        "df['Sex'].value_counts().plot(kind ='pie', autopct = '%.2f')"
      ],
      "metadata": {
        "colab": {
          "base_uri": "https://localhost:8080/",
          "height": 265
        },
        "id": "LFXOqKva05P3",
        "outputId": "c13f3747-88b7-4d2b-d73e-6d50a01ccee4"
      },
      "execution_count": 31,
      "outputs": [
        {
          "output_type": "execute_result",
          "data": {
            "text/plain": [
              "<Axes: ylabel='Sex'>"
            ]
          },
          "metadata": {},
          "execution_count": 31
        },
        {
          "output_type": "display_data",
          "data": {
            "text/plain": [
              "<Figure size 432x288 with 1 Axes>"
            ],
            "image/png": "[encoded data removed]"
          },
          "metadata": {}
        }
      ]
    },
    {
      "cell_type": "markdown",
      "source": [
        "## **Numerical Data analysis**"
      ],
      "metadata": {
        "id": "or9h3xvA1VeE"
      }
    },
    {
      "cell_type": "markdown",
      "source": [
        "### **1. Histogram**\n",
        "A histogram is a graphical representation of the distribution of a continuous variable. It divides the range of the variable into bins and shows the frequency of observations that fall into each bin."
      ],
      "metadata": {
        "id": "BxaSFPNs1bAz"
      }
    },
    {
      "cell_type": "code",
      "source": [
        "import plotly.express as px"
      ],
      "metadata": {
        "id": "rgEMoD0F1l6s"
      },
      "execution_count": 32,
      "outputs": []
    },
    {
      "cell_type": "code",
      "source": [
        "px.histogram(data_frame= df, x = 'Age',color = 'Sex')"
      ],
      "metadata": {
        "colab": {
          "base_uri": "https://localhost:8080/",
          "height": 542
        },
        "id": "zfHuCv0m1Tt_",
        "outputId": "b053a905-2a40-43f0-e519-a1b7691447d3"
      },
      "execution_count": 35,
      "outputs": [
        {
          "output_type": "display_data",
          "data": {
            "text/html": [
              "<html>\n",
              "<head><meta charset=\"utf-8\" /></head>\n",
              "<body>\n",
              "    <div>            <script src=\"https://cdnjs.cloudflare.com/ajax/libs/mathjax/2.7.5/MathJax.js?config=TeX-AMS-MML_SVG\"></script><script type=\"text/javascript\">if (window.MathJax && window.MathJax.Hub && window.MathJax.Hub.Config) {window.MathJax.Hub.Config({SVG: {font: \"STIX-Web\"}});}</script>                <script type=\"text/javascript\">window.PlotlyConfig = {MathJaxConfig: 'local'};</script>\n",
              "        <script src=\"https://cdn.plot.ly/plotly-2.18.2.min.js\"></script>                <div id=\"52b6f44e-2a75-4416-b2cd-75aae33ad090\" class=\"plotly-graph-div\" style=\"height:525px; width:100%;\"></div>            <script type=\"text/javascript\">                                    window.PLOTLYENV=window.PLOTLYENV || {};                                    if (document.getElementById(\"52b6f44e-2a75-4416-b2cd-75aae33ad090\")) {                    Plotly.newPlot(                        \"52b6f44e-2a75-4416-b2cd-75aae33ad090\",                        [{\"alignmentgroup\":\"True\",\"bingroup\":\"x\",\"hovertemplate\":\"Sex=male<br>Age=%{x}<br>count=%{y}<extra></extra>\",\"legendgroup\":\"male\",\"marker\":{\"color\":\"#636efa\",\"pattern\":{\"shape\":\"\"}},\"name\":\"male\",\"offsetgroup\":\"male\",\"orientation\":\"v\",\"showlegend\":true,\"x\":[22.0,35.0,null,54.0,2.0,20.0,39.0,2.0,null,35.0,34.0,28.0,null,19.0,null,40.0,66.0,28.0,42.0,null,21.0,null,null,null,null,7.0,21.0,65.0,null,28.5,11.0,22.0,45.0,4.0,null,null,19.0,26.0,32.0,21.0,26.0,32.0,25.0,null,null,0.83,22.0,29.0,28.0,16.0,null,24.0,29.0,20.0,46.0,26.0,59.0,null,71.0,23.0,34.0,null,21.0,33.0,37.0,28.0,null,38.0,47.0,22.0,21.0,70.5,29.0,24.0,21.0,null,32.5,54.0,12.0,null,24.0,45.0,33.0,20.0,25.0,23.0,37.0,16.0,24.0,19.0,18.0,19.0,27.0,36.5,42.0,51.0,55.5,40.5,null,51.0,30.0,null,null,44.0,26.0,17.0,1.0,9.0,null,28.0,61.0,4.0,21.0,56.0,18.0,null,30.0,36.0,null,9.0,1.0,null,45.0,40.0,36.0,19.0,3.0,null,42.0,28.0,null,34.0,45.5,18.0,32.0,26.0,40.0,24.0,22.0,30.0,null,42.0,30.0,16.0,27.0,51.0,null,38.0,22.0,19.0,20.5,18.0,29.0,59.0,24.0,44.0,19.0,33.0,29.0,22.0,30.0,44.0,37.0,54.0,null,62.0,30.0,null,3.0,52.0,40.0,36.0,16.0,25.0,null,25.0,37.0,null,7.0,65.0,28.0,16.0,19.0,null,33.0,30.0,22.0,42.0,36.0,24.0,null,23.5,null,null,19.0,null,0.92,30.0,28.0,43.0,54.0,22.0,27.0,null,61.0,45.5,38.0,16.0,null,29.0,45.0,45.0,2.0,28.0,25.0,36.0,3.0,42.0,23.0,null,15.0,25.0,null,28.0,40.0,29.0,35.0,null,30.0,25.0,18.0,19.0,22.0,27.0,20.0,19.0,32.0,null,18.0,1.0,null,36.0,21.0,28.0,22.0,46.0,23.0,39.0,26.0,28.0,34.0,51.0,3.0,21.0,null,null,null,44.0,30.0,null,21.0,29.0,18.0,null,null,32.0,28.0,17.0,50.0,64.0,31.0,20.0,25.0,null,4.0,34.0,52.0,36.0,null,30.0,49.0,null,29.0,65.0,null,48.0,34.0,47.0,48.0,null,38.0,null,56.0,null,null,38.0,null,34.0,29.0,22.0,9.0,null,50.0,25.0,58.0,30.0,9.0,null,21.0,55.0,71.0,21.0,null,null,24.0,17.0,18.0,null,28.0,26.0,29.0,null,36.0,24.0,47.0,null,32.0,22.0,null,null,40.5,null,39.0,23.0,null,17.0,45.0,null,32.0,50.0,64.0,null,33.0,8.0,17.0,27.0,null,22.0,62.0,null,null,40.0,28.0,null,24.0,19.0,null,32.0,62.0,36.0,16.0,19.0,32.0,54.0,36.0,null,47.0,60.0,22.0,null,35.0,47.0,37.0,36.0,49.0,null,49.0,null,null,44.0,35.0,36.0,30.0,27.0,null,null,35.0,34.0,26.0,27.0,42.0,20.0,21.0,21.0,61.0,57.0,26.0,null,80.0,51.0,32.0,null,32.0,31.0,null,20.0,null,48.0,19.0,56.0,null,null,21.0,24.0,null,23.0,58.0,50.0,40.0,47.0,36.0,20.0,32.0,25.0,null,43.0,31.0,70.0,31.0,null,18.0,24.5,36.0,27.0,20.0,14.0,60.0,25.0,14.0,19.0,18.0,31.0,null,25.0,60.0,52.0,44.0,49.0,42.0,35.0,25.0,26.0,39.0,42.0,null,null,48.0,29.0,52.0,19.0,null,33.0,17.0,34.0,50.0,27.0,20.0,25.0,11.0,null,23.0,23.0,28.5,35.0,null,null,null,36.0,24.0,31.0,70.0,16.0,19.0,31.0,6.0,33.0,23.0,0.67,28.0,18.0,34.0,null,41.0,20.0,16.0,null,null,32.0,24.0,48.0,null,18.0,null,null,29.0,null,25.0,25.0,8.0,1.0,46.0,null,16.0,null,25.0,39.0,30.0,34.0,11.0,0.42,27.0,31.0,39.0,39.0,26.0,39.0,35.0,30.5,null,31.0,43.0,10.0,27.0,38.0,2.0,null,null,1.0,null,0.83,null,23.0,18.0,21.0,null,32.0,null,20.0,16.0,34.5,17.0,42.0,null,35.0,28.0,4.0,74.0,51.0,null,41.0,21.0,24.0,31.0,null,4.0,26.0,33.0,47.0,20.0,19.0,null,33.0,28.0,25.0,27.0,26.0,32.0],\"xaxis\":\"x\",\"yaxis\":\"y\",\"type\":\"histogram\"},{\"alignmentgroup\":\"True\",\"bingroup\":\"x\",\"hovertemplate\":\"Sex=female<br>Age=%{x}<br>count=%{y}<extra></extra>\",\"legendgroup\":\"female\",\"marker\":{\"color\":\"#EF553B\",\"pattern\":{\"shape\":\"\"}},\"name\":\"female\",\"offsetgroup\":\"female\",\"orientation\":\"v\",\"showlegend\":true,\"x\":[38.0,26.0,35.0,27.0,14.0,4.0,58.0,14.0,55.0,31.0,null,15.0,8.0,38.0,null,null,null,18.0,14.0,40.0,27.0,3.0,19.0,null,18.0,49.0,29.0,21.0,5.0,38.0,29.0,17.0,16.0,30.0,null,17.0,33.0,23.0,34.0,28.0,21.0,null,14.5,20.0,17.0,2.0,32.5,null,47.0,29.0,19.0,null,22.0,24.0,9.0,22.0,16.0,40.0,null,45.0,1.0,50.0,null,4.0,null,32.0,19.0,44.0,58.0,null,24.0,2.0,16.0,35.0,31.0,27.0,32.0,null,35.0,5.0,null,8.0,null,null,25.0,24.0,29.0,41.0,29.0,null,30.0,35.0,50.0,null,58.0,35.0,41.0,null,63.0,45.0,35.0,22.0,26.0,19.0,24.0,2.0,50.0,null,null,null,17.0,30.0,24.0,18.0,26.0,26.0,24.0,31.0,40.0,30.0,22.0,36.0,36.0,31.0,16.0,null,null,41.0,24.0,24.0,40.0,null,22.0,38.0,null,null,45.0,60.0,null,null,24.0,3.0,null,22.0,42.0,1.0,35.0,36.0,17.0,23.0,24.0,31.0,28.0,21.0,20.0,null,33.0,null,34.0,18.0,10.0,28.0,28.0,19.0,null,42.0,14.0,21.0,24.0,45.0,28.0,13.0,5.0,null,50.0,0.75,33.0,23.0,22.0,2.0,63.0,null,35.0,54.0,25.0,21.0,null,37.0,16.0,33.0,54.0,34.0,36.0,30.0,44.0,50.0,2.0,null,30.0,7.0,30.0,22.0,36.0,9.0,11.0,19.0,22.0,48.0,39.0,36.0,null,29.0,53.0,null,34.0,39.0,null,25.0,39.0,18.0,52.0,null,null,24.0,22.0,40.0,39.0,null,24.0,26.0,4.0,21.0,9.0,28.0,41.0,24.0,2.0,0.75,23.0,18.0,null,18.0,32.0,null,40.0,18.0,43.0,null,15.0,4.0,null,18.0,18.0,45.0,22.0,24.0,38.0,27.0,6.0,30.0,null,25.0,29.0,48.0,21.0,30.0,4.0,48.0,33.0,36.0,51.0,30.5,57.0,54.0,5.0,43.0,13.0,17.0,18.0,null,49.0,31.0,30.0,31.0,18.0,33.0,6.0,23.0,52.0,27.0,62.0,15.0,39.0,30.0,null,9.0,16.0,44.0,18.0,45.0,24.0,48.0,null,42.0,27.0,47.0,28.0,15.0,56.0,25.0,22.0,39.0,19.0,null],\"xaxis\":\"x\",\"yaxis\":\"y\",\"type\":\"histogram\"}],                        {\"template\":{\"data\":{\"histogram2dcontour\":[{\"type\":\"histogram2dcontour\",\"colorbar\":{\"outlinewidth\":0,\"ticks\":\"\"},\"colorscale\":[[0.0,\"#0d0887\"],[0.1111111111111111,\"#46039f\"],[0.2222222222222222,\"#7201a8\"],[0.3333333333333333,\"#9c179e\"],[0.4444444444444444,\"#bd3786\"],[0.5555555555555556,\"#d8576b\"],[0.6666666666666666,\"#ed7953\"],[0.7777777777777778,\"#fb9f3a\"],[0.8888888888888888,\"#fdca26\"],[1.0,\"#f0f921\"]]}],\"choropleth\":[{\"type\":\"choropleth\",\"colorbar\":{\"outlinewidth\":0,\"ticks\":\"\"}}],\"histogram2d\":[{\"type\":\"histogram2d\",\"colorbar\":{\"outlinewidth\":0,\"ticks\":\"\"},\"colorscale\":[[0.0,\"#0d0887\"],[0.1111111111111111,\"#46039f\"],[0.2222222222222222,\"#7201a8\"],[0.3333333333333333,\"#9c179e\"],[0.4444444444444444,\"#bd3786\"],[0.5555555555555556,\"#d8576b\"],[0.6666666666666666,\"#ed7953\"],[0.7777777777777778,\"#fb9f3a\"],[0.8888888888888888,\"#fdca26\"],[1.0,\"#f0f921\"]]}],\"heatmap\":[{\"type\":\"heatmap\",\"colorbar\":{\"outlinewidth\":0,\"ticks\":\"\"},\"colorscale\":[[0.0,\"#0d0887\"],[0.1111111111111111,\"#46039f\"],[0.2222222222222222,\"#7201a8\"],[0.3333333333333333,\"#9c179e\"],[0.4444444444444444,\"#bd3786\"],[0.5555555555555556,\"#d8576b\"],[0.6666666666666666,\"#ed7953\"],[0.7777777777777778,\"#fb9f3a\"],[0.8888888888888888,\"#fdca26\"],[1.0,\"#f0f921\"]]}],\"heatmapgl\":[{\"type\":\"heatmapgl\",\"colorbar\":{\"outlinewidth\":0,\"ticks\":\"\"},\"colorscale\":[[0.0,\"#0d0887\"],[0.1111111111111111,\"#46039f\"],[0.2222222222222222,\"#7201a8\"],[0.3333333333333333,\"#9c179e\"],[0.4444444444444444,\"#bd3786\"],[0.5555555555555556,\"#d8576b\"],[0.6666666666666666,\"#ed7953\"],[0.7777777777777778,\"#fb9f3a\"],[0.8888888888888888,\"#fdca26\"],[1.0,\"#f0f921\"]]}],\"contourcarpet\":[{\"type\":\"contourcarpet\",\"colorbar\":{\"outlinewidth\":0,\"ticks\":\"\"}}],\"contour\":[{\"type\":\"contour\",\"colorbar\":{\"outlinewidth\":0,\"ticks\":\"\"},\"colorscale\":[[0.0,\"#0d0887\"],[0.1111111111111111,\"#46039f\"],[0.2222222222222222,\"#7201a8\"],[0.3333333333333333,\"#9c179e\"],[0.4444444444444444,\"#bd3786\"],[0.5555555555555556,\"#d8576b\"],[0.6666666666666666,\"#ed7953\"],[0.7777777777777778,\"#fb9f3a\"],[0.8888888888888888,\"#fdca26\"],[1.0,\"#f0f921\"]]}],\"surface\":[{\"type\":\"surface\",\"colorbar\":{\"outlinewidth\":0,\"ticks\":\"\"},\"colorscale\":[[0.0,\"#0d0887\"],[0.1111111111111111,\"#46039f\"],[0.2222222222222222,\"#7201a8\"],[0.3333333333333333,\"#9c179e\"],[0.4444444444444444,\"#bd3786\"],[0.5555555555555556,\"#d8576b\"],[0.6666666666666666,\"#ed7953\"],[0.7777777777777778,\"#fb9f3a\"],[0.8888888888888888,\"#fdca26\"],[1.0,\"#f0f921\"]]}],\"mesh3d\":[{\"type\":\"mesh3d\",\"colorbar\":{\"outlinewidth\":0,\"ticks\":\"\"}}],\"scatter\":[{\"fillpattern\":{\"fillmode\":\"overlay\",\"size\":10,\"solidity\":0.2},\"type\":\"scatter\"}],\"parcoords\":[{\"type\":\"parcoords\",\"line\":{\"colorbar\":{\"outlinewidth\":0,\"ticks\":\"\"}}}],\"scatterpolargl\":[{\"type\":\"scatterpolargl\",\"marker\":{\"colorbar\":{\"outlinewidth\":0,\"ticks\":\"\"}}}],\"bar\":[{\"error_x\":{\"color\":\"#2a3f5f\"},\"error_y\":{\"color\":\"#2a3f5f\"},\"marker\":{\"line\":{\"color\":\"#E5ECF6\",\"width\":0.5},\"pattern\":{\"fillmode\":\"overlay\",\"size\":10,\"solidity\":0.2}},\"type\":\"bar\"}],\"scattergeo\":[{\"type\":\"scattergeo\",\"marker\":{\"colorbar\":{\"outlinewidth\":0,\"ticks\":\"\"}}}],\"scatterpolar\":[{\"type\":\"scatterpolar\",\"marker\":{\"colorbar\":{\"outlinewidth\":0,\"ticks\":\"\"}}}],\"histogram\":[{\"marker\":{\"pattern\":{\"fillmode\":\"overlay\",\"size\":10,\"solidity\":0.2}},\"type\":\"histogram\"}],\"scattergl\":[{\"type\":\"scattergl\",\"marker\":{\"colorbar\":{\"outlinewidth\":0,\"ticks\":\"\"}}}],\"scatter3d\":[{\"type\":\"scatter3d\",\"line\":{\"colorbar\":{\"outlinewidth\":0,\"ticks\":\"\"}},\"marker\":{\"colorbar\":{\"outlinewidth\":0,\"ticks\":\"\"}}}],\"scattermapbox\":[{\"type\":\"scattermapbox\",\"marker\":{\"colorbar\":{\"outlinewidth\":0,\"ticks\":\"\"}}}],\"scatterternary\":[{\"type\":\"scatterternary\",\"marker\":{\"colorbar\":{\"outlinewidth\":0,\"ticks\":\"\"}}}],\"scattercarpet\":[{\"type\":\"scattercarpet\",\"marker\":{\"colorbar\":{\"outlinewidth\":0,\"ticks\":\"\"}}}],\"carpet\":[{\"aaxis\":{\"endlinecolor\":\"#2a3f5f\",\"gridcolor\":\"white\",\"linecolor\":\"white\",\"minorgridcolor\":\"white\",\"startlinecolor\":\"#2a3f5f\"},\"baxis\":{\"endlinecolor\":\"#2a3f5f\",\"gridcolor\":\"white\",\"linecolor\":\"white\",\"minorgridcolor\":\"white\",\"startlinecolor\":\"#2a3f5f\"},\"type\":\"carpet\"}],\"table\":[{\"cells\":{\"fill\":{\"color\":\"#EBF0F8\"},\"line\":{\"color\":\"white\"}},\"header\":{\"fill\":{\"color\":\"#C8D4E3\"},\"line\":{\"color\":\"white\"}},\"type\":\"table\"}],\"barpolar\":[{\"marker\":{\"line\":{\"color\":\"#E5ECF6\",\"width\":0.5},\"pattern\":{\"fillmode\":\"overlay\",\"size\":10,\"solidity\":0.2}},\"type\":\"barpolar\"}],\"pie\":[{\"automargin\":true,\"type\":\"pie\"}]},\"layout\":{\"autotypenumbers\":\"strict\",\"colorway\":[\"#636efa\",\"#EF553B\",\"#00cc96\",\"#ab63fa\",\"#FFA15A\",\"#19d3f3\",\"#FF6692\",\"#B6E880\",\"#FF97FF\",\"#FECB52\"],\"font\":{\"color\":\"#2a3f5f\"},\"hovermode\":\"closest\",\"hoverlabel\":{\"align\":\"left\"},\"paper_bgcolor\":\"white\",\"plot_bgcolor\":\"#E5ECF6\",\"polar\":{\"bgcolor\":\"#E5ECF6\",\"angularaxis\":{\"gridcolor\":\"white\",\"linecolor\":\"white\",\"ticks\":\"\"},\"radialaxis\":{\"gridcolor\":\"white\",\"linecolor\":\"white\",\"ticks\":\"\"}},\"ternary\":{\"bgcolor\":\"#E5ECF6\",\"aaxis\":{\"gridcolor\":\"white\",\"linecolor\":\"white\",\"ticks\":\"\"},\"baxis\":{\"gridcolor\":\"white\",\"linecolor\":\"white\",\"ticks\":\"\"},\"caxis\":{\"gridcolor\":\"white\",\"linecolor\":\"white\",\"ticks\":\"\"}},\"coloraxis\":{\"colorbar\":{\"outlinewidth\":0,\"ticks\":\"\"}},\"colorscale\":{\"sequential\":[[0.0,\"#0d0887\"],[0.1111111111111111,\"#46039f\"],[0.2222222222222222,\"#7201a8\"],[0.3333333333333333,\"#9c179e\"],[0.4444444444444444,\"#bd3786\"],[0.5555555555555556,\"#d8576b\"],[0.6666666666666666,\"#ed7953\"],[0.7777777777777778,\"#fb9f3a\"],[0.8888888888888888,\"#fdca26\"],[1.0,\"#f0f921\"]],\"sequentialminus\":[[0.0,\"#0d0887\"],[0.1111111111111111,\"#46039f\"],[0.2222222222222222,\"#7201a8\"],[0.3333333333333333,\"#9c179e\"],[0.4444444444444444,\"#bd3786\"],[0.5555555555555556,\"#d8576b\"],[0.6666666666666666,\"#ed7953\"],[0.7777777777777778,\"#fb9f3a\"],[0.8888888888888888,\"#fdca26\"],[1.0,\"#f0f921\"]],\"diverging\":[[0,\"#8e0152\"],[0.1,\"#c51b7d\"],[0.2,\"#de77ae\"],[0.3,\"#f1b6da\"],[0.4,\"#fde0ef\"],[0.5,\"#f7f7f7\"],[0.6,\"#e6f5d0\"],[0.7,\"#b8e186\"],[0.8,\"#7fbc41\"],[0.9,\"#4d9221\"],[1,\"#276419\"]]},\"xaxis\":{\"gridcolor\":\"white\",\"linecolor\":\"white\",\"ticks\":\"\",\"title\":{\"standoff\":15},\"zerolinecolor\":\"white\",\"automargin\":true,\"zerolinewidth\":2},\"yaxis\":{\"gridcolor\":\"white\",\"linecolor\":\"white\",\"ticks\":\"\",\"title\":{\"standoff\":15},\"zerolinecolor\":\"white\",\"automargin\":true,\"zerolinewidth\":2},\"scene\":{\"xaxis\":{\"backgroundcolor\":\"#E5ECF6\",\"gridcolor\":\"white\",\"linecolor\":\"white\",\"showbackground\":true,\"ticks\":\"\",\"zerolinecolor\":\"white\",\"gridwidth\":2},\"yaxis\":{\"backgroundcolor\":\"#E5ECF6\",\"gridcolor\":\"white\",\"linecolor\":\"white\",\"showbackground\":true,\"ticks\":\"\",\"zerolinecolor\":\"white\",\"gridwidth\":2},\"zaxis\":{\"backgroundcolor\":\"#E5ECF6\",\"gridcolor\":\"white\",\"linecolor\":\"white\",\"showbackground\":true,\"ticks\":\"\",\"zerolinecolor\":\"white\",\"gridwidth\":2}},\"shapedefaults\":{\"line\":{\"color\":\"#2a3f5f\"}},\"annotationdefaults\":{\"arrowcolor\":\"#2a3f5f\",\"arrowhead\":0,\"arrowwidth\":1},\"geo\":{\"bgcolor\":\"white\",\"landcolor\":\"#E5ECF6\",\"subunitcolor\":\"white\",\"showland\":true,\"showlakes\":true,\"lakecolor\":\"white\"},\"title\":{\"x\":0.05},\"mapbox\":{\"style\":\"light\"}}},\"xaxis\":{\"anchor\":\"y\",\"domain\":[0.0,1.0],\"title\":{\"text\":\"Age\"}},\"yaxis\":{\"anchor\":\"x\",\"domain\":[0.0,1.0],\"title\":{\"text\":\"count\"}},\"legend\":{\"title\":{\"text\":\"Sex\"},\"tracegroupgap\":0},\"margin\":{\"t\":60},\"barmode\":\"relative\"},                        {\"responsive\": true}                    ).then(function(){\n",
              "                            \n",
              "var gd = document.getElementById('52b6f44e-2a75-4416-b2cd-75aae33ad090');\n",
              "var x = new MutationObserver(function (mutations, observer) {{\n",
              "        var display = window.getComputedStyle(gd).display;\n",
              "        if (!display || display === 'none') {{\n",
              "            console.log([gd, 'removed!']);\n",
              "            Plotly.purge(gd);\n",
              "            observer.disconnect();\n",
              "        }}\n",
              "}});\n",
              "\n",
              "// Listen for the removal of the full notebook cells\n",
              "var notebookContainer = gd.closest('#notebook-container');\n",
              "if (notebookContainer) {{\n",
              "    x.observe(notebookContainer, {childList: true});\n",
              "}}\n",
              "\n",
              "// Listen for the clearing of the current output cell\n",
              "var outputEl = gd.closest('.output');\n",
              "if (outputEl) {{\n",
              "    x.observe(outputEl, {childList: true});\n",
              "}}\n",
              "\n",
              "                        })                };                            </script>        </div>\n",
              "</body>\n",
              "</html>"
            ]
          },
          "metadata": {}
        }
      ]
    },
    {
      "cell_type": "code",
      "source": [
        "plt.hist(df['Fare'], bins = 5, range = (0,25))"
      ],
      "metadata": {
        "colab": {
          "base_uri": "https://localhost:8080/",
          "height": 317
        },
        "id": "UyF3ImUi2OZ-",
        "outputId": "6fe34f5c-0d0c-44ea-8309-2b58a9b4adc6"
      },
      "execution_count": 51,
      "outputs": [
        {
          "output_type": "execute_result",
          "data": {
            "text/plain": [
              "(array([ 16., 320., 121.,  58.,  42.]),\n",
              " array([ 0.,  5., 10., 15., 20., 25.]),\n",
              " <BarContainer object of 5 artists>)"
            ]
          },
          "metadata": {},
          "execution_count": 51
        },
        {
          "output_type": "display_data",
          "data": {
            "text/plain": [
              "<Figure size 432x288 with 1 Axes>"
            ],
            "image/png": "[encoded data removed]"
          },
          "metadata": {
            "needs_background": "light"
          }
        }
      ]
    },
    {
      "cell_type": "markdown",
      "source": [
        "### **2. Distplot**\n",
        "A distplot is a seaborn function that combines a histogram and a kernel density plot to show the distribution of a dataset. It can be used for both continuous and categorical data."
      ],
      "metadata": {
        "id": "_AVJYHww3Q7h"
      }
    },
    {
      "cell_type": "code",
      "source": [
        "sns.displot(df['Age'], kind = 'kde')"
      ],
      "metadata": {
        "colab": {
          "base_uri": "https://localhost:8080/",
          "height": 386
        },
        "id": "nmnQmVpf3QYV",
        "outputId": "269d8daa-df0a-4a3f-d520-b16efdbae882"
      },
      "execution_count": 42,
      "outputs": [
        {
          "output_type": "execute_result",
          "data": {
            "text/plain": [
              "<seaborn.axisgrid.FacetGrid at 0x7f6bdd3dd1f0>"
            ]
          },
          "metadata": {},
          "execution_count": 42
        },
        {
          "output_type": "display_data",
          "data": {
            "text/plain": [
              "<Figure size 360x360 with 1 Axes>"
            ],
            "image/png": "[encoded data removed]"
          },
          "metadata": {
            "needs_background": "light"
          }
        }
      ]
    },
    {
      "cell_type": "markdown",
      "source": [
        "This is a very useful graph which tells about the probability of plotted variable, here it is telling what is the probability of having some age. For example :- The probability of having age 25 is around 0.030. It show the kernel density function."
      ],
      "metadata": {
        "id": "kqlB2eSJ3orc"
      }
    },
    {
      "cell_type": "markdown",
      "source": [
        "## **3. Boxplot**\n",
        "A boxplot is a graphical representation of the distribution of a dataset through their quartiles. It displays the range of the data, the median, and any outliers that fall outside of the whiskers. It is also called as `five-number summary`."
      ],
      "metadata": {
        "id": "X-9UYAZq4JkV"
      }
    },
    {
      "cell_type": "code",
      "source": [
        "px.box(df['Age'],color = df['Sex'])"
      ],
      "metadata": {
        "colab": {
          "base_uri": "https://localhost:8080/",
          "height": 542
        },
        "id": "Hou8qV-32BbF",
        "outputId": "75adbb4e-b11b-4c1b-d654-8bb0758e51f2"
      },
      "execution_count": 44,
      "outputs": [
        {
          "output_type": "display_data",
          "data": {
            "text/html": [
              "<html>\n",
              "<head><meta charset=\"utf-8\" /></head>\n",
              "<body>\n",
              "    <div>            <script src=\"https://cdnjs.cloudflare.com/ajax/libs/mathjax/2.7.5/MathJax.js?config=TeX-AMS-MML_SVG\"></script><script type=\"text/javascript\">if (window.MathJax && window.MathJax.Hub && window.MathJax.Hub.Config) {window.MathJax.Hub.Config({SVG: {font: \"STIX-Web\"}});}</script>                <script type=\"text/javascript\">window.PlotlyConfig = {MathJaxConfig: 'local'};</script>\n",
              "        <script src=\"https://cdn.plot.ly/plotly-2.18.2.min.js\"></script>                <div id=\"465f28f7-775a-40c5-b5d2-982d7545d903\" class=\"plotly-graph-div\" style=\"height:525px; width:100%;\"></div>            <script type=\"text/javascript\">                                    window.PLOTLYENV=window.PLOTLYENV || {};                                    if (document.getElementById(\"465f28f7-775a-40c5-b5d2-982d7545d903\")) {                    Plotly.newPlot(                        \"465f28f7-775a-40c5-b5d2-982d7545d903\",                        [{\"alignmentgroup\":\"True\",\"hovertemplate\":\"color=male<br>variable=%{x}<br>value=%{y}<extra></extra>\",\"legendgroup\":\"male\",\"marker\":{\"color\":\"#636efa\"},\"name\":\"male\",\"notched\":false,\"offsetgroup\":\"male\",\"orientation\":\"v\",\"showlegend\":true,\"x\":[\"Age\",\"Age\",\"Age\",\"Age\",\"Age\",\"Age\",\"Age\",\"Age\",\"Age\",\"Age\",\"Age\",\"Age\",\"Age\",\"Age\",\"Age\",\"Age\",\"Age\",\"Age\",\"Age\",\"Age\",\"Age\",\"Age\",\"Age\",\"Age\",\"Age\",\"Age\",\"Age\",\"Age\",\"Age\",\"Age\",\"Age\",\"Age\",\"Age\",\"Age\",\"Age\",\"Age\",\"Age\",\"Age\",\"Age\",\"Age\",\"Age\",\"Age\",\"Age\",\"Age\",\"Age\",\"Age\",\"Age\",\"Age\",\"Age\",\"Age\",\"Age\",\"Age\",\"Age\",\"Age\",\"Age\",\"Age\",\"Age\",\"Age\",\"Age\",\"Age\",\"Age\",\"Age\",\"Age\",\"Age\",\"Age\",\"Age\",\"Age\",\"Age\",\"Age\",\"Age\",\"Age\",\"Age\",\"Age\",\"Age\",\"Age\",\"Age\",\"Age\",\"Age\",\"Age\",\"Age\",\"Age\",\"Age\",\"Age\",\"Age\",\"Age\",\"Age\",\"Age\",\"Age\",\"Age\",\"Age\",\"Age\",\"Age\",\"Age\",\"Age\",\"Age\",\"Age\",\"Age\",\"Age\",\"Age\",\"Age\",\"Age\",\"Age\",\"Age\",\"Age\",\"Age\",\"Age\",\"Age\",\"Age\",\"Age\",\"Age\",\"Age\",\"Age\",\"Age\",\"Age\",\"Age\",\"Age\",\"Age\",\"Age\",\"Age\",\"Age\",\"Age\",\"Age\",\"Age\",\"Age\",\"Age\",\"Age\",\"Age\",\"Age\",\"Age\",\"Age\",\"Age\",\"Age\",\"Age\",\"Age\",\"Age\",\"Age\",\"Age\",\"Age\",\"Age\",\"Age\",\"Age\",\"Age\",\"Age\",\"Age\",\"Age\",\"Age\",\"Age\",\"Age\",\"Age\",\"Age\",\"Age\",\"Age\",\"Age\",\"Age\",\"Age\",\"Age\",\"Age\",\"Age\",\"Age\",\"Age\",\"Age\",\"Age\",\"Age\",\"Age\",\"Age\",\"Age\",\"Age\",\"Age\",\"Age\",\"Age\",\"Age\",\"Age\",\"Age\",\"Age\",\"Age\",\"Age\",\"Age\",\"Age\",\"Age\",\"Age\",\"Age\",\"Age\",\"Age\",\"Age\",\"Age\",\"Age\",\"Age\",\"Age\",\"Age\",\"Age\",\"Age\",\"Age\",\"Age\",\"Age\",\"Age\",\"Age\",\"Age\",\"Age\",\"Age\",\"Age\",\"Age\",\"Age\",\"Age\",\"Age\",\"Age\",\"Age\",\"Age\",\"Age\",\"Age\",\"Age\",\"Age\",\"Age\",\"Age\",\"Age\",\"Age\",\"Age\",\"Age\",\"Age\",\"Age\",\"Age\",\"Age\",\"Age\",\"Age\",\"Age\",\"Age\",\"Age\",\"Age\",\"Age\",\"Age\",\"Age\",\"Age\",\"Age\",\"Age\",\"Age\",\"Age\",\"Age\",\"Age\",\"Age\",\"Age\",\"Age\",\"Age\",\"Age\",\"Age\",\"Age\",\"Age\",\"Age\",\"Age\",\"Age\",\"Age\",\"Age\",\"Age\",\"Age\",\"Age\",\"Age\",\"Age\",\"Age\",\"Age\",\"Age\",\"Age\",\"Age\",\"Age\",\"Age\",\"Age\",\"Age\",\"Age\",\"Age\",\"Age\",\"Age\",\"Age\",\"Age\",\"Age\",\"Age\",\"Age\",\"Age\",\"Age\",\"Age\",\"Age\",\"Age\",\"Age\",\"Age\",\"Age\",\"Age\",\"Age\",\"Age\",\"Age\",\"Age\",\"Age\",\"Age\",\"Age\",\"Age\",\"Age\",\"Age\",\"Age\",\"Age\",\"Age\",\"Age\",\"Age\",\"Age\",\"Age\",\"Age\",\"Age\",\"Age\",\"Age\",\"Age\",\"Age\",\"Age\",\"Age\",\"Age\",\"Age\",\"Age\",\"Age\",\"Age\",\"Age\",\"Age\",\"Age\",\"Age\",\"Age\",\"Age\",\"Age\",\"Age\",\"Age\",\"Age\",\"Age\",\"Age\",\"Age\",\"Age\",\"Age\",\"Age\",\"Age\",\"Age\",\"Age\",\"Age\",\"Age\",\"Age\",\"Age\",\"Age\",\"Age\",\"Age\",\"Age\",\"Age\",\"Age\",\"Age\",\"Age\",\"Age\",\"Age\",\"Age\",\"Age\",\"Age\",\"Age\",\"Age\",\"Age\",\"Age\",\"Age\",\"Age\",\"Age\",\"Age\",\"Age\",\"Age\",\"Age\",\"Age\",\"Age\",\"Age\",\"Age\",\"Age\",\"Age\",\"Age\",\"Age\",\"Age\",\"Age\",\"Age\",\"Age\",\"Age\",\"Age\",\"Age\",\"Age\",\"Age\",\"Age\",\"Age\",\"Age\",\"Age\",\"Age\",\"Age\",\"Age\",\"Age\",\"Age\",\"Age\",\"Age\",\"Age\",\"Age\",\"Age\",\"Age\",\"Age\",\"Age\",\"Age\",\"Age\",\"Age\",\"Age\",\"Age\",\"Age\",\"Age\",\"Age\",\"Age\",\"Age\",\"Age\",\"Age\",\"Age\",\"Age\",\"Age\",\"Age\",\"Age\",\"Age\",\"Age\",\"Age\",\"Age\",\"Age\",\"Age\",\"Age\",\"Age\",\"Age\",\"Age\",\"Age\",\"Age\",\"Age\",\"Age\",\"Age\",\"Age\",\"Age\",\"Age\",\"Age\",\"Age\",\"Age\",\"Age\",\"Age\",\"Age\",\"Age\",\"Age\",\"Age\",\"Age\",\"Age\",\"Age\",\"Age\",\"Age\",\"Age\",\"Age\",\"Age\",\"Age\",\"Age\",\"Age\",\"Age\",\"Age\",\"Age\",\"Age\",\"Age\",\"Age\",\"Age\",\"Age\",\"Age\",\"Age\",\"Age\",\"Age\",\"Age\",\"Age\",\"Age\",\"Age\",\"Age\",\"Age\",\"Age\",\"Age\",\"Age\",\"Age\",\"Age\",\"Age\",\"Age\",\"Age\",\"Age\",\"Age\",\"Age\",\"Age\",\"Age\",\"Age\",\"Age\",\"Age\",\"Age\",\"Age\",\"Age\",\"Age\",\"Age\",\"Age\",\"Age\",\"Age\",\"Age\",\"Age\",\"Age\",\"Age\",\"Age\",\"Age\",\"Age\",\"Age\",\"Age\",\"Age\",\"Age\",\"Age\",\"Age\",\"Age\",\"Age\",\"Age\",\"Age\",\"Age\",\"Age\",\"Age\",\"Age\",\"Age\",\"Age\",\"Age\",\"Age\",\"Age\",\"Age\",\"Age\",\"Age\",\"Age\",\"Age\",\"Age\",\"Age\",\"Age\",\"Age\",\"Age\",\"Age\",\"Age\",\"Age\",\"Age\",\"Age\",\"Age\",\"Age\",\"Age\",\"Age\",\"Age\",\"Age\",\"Age\",\"Age\",\"Age\",\"Age\",\"Age\",\"Age\",\"Age\",\"Age\",\"Age\",\"Age\",\"Age\",\"Age\",\"Age\",\"Age\",\"Age\",\"Age\",\"Age\",\"Age\",\"Age\",\"Age\",\"Age\",\"Age\",\"Age\",\"Age\",\"Age\",\"Age\",\"Age\",\"Age\",\"Age\",\"Age\",\"Age\",\"Age\",\"Age\",\"Age\",\"Age\",\"Age\",\"Age\",\"Age\",\"Age\",\"Age\"],\"x0\":\" \",\"xaxis\":\"x\",\"y\":[22.0,35.0,null,54.0,2.0,20.0,39.0,2.0,null,35.0,34.0,28.0,null,19.0,null,40.0,66.0,28.0,42.0,null,21.0,null,null,null,null,7.0,21.0,65.0,null,28.5,11.0,22.0,45.0,4.0,null,null,19.0,26.0,32.0,21.0,26.0,32.0,25.0,null,null,0.83,22.0,29.0,28.0,16.0,null,24.0,29.0,20.0,46.0,26.0,59.0,null,71.0,23.0,34.0,null,21.0,33.0,37.0,28.0,null,38.0,47.0,22.0,21.0,70.5,29.0,24.0,21.0,null,32.5,54.0,12.0,null,24.0,45.0,33.0,20.0,25.0,23.0,37.0,16.0,24.0,19.0,18.0,19.0,27.0,36.5,42.0,51.0,55.5,40.5,null,51.0,30.0,null,null,44.0,26.0,17.0,1.0,9.0,null,28.0,61.0,4.0,21.0,56.0,18.0,null,30.0,36.0,null,9.0,1.0,null,45.0,40.0,36.0,19.0,3.0,null,42.0,28.0,null,34.0,45.5,18.0,32.0,26.0,40.0,24.0,22.0,30.0,null,42.0,30.0,16.0,27.0,51.0,null,38.0,22.0,19.0,20.5,18.0,29.0,59.0,24.0,44.0,19.0,33.0,29.0,22.0,30.0,44.0,37.0,54.0,null,62.0,30.0,null,3.0,52.0,40.0,36.0,16.0,25.0,null,25.0,37.0,null,7.0,65.0,28.0,16.0,19.0,null,33.0,30.0,22.0,42.0,36.0,24.0,null,23.5,null,null,19.0,null,0.92,30.0,28.0,43.0,54.0,22.0,27.0,null,61.0,45.5,38.0,16.0,null,29.0,45.0,45.0,2.0,28.0,25.0,36.0,3.0,42.0,23.0,null,15.0,25.0,null,28.0,40.0,29.0,35.0,null,30.0,25.0,18.0,19.0,22.0,27.0,20.0,19.0,32.0,null,18.0,1.0,null,36.0,21.0,28.0,22.0,46.0,23.0,39.0,26.0,28.0,34.0,51.0,3.0,21.0,null,null,null,44.0,30.0,null,21.0,29.0,18.0,null,null,32.0,28.0,17.0,50.0,64.0,31.0,20.0,25.0,null,4.0,34.0,52.0,36.0,null,30.0,49.0,null,29.0,65.0,null,48.0,34.0,47.0,48.0,null,38.0,null,56.0,null,null,38.0,null,34.0,29.0,22.0,9.0,null,50.0,25.0,58.0,30.0,9.0,null,21.0,55.0,71.0,21.0,null,null,24.0,17.0,18.0,null,28.0,26.0,29.0,null,36.0,24.0,47.0,null,32.0,22.0,null,null,40.5,null,39.0,23.0,null,17.0,45.0,null,32.0,50.0,64.0,null,33.0,8.0,17.0,27.0,null,22.0,62.0,null,null,40.0,28.0,null,24.0,19.0,null,32.0,62.0,36.0,16.0,19.0,32.0,54.0,36.0,null,47.0,60.0,22.0,null,35.0,47.0,37.0,36.0,49.0,null,49.0,null,null,44.0,35.0,36.0,30.0,27.0,null,null,35.0,34.0,26.0,27.0,42.0,20.0,21.0,21.0,61.0,57.0,26.0,null,80.0,51.0,32.0,null,32.0,31.0,null,20.0,null,48.0,19.0,56.0,null,null,21.0,24.0,null,23.0,58.0,50.0,40.0,47.0,36.0,20.0,32.0,25.0,null,43.0,31.0,70.0,31.0,null,18.0,24.5,36.0,27.0,20.0,14.0,60.0,25.0,14.0,19.0,18.0,31.0,null,25.0,60.0,52.0,44.0,49.0,42.0,35.0,25.0,26.0,39.0,42.0,null,null,48.0,29.0,52.0,19.0,null,33.0,17.0,34.0,50.0,27.0,20.0,25.0,11.0,null,23.0,23.0,28.5,35.0,null,null,null,36.0,24.0,31.0,70.0,16.0,19.0,31.0,6.0,33.0,23.0,0.67,28.0,18.0,34.0,null,41.0,20.0,16.0,null,null,32.0,24.0,48.0,null,18.0,null,null,29.0,null,25.0,25.0,8.0,1.0,46.0,null,16.0,null,25.0,39.0,30.0,34.0,11.0,0.42,27.0,31.0,39.0,39.0,26.0,39.0,35.0,30.5,null,31.0,43.0,10.0,27.0,38.0,2.0,null,null,1.0,null,0.83,null,23.0,18.0,21.0,null,32.0,null,20.0,16.0,34.5,17.0,42.0,null,35.0,28.0,4.0,74.0,51.0,null,41.0,21.0,24.0,31.0,null,4.0,26.0,33.0,47.0,20.0,19.0,null,33.0,28.0,25.0,27.0,26.0,32.0],\"y0\":\" \",\"yaxis\":\"y\",\"type\":\"box\"},{\"alignmentgroup\":\"True\",\"hovertemplate\":\"color=female<br>variable=%{x}<br>value=%{y}<extra></extra>\",\"legendgroup\":\"female\",\"marker\":{\"color\":\"#EF553B\"},\"name\":\"female\",\"notched\":false,\"offsetgroup\":\"female\",\"orientation\":\"v\",\"showlegend\":true,\"x\":[\"Age\",\"Age\",\"Age\",\"Age\",\"Age\",\"Age\",\"Age\",\"Age\",\"Age\",\"Age\",\"Age\",\"Age\",\"Age\",\"Age\",\"Age\",\"Age\",\"Age\",\"Age\",\"Age\",\"Age\",\"Age\",\"Age\",\"Age\",\"Age\",\"Age\",\"Age\",\"Age\",\"Age\",\"Age\",\"Age\",\"Age\",\"Age\",\"Age\",\"Age\",\"Age\",\"Age\",\"Age\",\"Age\",\"Age\",\"Age\",\"Age\",\"Age\",\"Age\",\"Age\",\"Age\",\"Age\",\"Age\",\"Age\",\"Age\",\"Age\",\"Age\",\"Age\",\"Age\",\"Age\",\"Age\",\"Age\",\"Age\",\"Age\",\"Age\",\"Age\",\"Age\",\"Age\",\"Age\",\"Age\",\"Age\",\"Age\",\"Age\",\"Age\",\"Age\",\"Age\",\"Age\",\"Age\",\"Age\",\"Age\",\"Age\",\"Age\",\"Age\",\"Age\",\"Age\",\"Age\",\"Age\",\"Age\",\"Age\",\"Age\",\"Age\",\"Age\",\"Age\",\"Age\",\"Age\",\"Age\",\"Age\",\"Age\",\"Age\",\"Age\",\"Age\",\"Age\",\"Age\",\"Age\",\"Age\",\"Age\",\"Age\",\"Age\",\"Age\",\"Age\",\"Age\",\"Age\",\"Age\",\"Age\",\"Age\",\"Age\",\"Age\",\"Age\",\"Age\",\"Age\",\"Age\",\"Age\",\"Age\",\"Age\",\"Age\",\"Age\",\"Age\",\"Age\",\"Age\",\"Age\",\"Age\",\"Age\",\"Age\",\"Age\",\"Age\",\"Age\",\"Age\",\"Age\",\"Age\",\"Age\",\"Age\",\"Age\",\"Age\",\"Age\",\"Age\",\"Age\",\"Age\",\"Age\",\"Age\",\"Age\",\"Age\",\"Age\",\"Age\",\"Age\",\"Age\",\"Age\",\"Age\",\"Age\",\"Age\",\"Age\",\"Age\",\"Age\",\"Age\",\"Age\",\"Age\",\"Age\",\"Age\",\"Age\",\"Age\",\"Age\",\"Age\",\"Age\",\"Age\",\"Age\",\"Age\",\"Age\",\"Age\",\"Age\",\"Age\",\"Age\",\"Age\",\"Age\",\"Age\",\"Age\",\"Age\",\"Age\",\"Age\",\"Age\",\"Age\",\"Age\",\"Age\",\"Age\",\"Age\",\"Age\",\"Age\",\"Age\",\"Age\",\"Age\",\"Age\",\"Age\",\"Age\",\"Age\",\"Age\",\"Age\",\"Age\",\"Age\",\"Age\",\"Age\",\"Age\",\"Age\",\"Age\",\"Age\",\"Age\",\"Age\",\"Age\",\"Age\",\"Age\",\"Age\",\"Age\",\"Age\",\"Age\",\"Age\",\"Age\",\"Age\",\"Age\",\"Age\",\"Age\",\"Age\",\"Age\",\"Age\",\"Age\",\"Age\",\"Age\",\"Age\",\"Age\",\"Age\",\"Age\",\"Age\",\"Age\",\"Age\",\"Age\",\"Age\",\"Age\",\"Age\",\"Age\",\"Age\",\"Age\",\"Age\",\"Age\",\"Age\",\"Age\",\"Age\",\"Age\",\"Age\",\"Age\",\"Age\",\"Age\",\"Age\",\"Age\",\"Age\",\"Age\",\"Age\",\"Age\",\"Age\",\"Age\",\"Age\",\"Age\",\"Age\",\"Age\",\"Age\",\"Age\",\"Age\",\"Age\",\"Age\",\"Age\",\"Age\",\"Age\",\"Age\",\"Age\",\"Age\",\"Age\",\"Age\",\"Age\",\"Age\",\"Age\",\"Age\",\"Age\",\"Age\",\"Age\",\"Age\",\"Age\",\"Age\",\"Age\",\"Age\",\"Age\",\"Age\",\"Age\",\"Age\",\"Age\",\"Age\",\"Age\",\"Age\",\"Age\",\"Age\",\"Age\",\"Age\",\"Age\",\"Age\",\"Age\",\"Age\",\"Age\",\"Age\",\"Age\",\"Age\",\"Age\",\"Age\",\"Age\",\"Age\",\"Age\",\"Age\"],\"x0\":\" \",\"xaxis\":\"x\",\"y\":[38.0,26.0,35.0,27.0,14.0,4.0,58.0,14.0,55.0,31.0,null,15.0,8.0,38.0,null,null,null,18.0,14.0,40.0,27.0,3.0,19.0,null,18.0,49.0,29.0,21.0,5.0,38.0,29.0,17.0,16.0,30.0,null,17.0,33.0,23.0,34.0,28.0,21.0,null,14.5,20.0,17.0,2.0,32.5,null,47.0,29.0,19.0,null,22.0,24.0,9.0,22.0,16.0,40.0,null,45.0,1.0,50.0,null,4.0,null,32.0,19.0,44.0,58.0,null,24.0,2.0,16.0,35.0,31.0,27.0,32.0,null,35.0,5.0,null,8.0,null,null,25.0,24.0,29.0,41.0,29.0,null,30.0,35.0,50.0,null,58.0,35.0,41.0,null,63.0,45.0,35.0,22.0,26.0,19.0,24.0,2.0,50.0,null,null,null,17.0,30.0,24.0,18.0,26.0,26.0,24.0,31.0,40.0,30.0,22.0,36.0,36.0,31.0,16.0,null,null,41.0,24.0,24.0,40.0,null,22.0,38.0,null,null,45.0,60.0,null,null,24.0,3.0,null,22.0,42.0,1.0,35.0,36.0,17.0,23.0,24.0,31.0,28.0,21.0,20.0,null,33.0,null,34.0,18.0,10.0,28.0,28.0,19.0,null,42.0,14.0,21.0,24.0,45.0,28.0,13.0,5.0,null,50.0,0.75,33.0,23.0,22.0,2.0,63.0,null,35.0,54.0,25.0,21.0,null,37.0,16.0,33.0,54.0,34.0,36.0,30.0,44.0,50.0,2.0,null,30.0,7.0,30.0,22.0,36.0,9.0,11.0,19.0,22.0,48.0,39.0,36.0,null,29.0,53.0,null,34.0,39.0,null,25.0,39.0,18.0,52.0,null,null,24.0,22.0,40.0,39.0,null,24.0,26.0,4.0,21.0,9.0,28.0,41.0,24.0,2.0,0.75,23.0,18.0,null,18.0,32.0,null,40.0,18.0,43.0,null,15.0,4.0,null,18.0,18.0,45.0,22.0,24.0,38.0,27.0,6.0,30.0,null,25.0,29.0,48.0,21.0,30.0,4.0,48.0,33.0,36.0,51.0,30.5,57.0,54.0,5.0,43.0,13.0,17.0,18.0,null,49.0,31.0,30.0,31.0,18.0,33.0,6.0,23.0,52.0,27.0,62.0,15.0,39.0,30.0,null,9.0,16.0,44.0,18.0,45.0,24.0,48.0,null,42.0,27.0,47.0,28.0,15.0,56.0,25.0,22.0,39.0,19.0,null],\"y0\":\" \",\"yaxis\":\"y\",\"type\":\"box\"}],                        {\"template\":{\"data\":{\"histogram2dcontour\":[{\"type\":\"histogram2dcontour\",\"colorbar\":{\"outlinewidth\":0,\"ticks\":\"\"},\"colorscale\":[[0.0,\"#0d0887\"],[0.1111111111111111,\"#46039f\"],[0.2222222222222222,\"#7201a8\"],[0.3333333333333333,\"#9c179e\"],[0.4444444444444444,\"#bd3786\"],[0.5555555555555556,\"#d8576b\"],[0.6666666666666666,\"#ed7953\"],[0.7777777777777778,\"#fb9f3a\"],[0.8888888888888888,\"#fdca26\"],[1.0,\"#f0f921\"]]}],\"choropleth\":[{\"type\":\"choropleth\",\"colorbar\":{\"outlinewidth\":0,\"ticks\":\"\"}}],\"histogram2d\":[{\"type\":\"histogram2d\",\"colorbar\":{\"outlinewidth\":0,\"ticks\":\"\"},\"colorscale\":[[0.0,\"#0d0887\"],[0.1111111111111111,\"#46039f\"],[0.2222222222222222,\"#7201a8\"],[0.3333333333333333,\"#9c179e\"],[0.4444444444444444,\"#bd3786\"],[0.5555555555555556,\"#d8576b\"],[0.6666666666666666,\"#ed7953\"],[0.7777777777777778,\"#fb9f3a\"],[0.8888888888888888,\"#fdca26\"],[1.0,\"#f0f921\"]]}],\"heatmap\":[{\"type\":\"heatmap\",\"colorbar\":{\"outlinewidth\":0,\"ticks\":\"\"},\"colorscale\":[[0.0,\"#0d0887\"],[0.1111111111111111,\"#46039f\"],[0.2222222222222222,\"#7201a8\"],[0.3333333333333333,\"#9c179e\"],[0.4444444444444444,\"#bd3786\"],[0.5555555555555556,\"#d8576b\"],[0.6666666666666666,\"#ed7953\"],[0.7777777777777778,\"#fb9f3a\"],[0.8888888888888888,\"#fdca26\"],[1.0,\"#f0f921\"]]}],\"heatmapgl\":[{\"type\":\"heatmapgl\",\"colorbar\":{\"outlinewidth\":0,\"ticks\":\"\"},\"colorscale\":[[0.0,\"#0d0887\"],[0.1111111111111111,\"#46039f\"],[0.2222222222222222,\"#7201a8\"],[0.3333333333333333,\"#9c179e\"],[0.4444444444444444,\"#bd3786\"],[0.5555555555555556,\"#d8576b\"],[0.6666666666666666,\"#ed7953\"],[0.7777777777777778,\"#fb9f3a\"],[0.8888888888888888,\"#fdca26\"],[1.0,\"#f0f921\"]]}],\"contourcarpet\":[{\"type\":\"contourcarpet\",\"colorbar\":{\"outlinewidth\":0,\"ticks\":\"\"}}],\"contour\":[{\"type\":\"contour\",\"colorbar\":{\"outlinewidth\":0,\"ticks\":\"\"},\"colorscale\":[[0.0,\"#0d0887\"],[0.1111111111111111,\"#46039f\"],[0.2222222222222222,\"#7201a8\"],[0.3333333333333333,\"#9c179e\"],[0.4444444444444444,\"#bd3786\"],[0.5555555555555556,\"#d8576b\"],[0.6666666666666666,\"#ed7953\"],[0.7777777777777778,\"#fb9f3a\"],[0.8888888888888888,\"#fdca26\"],[1.0,\"#f0f921\"]]}],\"surface\":[{\"type\":\"surface\",\"colorbar\":{\"outlinewidth\":0,\"ticks\":\"\"},\"colorscale\":[[0.0,\"#0d0887\"],[0.1111111111111111,\"#46039f\"],[0.2222222222222222,\"#7201a8\"],[0.3333333333333333,\"#9c179e\"],[0.4444444444444444,\"#bd3786\"],[0.5555555555555556,\"#d8576b\"],[0.6666666666666666,\"#ed7953\"],[0.7777777777777778,\"#fb9f3a\"],[0.8888888888888888,\"#fdca26\"],[1.0,\"#f0f921\"]]}],\"mesh3d\":[{\"type\":\"mesh3d\",\"colorbar\":{\"outlinewidth\":0,\"ticks\":\"\"}}],\"scatter\":[{\"fillpattern\":{\"fillmode\":\"overlay\",\"size\":10,\"solidity\":0.2},\"type\":\"scatter\"}],\"parcoords\":[{\"type\":\"parcoords\",\"line\":{\"colorbar\":{\"outlinewidth\":0,\"ticks\":\"\"}}}],\"scatterpolargl\":[{\"type\":\"scatterpolargl\",\"marker\":{\"colorbar\":{\"outlinewidth\":0,\"ticks\":\"\"}}}],\"bar\":[{\"error_x\":{\"color\":\"#2a3f5f\"},\"error_y\":{\"color\":\"#2a3f5f\"},\"marker\":{\"line\":{\"color\":\"#E5ECF6\",\"width\":0.5},\"pattern\":{\"fillmode\":\"overlay\",\"size\":10,\"solidity\":0.2}},\"type\":\"bar\"}],\"scattergeo\":[{\"type\":\"scattergeo\",\"marker\":{\"colorbar\":{\"outlinewidth\":0,\"ticks\":\"\"}}}],\"scatterpolar\":[{\"type\":\"scatterpolar\",\"marker\":{\"colorbar\":{\"outlinewidth\":0,\"ticks\":\"\"}}}],\"histogram\":[{\"marker\":{\"pattern\":{\"fillmode\":\"overlay\",\"size\":10,\"solidity\":0.2}},\"type\":\"histogram\"}],\"scattergl\":[{\"type\":\"scattergl\",\"marker\":{\"colorbar\":{\"outlinewidth\":0,\"ticks\":\"\"}}}],\"scatter3d\":[{\"type\":\"scatter3d\",\"line\":{\"colorbar\":{\"outlinewidth\":0,\"ticks\":\"\"}},\"marker\":{\"colorbar\":{\"outlinewidth\":0,\"ticks\":\"\"}}}],\"scattermapbox\":[{\"type\":\"scattermapbox\",\"marker\":{\"colorbar\":{\"outlinewidth\":0,\"ticks\":\"\"}}}],\"scatterternary\":[{\"type\":\"scatterternary\",\"marker\":{\"colorbar\":{\"outlinewidth\":0,\"ticks\":\"\"}}}],\"scattercarpet\":[{\"type\":\"scattercarpet\",\"marker\":{\"colorbar\":{\"outlinewidth\":0,\"ticks\":\"\"}}}],\"carpet\":[{\"aaxis\":{\"endlinecolor\":\"#2a3f5f\",\"gridcolor\":\"white\",\"linecolor\":\"white\",\"minorgridcolor\":\"white\",\"startlinecolor\":\"#2a3f5f\"},\"baxis\":{\"endlinecolor\":\"#2a3f5f\",\"gridcolor\":\"white\",\"linecolor\":\"white\",\"minorgridcolor\":\"white\",\"startlinecolor\":\"#2a3f5f\"},\"type\":\"carpet\"}],\"table\":[{\"cells\":{\"fill\":{\"color\":\"#EBF0F8\"},\"line\":{\"color\":\"white\"}},\"header\":{\"fill\":{\"color\":\"#C8D4E3\"},\"line\":{\"color\":\"white\"}},\"type\":\"table\"}],\"barpolar\":[{\"marker\":{\"line\":{\"color\":\"#E5ECF6\",\"width\":0.5},\"pattern\":{\"fillmode\":\"overlay\",\"size\":10,\"solidity\":0.2}},\"type\":\"barpolar\"}],\"pie\":[{\"automargin\":true,\"type\":\"pie\"}]},\"layout\":{\"autotypenumbers\":\"strict\",\"colorway\":[\"#636efa\",\"#EF553B\",\"#00cc96\",\"#ab63fa\",\"#FFA15A\",\"#19d3f3\",\"#FF6692\",\"#B6E880\",\"#FF97FF\",\"#FECB52\"],\"font\":{\"color\":\"#2a3f5f\"},\"hovermode\":\"closest\",\"hoverlabel\":{\"align\":\"left\"},\"paper_bgcolor\":\"white\",\"plot_bgcolor\":\"#E5ECF6\",\"polar\":{\"bgcolor\":\"#E5ECF6\",\"angularaxis\":{\"gridcolor\":\"white\",\"linecolor\":\"white\",\"ticks\":\"\"},\"radialaxis\":{\"gridcolor\":\"white\",\"linecolor\":\"white\",\"ticks\":\"\"}},\"ternary\":{\"bgcolor\":\"#E5ECF6\",\"aaxis\":{\"gridcolor\":\"white\",\"linecolor\":\"white\",\"ticks\":\"\"},\"baxis\":{\"gridcolor\":\"white\",\"linecolor\":\"white\",\"ticks\":\"\"},\"caxis\":{\"gridcolor\":\"white\",\"linecolor\":\"white\",\"ticks\":\"\"}},\"coloraxis\":{\"colorbar\":{\"outlinewidth\":0,\"ticks\":\"\"}},\"colorscale\":{\"sequential\":[[0.0,\"#0d0887\"],[0.1111111111111111,\"#46039f\"],[0.2222222222222222,\"#7201a8\"],[0.3333333333333333,\"#9c179e\"],[0.4444444444444444,\"#bd3786\"],[0.5555555555555556,\"#d8576b\"],[0.6666666666666666,\"#ed7953\"],[0.7777777777777778,\"#fb9f3a\"],[0.8888888888888888,\"#fdca26\"],[1.0,\"#f0f921\"]],\"sequentialminus\":[[0.0,\"#0d0887\"],[0.1111111111111111,\"#46039f\"],[0.2222222222222222,\"#7201a8\"],[0.3333333333333333,\"#9c179e\"],[0.4444444444444444,\"#bd3786\"],[0.5555555555555556,\"#d8576b\"],[0.6666666666666666,\"#ed7953\"],[0.7777777777777778,\"#fb9f3a\"],[0.8888888888888888,\"#fdca26\"],[1.0,\"#f0f921\"]],\"diverging\":[[0,\"#8e0152\"],[0.1,\"#c51b7d\"],[0.2,\"#de77ae\"],[0.3,\"#f1b6da\"],[0.4,\"#fde0ef\"],[0.5,\"#f7f7f7\"],[0.6,\"#e6f5d0\"],[0.7,\"#b8e186\"],[0.8,\"#7fbc41\"],[0.9,\"#4d9221\"],[1,\"#276419\"]]},\"xaxis\":{\"gridcolor\":\"white\",\"linecolor\":\"white\",\"ticks\":\"\",\"title\":{\"standoff\":15},\"zerolinecolor\":\"white\",\"automargin\":true,\"zerolinewidth\":2},\"yaxis\":{\"gridcolor\":\"white\",\"linecolor\":\"white\",\"ticks\":\"\",\"title\":{\"standoff\":15},\"zerolinecolor\":\"white\",\"automargin\":true,\"zerolinewidth\":2},\"scene\":{\"xaxis\":{\"backgroundcolor\":\"#E5ECF6\",\"gridcolor\":\"white\",\"linecolor\":\"white\",\"showbackground\":true,\"ticks\":\"\",\"zerolinecolor\":\"white\",\"gridwidth\":2},\"yaxis\":{\"backgroundcolor\":\"#E5ECF6\",\"gridcolor\":\"white\",\"linecolor\":\"white\",\"showbackground\":true,\"ticks\":\"\",\"zerolinecolor\":\"white\",\"gridwidth\":2},\"zaxis\":{\"backgroundcolor\":\"#E5ECF6\",\"gridcolor\":\"white\",\"linecolor\":\"white\",\"showbackground\":true,\"ticks\":\"\",\"zerolinecolor\":\"white\",\"gridwidth\":2}},\"shapedefaults\":{\"line\":{\"color\":\"#2a3f5f\"}},\"annotationdefaults\":{\"arrowcolor\":\"#2a3f5f\",\"arrowhead\":0,\"arrowwidth\":1},\"geo\":{\"bgcolor\":\"white\",\"landcolor\":\"#E5ECF6\",\"subunitcolor\":\"white\",\"showland\":true,\"showlakes\":true,\"lakecolor\":\"white\"},\"title\":{\"x\":0.05},\"mapbox\":{\"style\":\"light\"}}},\"xaxis\":{\"anchor\":\"y\",\"domain\":[0.0,1.0],\"title\":{\"text\":\"variable\"}},\"yaxis\":{\"anchor\":\"x\",\"domain\":[0.0,1.0],\"title\":{\"text\":\"value\"}},\"legend\":{\"title\":{\"text\":\"color\"},\"tracegroupgap\":0},\"margin\":{\"t\":60},\"boxmode\":\"group\"},                        {\"responsive\": true}                    ).then(function(){\n",
              "                            \n",
              "var gd = document.getElementById('465f28f7-775a-40c5-b5d2-982d7545d903');\n",
              "var x = new MutationObserver(function (mutations, observer) {{\n",
              "        var display = window.getComputedStyle(gd).display;\n",
              "        if (!display || display === 'none') {{\n",
              "            console.log([gd, 'removed!']);\n",
              "            Plotly.purge(gd);\n",
              "            observer.disconnect();\n",
              "        }}\n",
              "}});\n",
              "\n",
              "// Listen for the removal of the full notebook cells\n",
              "var notebookContainer = gd.closest('#notebook-container');\n",
              "if (notebookContainer) {{\n",
              "    x.observe(notebookContainer, {childList: true});\n",
              "}}\n",
              "\n",
              "// Listen for the clearing of the current output cell\n",
              "var outputEl = gd.closest('.output');\n",
              "if (outputEl) {{\n",
              "    x.observe(outputEl, {childList: true});\n",
              "}}\n",
              "\n",
              "                        })                };                            </script>        </div>\n",
              "</body>\n",
              "</html>"
            ]
          },
          "metadata": {}
        }
      ]
    },
    {
      "cell_type": "code",
      "source": [
        "px.box(df['Fare'])"
      ],
      "metadata": {
        "colab": {
          "base_uri": "https://localhost:8080/",
          "height": 542
        },
        "id": "EJP_Gtyo4kyn",
        "outputId": "f2b9955e-3a27-48d2-8e75-e82ab2920d08"
      },
      "execution_count": 45,
      "outputs": [
        {
          "output_type": "display_data",
          "data": {
            "text/html": [
              "<html>\n",
              "<head><meta charset=\"utf-8\" /></head>\n",
              "<body>\n",
              "    <div>            <script src=\"https://cdnjs.cloudflare.com/ajax/libs/mathjax/2.7.5/MathJax.js?config=TeX-AMS-MML_SVG\"></script><script type=\"text/javascript\">if (window.MathJax && window.MathJax.Hub && window.MathJax.Hub.Config) {window.MathJax.Hub.Config({SVG: {font: \"STIX-Web\"}});}</script>                <script type=\"text/javascript\">window.PlotlyConfig = {MathJaxConfig: 'local'};</script>\n",
              "        <script src=\"https://cdn.plot.ly/plotly-2.18.2.min.js\"></script>                <div id=\"e734a16c-91b0-43be-b78d-33361404fee2\" class=\"plotly-graph-div\" style=\"height:525px; width:100%;\"></div>            <script type=\"text/javascript\">                                    window.PLOTLYENV=window.PLOTLYENV || {};                                    if (document.getElementById(\"e734a16c-91b0-43be-b78d-33361404fee2\")) {                    Plotly.newPlot(                        \"e734a16c-91b0-43be-b78d-33361404fee2\",                        [{\"alignmentgroup\":\"True\",\"hovertemplate\":\"variable=%{x}<br>value=%{y}<extra></extra>\",\"legendgroup\":\"\",\"marker\":{\"color\":\"#636efa\"},\"name\":\"\",\"notched\":false,\"offsetgroup\":\"\",\"orientation\":\"v\",\"showlegend\":false,\"x\":[\"Fare\",\"Fare\",\"Fare\",\"Fare\",\"Fare\",\"Fare\",\"Fare\",\"Fare\",\"Fare\",\"Fare\",\"Fare\",\"Fare\",\"Fare\",\"Fare\",\"Fare\",\"Fare\",\"Fare\",\"Fare\",\"Fare\",\"Fare\",\"Fare\",\"Fare\",\"Fare\",\"Fare\",\"Fare\",\"Fare\",\"Fare\",\"Fare\",\"Fare\",\"Fare\",\"Fare\",\"Fare\",\"Fare\",\"Fare\",\"Fare\",\"Fare\",\"Fare\",\"Fare\",\"Fare\",\"Fare\",\"Fare\",\"Fare\",\"Fare\",\"Fare\",\"Fare\",\"Fare\",\"Fare\",\"Fare\",\"Fare\",\"Fare\",\"Fare\",\"Fare\",\"Fare\",\"Fare\",\"Fare\",\"Fare\",\"Fare\",\"Fare\",\"Fare\",\"Fare\",\"Fare\",\"Fare\",\"Fare\",\"Fare\",\"Fare\",\"Fare\",\"Fare\",\"Fare\",\"Fare\",\"Fare\",\"Fare\",\"Fare\",\"Fare\",\"Fare\",\"Fare\",\"Fare\",\"Fare\",\"Fare\",\"Fare\",\"Fare\",\"Fare\",\"Fare\",\"Fare\",\"Fare\",\"Fare\",\"Fare\",\"Fare\",\"Fare\",\"Fare\",\"Fare\",\"Fare\",\"Fare\",\"Fare\",\"Fare\",\"Fare\",\"Fare\",\"Fare\",\"Fare\",\"Fare\",\"Fare\",\"Fare\",\"Fare\",\"Fare\",\"Fare\",\"Fare\",\"Fare\",\"Fare\",\"Fare\",\"Fare\",\"Fare\",\"Fare\",\"Fare\",\"Fare\",\"Fare\",\"Fare\",\"Fare\",\"Fare\",\"Fare\",\"Fare\",\"Fare\",\"Fare\",\"Fare\",\"Fare\",\"Fare\",\"Fare\",\"Fare\",\"Fare\",\"Fare\",\"Fare\",\"Fare\",\"Fare\",\"Fare\",\"Fare\",\"Fare\",\"Fare\",\"Fare\",\"Fare\",\"Fare\",\"Fare\",\"Fare\",\"Fare\",\"Fare\",\"Fare\",\"Fare\",\"Fare\",\"Fare\",\"Fare\",\"Fare\",\"Fare\",\"Fare\",\"Fare\",\"Fare\",\"Fare\",\"Fare\",\"Fare\",\"Fare\",\"Fare\",\"Fare\",\"Fare\",\"Fare\",\"Fare\",\"Fare\",\"Fare\",\"Fare\",\"Fare\",\"Fare\",\"Fare\",\"Fare\",\"Fare\",\"Fare\",\"Fare\",\"Fare\",\"Fare\",\"Fare\",\"Fare\",\"Fare\",\"Fare\",\"Fare\",\"Fare\",\"Fare\",\"Fare\",\"Fare\",\"Fare\",\"Fare\",\"Fare\",\"Fare\",\"Fare\",\"Fare\",\"Fare\",\"Fare\",\"Fare\",\"Fare\",\"Fare\",\"Fare\",\"Fare\",\"Fare\",\"Fare\",\"Fare\",\"Fare\",\"Fare\",\"Fare\",\"Fare\",\"Fare\",\"Fare\",\"Fare\",\"Fare\",\"Fare\",\"Fare\",\"Fare\",\"Fare\",\"Fare\",\"Fare\",\"Fare\",\"Fare\",\"Fare\",\"Fare\",\"Fare\",\"Fare\",\"Fare\",\"Fare\",\"Fare\",\"Fare\",\"Fare\",\"Fare\",\"Fare\",\"Fare\",\"Fare\",\"Fare\",\"Fare\",\"Fare\",\"Fare\",\"Fare\",\"Fare\",\"Fare\",\"Fare\",\"Fare\",\"Fare\",\"Fare\",\"Fare\",\"Fare\",\"Fare\",\"Fare\",\"Fare\",\"Fare\",\"Fare\",\"Fare\",\"Fare\",\"Fare\",\"Fare\",\"Fare\",\"Fare\",\"Fare\",\"Fare\",\"Fare\",\"Fare\",\"Fare\",\"Fare\",\"Fare\",\"Fare\",\"Fare\",\"Fare\",\"Fare\",\"Fare\",\"Fare\",\"Fare\",\"Fare\",\"Fare\",\"Fare\",\"Fare\",\"Fare\",\"Fare\",\"Fare\",\"Fare\",\"Fare\",\"Fare\",\"Fare\",\"Fare\",\"Fare\",\"Fare\",\"Fare\",\"Fare\",\"Fare\",\"Fare\",\"Fare\",\"Fare\",\"Fare\",\"Fare\",\"Fare\",\"Fare\",\"Fare\",\"Fare\",\"Fare\",\"Fare\",\"Fare\",\"Fare\",\"Fare\",\"Fare\",\"Fare\",\"Fare\",\"Fare\",\"Fare\",\"Fare\",\"Fare\",\"Fare\",\"Fare\",\"Fare\",\"Fare\",\"Fare\",\"Fare\",\"Fare\",\"Fare\",\"Fare\",\"Fare\",\"Fare\",\"Fare\",\"Fare\",\"Fare\",\"Fare\",\"Fare\",\"Fare\",\"Fare\",\"Fare\",\"Fare\",\"Fare\",\"Fare\",\"Fare\",\"Fare\",\"Fare\",\"Fare\",\"Fare\",\"Fare\",\"Fare\",\"Fare\",\"Fare\",\"Fare\",\"Fare\",\"Fare\",\"Fare\",\"Fare\",\"Fare\",\"Fare\",\"Fare\",\"Fare\",\"Fare\",\"Fare\",\"Fare\",\"Fare\",\"Fare\",\"Fare\",\"Fare\",\"Fare\",\"Fare\",\"Fare\",\"Fare\",\"Fare\",\"Fare\",\"Fare\",\"Fare\",\"Fare\",\"Fare\",\"Fare\",\"Fare\",\"Fare\",\"Fare\",\"Fare\",\"Fare\",\"Fare\",\"Fare\",\"Fare\",\"Fare\",\"Fare\",\"Fare\",\"Fare\",\"Fare\",\"Fare\",\"Fare\",\"Fare\",\"Fare\",\"Fare\",\"Fare\",\"Fare\",\"Fare\",\"Fare\",\"Fare\",\"Fare\",\"Fare\",\"Fare\",\"Fare\",\"Fare\",\"Fare\",\"Fare\",\"Fare\",\"Fare\",\"Fare\",\"Fare\",\"Fare\",\"Fare\",\"Fare\",\"Fare\",\"Fare\",\"Fare\",\"Fare\",\"Fare\",\"Fare\",\"Fare\",\"Fare\",\"Fare\",\"Fare\",\"Fare\",\"Fare\",\"Fare\",\"Fare\",\"Fare\",\"Fare\",\"Fare\",\"Fare\",\"Fare\",\"Fare\",\"Fare\",\"Fare\",\"Fare\",\"Fare\",\"Fare\",\"Fare\",\"Fare\",\"Fare\",\"Fare\",\"Fare\",\"Fare\",\"Fare\",\"Fare\",\"Fare\",\"Fare\",\"Fare\",\"Fare\",\"Fare\",\"Fare\",\"Fare\",\"Fare\",\"Fare\",\"Fare\",\"Fare\",\"Fare\",\"Fare\",\"Fare\",\"Fare\",\"Fare\",\"Fare\",\"Fare\",\"Fare\",\"Fare\",\"Fare\",\"Fare\",\"Fare\",\"Fare\",\"Fare\",\"Fare\",\"Fare\",\"Fare\",\"Fare\",\"Fare\",\"Fare\",\"Fare\",\"Fare\",\"Fare\",\"Fare\",\"Fare\",\"Fare\",\"Fare\",\"Fare\",\"Fare\",\"Fare\",\"Fare\",\"Fare\",\"Fare\",\"Fare\",\"Fare\",\"Fare\",\"Fare\",\"Fare\",\"Fare\",\"Fare\",\"Fare\",\"Fare\",\"Fare\",\"Fare\",\"Fare\",\"Fare\",\"Fare\",\"Fare\",\"Fare\",\"Fare\",\"Fare\",\"Fare\",\"Fare\",\"Fare\",\"Fare\",\"Fare\",\"Fare\",\"Fare\",\"Fare\",\"Fare\",\"Fare\",\"Fare\",\"Fare\",\"Fare\",\"Fare\",\"Fare\",\"Fare\",\"Fare\",\"Fare\",\"Fare\",\"Fare\",\"Fare\",\"Fare\",\"Fare\",\"Fare\",\"Fare\",\"Fare\",\"Fare\",\"Fare\",\"Fare\",\"Fare\",\"Fare\",\"Fare\",\"Fare\",\"Fare\",\"Fare\",\"Fare\",\"Fare\",\"Fare\",\"Fare\",\"Fare\",\"Fare\",\"Fare\",\"Fare\",\"Fare\",\"Fare\",\"Fare\",\"Fare\",\"Fare\",\"Fare\",\"Fare\",\"Fare\",\"Fare\",\"Fare\",\"Fare\",\"Fare\",\"Fare\",\"Fare\",\"Fare\",\"Fare\",\"Fare\",\"Fare\",\"Fare\",\"Fare\",\"Fare\",\"Fare\",\"Fare\",\"Fare\",\"Fare\",\"Fare\",\"Fare\",\"Fare\",\"Fare\",\"Fare\",\"Fare\",\"Fare\",\"Fare\",\"Fare\",\"Fare\",\"Fare\",\"Fare\",\"Fare\",\"Fare\",\"Fare\",\"Fare\",\"Fare\",\"Fare\",\"Fare\",\"Fare\",\"Fare\",\"Fare\",\"Fare\",\"Fare\",\"Fare\",\"Fare\",\"Fare\",\"Fare\",\"Fare\",\"Fare\",\"Fare\",\"Fare\",\"Fare\",\"Fare\",\"Fare\",\"Fare\",\"Fare\",\"Fare\",\"Fare\",\"Fare\",\"Fare\",\"Fare\",\"Fare\",\"Fare\",\"Fare\",\"Fare\",\"Fare\",\"Fare\",\"Fare\",\"Fare\",\"Fare\",\"Fare\",\"Fare\",\"Fare\",\"Fare\",\"Fare\",\"Fare\",\"Fare\",\"Fare\",\"Fare\",\"Fare\",\"Fare\",\"Fare\",\"Fare\",\"Fare\",\"Fare\",\"Fare\",\"Fare\",\"Fare\",\"Fare\",\"Fare\",\"Fare\",\"Fare\",\"Fare\",\"Fare\",\"Fare\",\"Fare\",\"Fare\",\"Fare\",\"Fare\",\"Fare\",\"Fare\",\"Fare\",\"Fare\",\"Fare\",\"Fare\",\"Fare\",\"Fare\",\"Fare\",\"Fare\",\"Fare\",\"Fare\",\"Fare\",\"Fare\",\"Fare\",\"Fare\",\"Fare\",\"Fare\",\"Fare\",\"Fare\",\"Fare\",\"Fare\",\"Fare\",\"Fare\",\"Fare\",\"Fare\",\"Fare\",\"Fare\",\"Fare\",\"Fare\",\"Fare\",\"Fare\",\"Fare\",\"Fare\",\"Fare\",\"Fare\",\"Fare\",\"Fare\",\"Fare\",\"Fare\",\"Fare\",\"Fare\",\"Fare\",\"Fare\",\"Fare\",\"Fare\",\"Fare\",\"Fare\",\"Fare\",\"Fare\",\"Fare\",\"Fare\",\"Fare\",\"Fare\",\"Fare\",\"Fare\",\"Fare\",\"Fare\",\"Fare\",\"Fare\",\"Fare\",\"Fare\",\"Fare\",\"Fare\",\"Fare\",\"Fare\",\"Fare\",\"Fare\",\"Fare\",\"Fare\",\"Fare\",\"Fare\",\"Fare\",\"Fare\",\"Fare\",\"Fare\",\"Fare\",\"Fare\",\"Fare\",\"Fare\",\"Fare\",\"Fare\",\"Fare\",\"Fare\",\"Fare\",\"Fare\",\"Fare\",\"Fare\",\"Fare\",\"Fare\",\"Fare\",\"Fare\",\"Fare\",\"Fare\",\"Fare\",\"Fare\",\"Fare\",\"Fare\",\"Fare\",\"Fare\",\"Fare\",\"Fare\",\"Fare\",\"Fare\",\"Fare\",\"Fare\",\"Fare\",\"Fare\",\"Fare\",\"Fare\",\"Fare\",\"Fare\",\"Fare\",\"Fare\",\"Fare\",\"Fare\",\"Fare\",\"Fare\",\"Fare\",\"Fare\",\"Fare\",\"Fare\",\"Fare\",\"Fare\",\"Fare\",\"Fare\",\"Fare\",\"Fare\",\"Fare\",\"Fare\",\"Fare\",\"Fare\",\"Fare\",\"Fare\",\"Fare\",\"Fare\",\"Fare\",\"Fare\",\"Fare\",\"Fare\",\"Fare\",\"Fare\",\"Fare\",\"Fare\",\"Fare\",\"Fare\",\"Fare\",\"Fare\",\"Fare\",\"Fare\",\"Fare\",\"Fare\",\"Fare\",\"Fare\",\"Fare\",\"Fare\",\"Fare\",\"Fare\",\"Fare\",\"Fare\",\"Fare\",\"Fare\",\"Fare\",\"Fare\",\"Fare\",\"Fare\",\"Fare\",\"Fare\",\"Fare\",\"Fare\",\"Fare\",\"Fare\",\"Fare\",\"Fare\",\"Fare\",\"Fare\",\"Fare\",\"Fare\",\"Fare\",\"Fare\",\"Fare\",\"Fare\",\"Fare\",\"Fare\",\"Fare\",\"Fare\",\"Fare\",\"Fare\",\"Fare\",\"Fare\",\"Fare\",\"Fare\",\"Fare\",\"Fare\",\"Fare\",\"Fare\",\"Fare\",\"Fare\",\"Fare\",\"Fare\",\"Fare\",\"Fare\",\"Fare\",\"Fare\",\"Fare\",\"Fare\",\"Fare\",\"Fare\",\"Fare\",\"Fare\",\"Fare\",\"Fare\",\"Fare\",\"Fare\",\"Fare\",\"Fare\",\"Fare\",\"Fare\",\"Fare\",\"Fare\",\"Fare\",\"Fare\",\"Fare\",\"Fare\",\"Fare\",\"Fare\",\"Fare\",\"Fare\",\"Fare\",\"Fare\",\"Fare\",\"Fare\",\"Fare\",\"Fare\",\"Fare\",\"Fare\",\"Fare\",\"Fare\",\"Fare\",\"Fare\",\"Fare\",\"Fare\",\"Fare\",\"Fare\",\"Fare\",\"Fare\",\"Fare\",\"Fare\",\"Fare\",\"Fare\"],\"x0\":\" \",\"xaxis\":\"x\",\"y\":[7.25,71.2833,7.925,53.1,8.05,8.4583,51.8625,21.075,11.1333,30.0708,16.7,26.55,8.05,31.275,7.8542,16.0,29.125,13.0,18.0,7.225,26.0,13.0,8.0292,35.5,21.075,31.3875,7.225,263.0,7.8792,7.8958,27.7208,146.5208,7.75,10.5,82.1708,52.0,7.2292,8.05,18.0,11.2417,9.475,21.0,7.8958,41.5792,7.8792,8.05,15.5,7.75,21.6792,17.8,39.6875,7.8,76.7292,26.0,61.9792,35.5,10.5,7.2292,27.75,46.9,7.2292,80.0,83.475,27.9,27.7208,15.2458,10.5,8.1583,7.925,8.6625,10.5,46.9,73.5,14.4542,56.4958,7.65,7.8958,8.05,29.0,12.475,9.0,9.5,7.7875,47.1,10.5,15.85,34.375,8.05,263.0,8.05,8.05,7.8542,61.175,20.575,7.25,8.05,34.6542,63.3583,23.0,26.0,7.8958,7.8958,77.2875,8.6542,7.925,7.8958,7.65,7.775,7.8958,24.15,52.0,14.4542,8.05,9.825,14.4583,7.925,7.75,21.0,247.5208,31.275,73.5,8.05,30.0708,13.0,77.2875,11.2417,7.75,7.1417,22.3583,6.975,7.8958,7.05,14.5,26.0,13.0,15.0458,26.2833,53.1,9.2167,79.2,15.2458,7.75,15.85,6.75,11.5,36.75,7.7958,34.375,26.0,13.0,12.525,66.6,8.05,14.5,7.3125,61.3792,7.7333,8.05,8.6625,69.55,16.1,15.75,7.775,8.6625,39.6875,20.525,55.0,27.9,25.925,56.4958,33.5,29.125,11.1333,7.925,30.6958,7.8542,25.4667,28.7125,13.0,0.0,69.55,15.05,31.3875,39.0,22.025,50.0,15.5,26.55,15.5,7.8958,13.0,13.0,7.8542,26.0,27.7208,146.5208,7.75,8.4042,7.75,13.0,9.5,69.55,6.4958,7.225,8.05,10.4625,15.85,18.7875,7.75,31.0,7.05,21.0,7.25,13.0,7.75,113.275,7.925,27.0,76.2917,10.5,8.05,13.0,8.05,7.8958,90.0,9.35,10.5,7.25,13.0,25.4667,83.475,7.775,13.5,31.3875,10.5,7.55,26.0,26.25,10.5,12.275,14.4542,15.5,10.5,7.125,7.225,90.0,7.775,14.5,52.5542,26.0,7.25,10.4625,26.55,16.1,20.2125,15.2458,79.2,86.5,512.3292,26.0,7.75,31.3875,79.65,0.0,7.75,10.5,39.6875,7.775,153.4625,135.6333,31.0,0.0,19.5,29.7,7.75,77.9583,7.75,0.0,29.125,20.25,7.75,7.8542,9.5,8.05,26.0,8.6625,9.5,7.8958,13.0,7.75,78.85,91.0792,12.875,8.85,7.8958,27.7208,7.2292,151.55,30.5,247.5208,7.75,23.25,0.0,12.35,8.05,151.55,110.8833,108.9,24.0,56.9292,83.1583,262.375,26.0,7.8958,26.25,7.8542,26.0,14.0,164.8667,134.5,7.25,7.8958,12.35,29.0,69.55,135.6333,6.2375,13.0,20.525,57.9792,23.25,28.5,153.4625,18.0,133.65,7.8958,66.6,134.5,8.05,35.5,26.0,263.0,13.0,13.0,13.0,13.0,13.0,16.1,15.9,8.6625,9.225,35.0,7.2292,17.8,7.225,9.5,55.0,13.0,7.8792,7.8792,27.9,27.7208,14.4542,7.05,15.5,7.25,75.25,7.2292,7.75,69.3,55.4417,6.4958,8.05,135.6333,21.075,82.1708,7.25,211.5,4.0125,7.775,227.525,15.7417,7.925,52.0,7.8958,73.5,46.9,13.0,7.7292,12.0,120.0,7.7958,7.925,113.275,16.7,7.7958,7.8542,26.0,10.5,12.65,7.925,8.05,9.825,15.85,8.6625,21.0,7.75,18.75,7.775,25.4667,7.8958,6.8583,90.0,0.0,7.925,8.05,32.5,13.0,13.0,24.15,7.8958,7.7333,7.875,14.4,20.2125,7.25,26.0,26.0,7.75,8.05,26.55,16.1,26.0,7.125,55.9,120.0,34.375,18.75,263.0,10.5,26.25,9.5,7.775,13.0,8.1125,81.8583,19.5,26.55,19.2583,30.5,27.75,19.9667,27.75,89.1042,8.05,7.8958,26.55,51.8625,10.5,7.75,26.55,8.05,38.5,13.0,8.05,7.05,0.0,26.55,7.725,19.2583,7.25,8.6625,27.75,13.7917,9.8375,52.0,21.0,7.0458,7.5208,12.2875,46.9,0.0,8.05,9.5875,91.0792,25.4667,90.0,29.7,8.05,15.9,19.9667,7.25,30.5,49.5042,8.05,14.4583,78.2667,15.1,151.55,7.7958,8.6625,7.75,7.6292,9.5875,86.5,108.9,26.0,26.55,22.525,56.4958,7.75,8.05,26.2875,59.4,7.4958,34.0208,10.5,24.15,26.0,7.8958,93.5,7.8958,7.225,57.9792,7.2292,7.75,10.5,221.7792,7.925,11.5,26.0,7.2292,7.2292,22.3583,8.6625,26.25,26.55,106.425,14.5,49.5,71.0,31.275,31.275,26.0,106.425,26.0,26.0,13.8625,20.525,36.75,110.8833,26.0,7.8292,7.225,7.775,26.55,39.6,227.525,79.65,17.4,7.75,7.8958,13.5,8.05,8.05,24.15,7.8958,21.075,7.2292,7.8542,10.5,51.4792,26.3875,7.75,8.05,14.5,13.0,55.9,14.4583,7.925,30.0,110.8833,26.0,40.125,8.7125,79.65,15.0,79.2,8.05,8.05,7.125,78.2667,7.25,7.75,26.0,24.15,33.0,0.0,7.225,56.9292,27.0,7.8958,42.4,8.05,26.55,15.55,7.8958,30.5,41.5792,153.4625,31.275,7.05,15.5,7.75,8.05,65.0,14.4,16.1,39.0,10.5,14.4542,52.5542,15.7417,7.8542,16.1,32.3208,12.35,77.9583,7.8958,7.7333,30.0,7.0542,30.5,0.0,27.9,13.0,7.925,26.25,39.6875,16.1,7.8542,69.3,27.9,56.4958,19.2583,76.7292,7.8958,35.5,7.55,7.55,7.8958,23.0,8.4333,7.8292,6.75,73.5,7.8958,15.5,13.0,113.275,133.65,7.225,25.5875,7.4958,7.925,73.5,13.0,7.775,8.05,52.0,39.0,52.0,10.5,13.0,0.0,7.775,8.05,9.8417,46.9,512.3292,8.1375,76.7292,9.225,46.9,39.0,41.5792,39.6875,10.1708,7.7958,211.3375,57.0,13.4167,56.4958,7.225,26.55,13.5,8.05,7.7333,110.8833,7.65,227.525,26.2875,14.4542,7.7417,7.8542,26.0,13.5,26.2875,151.55,15.2458,49.5042,26.55,52.0,9.4833,13.0,7.65,227.525,10.5,15.5,7.775,33.0,7.0542,13.0,13.0,53.1,8.6625,21.0,7.7375,26.0,7.925,211.3375,18.7875,0.0,13.0,13.0,16.1,34.375,512.3292,7.8958,7.8958,30.0,78.85,262.375,16.1,7.925,71.0,20.25,13.0,53.1,7.75,23.0,12.475,9.5,7.8958,65.0,14.5,7.7958,11.5,8.05,86.5,14.5,7.125,7.2292,120.0,7.775,77.9583,39.6,7.75,24.15,8.3625,9.5,7.8542,10.5,7.225,23.0,7.75,7.75,12.475,7.7375,211.3375,7.2292,57.0,30.0,23.45,7.05,7.25,7.4958,29.125,20.575,79.2,7.75,26.0,69.55,30.6958,7.8958,13.0,25.9292,8.6833,7.2292,24.15,13.0,26.25,120.0,8.5167,6.975,7.775,0.0,7.775,13.0,53.1,7.8875,24.15,10.5,31.275,8.05,0.0,7.925,37.0042,6.45,27.9,93.5,8.6625,0.0,12.475,39.6875,6.95,56.4958,37.0042,7.75,80.0,14.4542,18.75,7.2292,7.8542,8.3,83.1583,8.6625,8.05,56.4958,29.7,7.925,10.5,31.0,6.4375,8.6625,7.55,69.55,7.8958,33.0,89.1042,31.275,7.775,15.2458,39.4,26.0,9.35,164.8667,26.55,19.2583,7.2292,14.1083,11.5,25.9292,69.55,13.0,13.0,13.8583,50.4958,9.5,11.1333,7.8958,52.5542,5.0,9.0,24.0,7.225,9.8458,7.8958,7.8958,83.1583,26.0,7.8958,10.5167,10.5,7.05,29.125,13.0,30.0,23.45,30.0,7.75],\"y0\":\" \",\"yaxis\":\"y\",\"type\":\"box\"}],                        {\"template\":{\"data\":{\"histogram2dcontour\":[{\"type\":\"histogram2dcontour\",\"colorbar\":{\"outlinewidth\":0,\"ticks\":\"\"},\"colorscale\":[[0.0,\"#0d0887\"],[0.1111111111111111,\"#46039f\"],[0.2222222222222222,\"#7201a8\"],[0.3333333333333333,\"#9c179e\"],[0.4444444444444444,\"#bd3786\"],[0.5555555555555556,\"#d8576b\"],[0.6666666666666666,\"#ed7953\"],[0.7777777777777778,\"#fb9f3a\"],[0.8888888888888888,\"#fdca26\"],[1.0,\"#f0f921\"]]}],\"choropleth\":[{\"type\":\"choropleth\",\"colorbar\":{\"outlinewidth\":0,\"ticks\":\"\"}}],\"histogram2d\":[{\"type\":\"histogram2d\",\"colorbar\":{\"outlinewidth\":0,\"ticks\":\"\"},\"colorscale\":[[0.0,\"#0d0887\"],[0.1111111111111111,\"#46039f\"],[0.2222222222222222,\"#7201a8\"],[0.3333333333333333,\"#9c179e\"],[0.4444444444444444,\"#bd3786\"],[0.5555555555555556,\"#d8576b\"],[0.6666666666666666,\"#ed7953\"],[0.7777777777777778,\"#fb9f3a\"],[0.8888888888888888,\"#fdca26\"],[1.0,\"#f0f921\"]]}],\"heatmap\":[{\"type\":\"heatmap\",\"colorbar\":{\"outlinewidth\":0,\"ticks\":\"\"},\"colorscale\":[[0.0,\"#0d0887\"],[0.1111111111111111,\"#46039f\"],[0.2222222222222222,\"#7201a8\"],[0.3333333333333333,\"#9c179e\"],[0.4444444444444444,\"#bd3786\"],[0.5555555555555556,\"#d8576b\"],[0.6666666666666666,\"#ed7953\"],[0.7777777777777778,\"#fb9f3a\"],[0.8888888888888888,\"#fdca26\"],[1.0,\"#f0f921\"]]}],\"heatmapgl\":[{\"type\":\"heatmapgl\",\"colorbar\":{\"outlinewidth\":0,\"ticks\":\"\"},\"colorscale\":[[0.0,\"#0d0887\"],[0.1111111111111111,\"#46039f\"],[0.2222222222222222,\"#7201a8\"],[0.3333333333333333,\"#9c179e\"],[0.4444444444444444,\"#bd3786\"],[0.5555555555555556,\"#d8576b\"],[0.6666666666666666,\"#ed7953\"],[0.7777777777777778,\"#fb9f3a\"],[0.8888888888888888,\"#fdca26\"],[1.0,\"#f0f921\"]]}],\"contourcarpet\":[{\"type\":\"contourcarpet\",\"colorbar\":{\"outlinewidth\":0,\"ticks\":\"\"}}],\"contour\":[{\"type\":\"contour\",\"colorbar\":{\"outlinewidth\":0,\"ticks\":\"\"},\"colorscale\":[[0.0,\"#0d0887\"],[0.1111111111111111,\"#46039f\"],[0.2222222222222222,\"#7201a8\"],[0.3333333333333333,\"#9c179e\"],[0.4444444444444444,\"#bd3786\"],[0.5555555555555556,\"#d8576b\"],[0.6666666666666666,\"#ed7953\"],[0.7777777777777778,\"#fb9f3a\"],[0.8888888888888888,\"#fdca26\"],[1.0,\"#f0f921\"]]}],\"surface\":[{\"type\":\"surface\",\"colorbar\":{\"outlinewidth\":0,\"ticks\":\"\"},\"colorscale\":[[0.0,\"#0d0887\"],[0.1111111111111111,\"#46039f\"],[0.2222222222222222,\"#7201a8\"],[0.3333333333333333,\"#9c179e\"],[0.4444444444444444,\"#bd3786\"],[0.5555555555555556,\"#d8576b\"],[0.6666666666666666,\"#ed7953\"],[0.7777777777777778,\"#fb9f3a\"],[0.8888888888888888,\"#fdca26\"],[1.0,\"#f0f921\"]]}],\"mesh3d\":[{\"type\":\"mesh3d\",\"colorbar\":{\"outlinewidth\":0,\"ticks\":\"\"}}],\"scatter\":[{\"fillpattern\":{\"fillmode\":\"overlay\",\"size\":10,\"solidity\":0.2},\"type\":\"scatter\"}],\"parcoords\":[{\"type\":\"parcoords\",\"line\":{\"colorbar\":{\"outlinewidth\":0,\"ticks\":\"\"}}}],\"scatterpolargl\":[{\"type\":\"scatterpolargl\",\"marker\":{\"colorbar\":{\"outlinewidth\":0,\"ticks\":\"\"}}}],\"bar\":[{\"error_x\":{\"color\":\"#2a3f5f\"},\"error_y\":{\"color\":\"#2a3f5f\"},\"marker\":{\"line\":{\"color\":\"#E5ECF6\",\"width\":0.5},\"pattern\":{\"fillmode\":\"overlay\",\"size\":10,\"solidity\":0.2}},\"type\":\"bar\"}],\"scattergeo\":[{\"type\":\"scattergeo\",\"marker\":{\"colorbar\":{\"outlinewidth\":0,\"ticks\":\"\"}}}],\"scatterpolar\":[{\"type\":\"scatterpolar\",\"marker\":{\"colorbar\":{\"outlinewidth\":0,\"ticks\":\"\"}}}],\"histogram\":[{\"marker\":{\"pattern\":{\"fillmode\":\"overlay\",\"size\":10,\"solidity\":0.2}},\"type\":\"histogram\"}],\"scattergl\":[{\"type\":\"scattergl\",\"marker\":{\"colorbar\":{\"outlinewidth\":0,\"ticks\":\"\"}}}],\"scatter3d\":[{\"type\":\"scatter3d\",\"line\":{\"colorbar\":{\"outlinewidth\":0,\"ticks\":\"\"}},\"marker\":{\"colorbar\":{\"outlinewidth\":0,\"ticks\":\"\"}}}],\"scattermapbox\":[{\"type\":\"scattermapbox\",\"marker\":{\"colorbar\":{\"outlinewidth\":0,\"ticks\":\"\"}}}],\"scatterternary\":[{\"type\":\"scatterternary\",\"marker\":{\"colorbar\":{\"outlinewidth\":0,\"ticks\":\"\"}}}],\"scattercarpet\":[{\"type\":\"scattercarpet\",\"marker\":{\"colorbar\":{\"outlinewidth\":0,\"ticks\":\"\"}}}],\"carpet\":[{\"aaxis\":{\"endlinecolor\":\"#2a3f5f\",\"gridcolor\":\"white\",\"linecolor\":\"white\",\"minorgridcolor\":\"white\",\"startlinecolor\":\"#2a3f5f\"},\"baxis\":{\"endlinecolor\":\"#2a3f5f\",\"gridcolor\":\"white\",\"linecolor\":\"white\",\"minorgridcolor\":\"white\",\"startlinecolor\":\"#2a3f5f\"},\"type\":\"carpet\"}],\"table\":[{\"cells\":{\"fill\":{\"color\":\"#EBF0F8\"},\"line\":{\"color\":\"white\"}},\"header\":{\"fill\":{\"color\":\"#C8D4E3\"},\"line\":{\"color\":\"white\"}},\"type\":\"table\"}],\"barpolar\":[{\"marker\":{\"line\":{\"color\":\"#E5ECF6\",\"width\":0.5},\"pattern\":{\"fillmode\":\"overlay\",\"size\":10,\"solidity\":0.2}},\"type\":\"barpolar\"}],\"pie\":[{\"automargin\":true,\"type\":\"pie\"}]},\"layout\":{\"autotypenumbers\":\"strict\",\"colorway\":[\"#636efa\",\"#EF553B\",\"#00cc96\",\"#ab63fa\",\"#FFA15A\",\"#19d3f3\",\"#FF6692\",\"#B6E880\",\"#FF97FF\",\"#FECB52\"],\"font\":{\"color\":\"#2a3f5f\"},\"hovermode\":\"closest\",\"hoverlabel\":{\"align\":\"left\"},\"paper_bgcolor\":\"white\",\"plot_bgcolor\":\"#E5ECF6\",\"polar\":{\"bgcolor\":\"#E5ECF6\",\"angularaxis\":{\"gridcolor\":\"white\",\"linecolor\":\"white\",\"ticks\":\"\"},\"radialaxis\":{\"gridcolor\":\"white\",\"linecolor\":\"white\",\"ticks\":\"\"}},\"ternary\":{\"bgcolor\":\"#E5ECF6\",\"aaxis\":{\"gridcolor\":\"white\",\"linecolor\":\"white\",\"ticks\":\"\"},\"baxis\":{\"gridcolor\":\"white\",\"linecolor\":\"white\",\"ticks\":\"\"},\"caxis\":{\"gridcolor\":\"white\",\"linecolor\":\"white\",\"ticks\":\"\"}},\"coloraxis\":{\"colorbar\":{\"outlinewidth\":0,\"ticks\":\"\"}},\"colorscale\":{\"sequential\":[[0.0,\"#0d0887\"],[0.1111111111111111,\"#46039f\"],[0.2222222222222222,\"#7201a8\"],[0.3333333333333333,\"#9c179e\"],[0.4444444444444444,\"#bd3786\"],[0.5555555555555556,\"#d8576b\"],[0.6666666666666666,\"#ed7953\"],[0.7777777777777778,\"#fb9f3a\"],[0.8888888888888888,\"#fdca26\"],[1.0,\"#f0f921\"]],\"sequentialminus\":[[0.0,\"#0d0887\"],[0.1111111111111111,\"#46039f\"],[0.2222222222222222,\"#7201a8\"],[0.3333333333333333,\"#9c179e\"],[0.4444444444444444,\"#bd3786\"],[0.5555555555555556,\"#d8576b\"],[0.6666666666666666,\"#ed7953\"],[0.7777777777777778,\"#fb9f3a\"],[0.8888888888888888,\"#fdca26\"],[1.0,\"#f0f921\"]],\"diverging\":[[0,\"#8e0152\"],[0.1,\"#c51b7d\"],[0.2,\"#de77ae\"],[0.3,\"#f1b6da\"],[0.4,\"#fde0ef\"],[0.5,\"#f7f7f7\"],[0.6,\"#e6f5d0\"],[0.7,\"#b8e186\"],[0.8,\"#7fbc41\"],[0.9,\"#4d9221\"],[1,\"#276419\"]]},\"xaxis\":{\"gridcolor\":\"white\",\"linecolor\":\"white\",\"ticks\":\"\",\"title\":{\"standoff\":15},\"zerolinecolor\":\"white\",\"automargin\":true,\"zerolinewidth\":2},\"yaxis\":{\"gridcolor\":\"white\",\"linecolor\":\"white\",\"ticks\":\"\",\"title\":{\"standoff\":15},\"zerolinecolor\":\"white\",\"automargin\":true,\"zerolinewidth\":2},\"scene\":{\"xaxis\":{\"backgroundcolor\":\"#E5ECF6\",\"gridcolor\":\"white\",\"linecolor\":\"white\",\"showbackground\":true,\"ticks\":\"\",\"zerolinecolor\":\"white\",\"gridwidth\":2},\"yaxis\":{\"backgroundcolor\":\"#E5ECF6\",\"gridcolor\":\"white\",\"linecolor\":\"white\",\"showbackground\":true,\"ticks\":\"\",\"zerolinecolor\":\"white\",\"gridwidth\":2},\"zaxis\":{\"backgroundcolor\":\"#E5ECF6\",\"gridcolor\":\"white\",\"linecolor\":\"white\",\"showbackground\":true,\"ticks\":\"\",\"zerolinecolor\":\"white\",\"gridwidth\":2}},\"shapedefaults\":{\"line\":{\"color\":\"#2a3f5f\"}},\"annotationdefaults\":{\"arrowcolor\":\"#2a3f5f\",\"arrowhead\":0,\"arrowwidth\":1},\"geo\":{\"bgcolor\":\"white\",\"landcolor\":\"#E5ECF6\",\"subunitcolor\":\"white\",\"showland\":true,\"showlakes\":true,\"lakecolor\":\"white\"},\"title\":{\"x\":0.05},\"mapbox\":{\"style\":\"light\"}}},\"xaxis\":{\"anchor\":\"y\",\"domain\":[0.0,1.0],\"title\":{\"text\":\"variable\"}},\"yaxis\":{\"anchor\":\"x\",\"domain\":[0.0,1.0],\"title\":{\"text\":\"value\"}},\"legend\":{\"tracegroupgap\":0},\"margin\":{\"t\":60},\"boxmode\":\"group\"},                        {\"responsive\": true}                    ).then(function(){\n",
              "                            \n",
              "var gd = document.getElementById('e734a16c-91b0-43be-b78d-33361404fee2');\n",
              "var x = new MutationObserver(function (mutations, observer) {{\n",
              "        var display = window.getComputedStyle(gd).display;\n",
              "        if (!display || display === 'none') {{\n",
              "            console.log([gd, 'removed!']);\n",
              "            Plotly.purge(gd);\n",
              "            observer.disconnect();\n",
              "        }}\n",
              "}});\n",
              "\n",
              "// Listen for the removal of the full notebook cells\n",
              "var notebookContainer = gd.closest('#notebook-container');\n",
              "if (notebookContainer) {{\n",
              "    x.observe(notebookContainer, {childList: true});\n",
              "}}\n",
              "\n",
              "// Listen for the clearing of the current output cell\n",
              "var outputEl = gd.closest('.output');\n",
              "if (outputEl) {{\n",
              "    x.observe(outputEl, {childList: true});\n",
              "}}\n",
              "\n",
              "                        })                };                            </script>        </div>\n",
              "</body>\n",
              "</html>"
            ]
          },
          "metadata": {}
        }
      ]
    },
    {
      "cell_type": "code",
      "source": [
        "df['Age'].skew()"
      ],
      "metadata": {
        "colab": {
          "base_uri": "https://localhost:8080/"
        },
        "id": "RYbcKpl56o0s",
        "outputId": "0fe1365d-c0d5-4f16-c545-f4ff54a293d1"
      },
      "execution_count": 46,
      "outputs": [
        {
          "output_type": "execute_result",
          "data": {
            "text/plain": [
              "0.38910778230082704"
            ]
          },
          "metadata": {},
          "execution_count": 46
        }
      ]
    },
    {
      "cell_type": "markdown",
      "source": [
        "It tells about the distribution of the data. If it's 0 then the distribution is normal and data is not skewed but if it is negative then data is left skewed and if positive then right-skewed."
      ],
      "metadata": {
        "id": "P2nGrKVO8SDv"
      }
    },
    {
      "cell_type": "code",
      "source": [
        "df['Fare'].skew()"
      ],
      "metadata": {
        "colab": {
          "base_uri": "https://localhost:8080/"
        },
        "id": "E-ycxn-Q6q5V",
        "outputId": "c8762ba3-93cf-4b5f-9cff-b03a147678ee"
      },
      "execution_count": 47,
      "outputs": [
        {
          "output_type": "execute_result",
          "data": {
            "text/plain": [
              "4.787316519674893"
            ]
          },
          "metadata": {},
          "execution_count": 47
        }
      ]
    },
    {
      "cell_type": "code",
      "source": [],
      "metadata": {
        "id": "iIl2Xy-h6tHy"
      },
      "execution_count": null,
      "outputs": []
    }
  ]
}